{
 "cells": [
  {
   "cell_type": "markdown",
   "metadata": {
    "colab_type": "text",
    "id": "LC15HlaVwPHd"
   },
   "source": [
    "# Laboratorio 4. EAE253b\n",
    "<hr/>\n",
    "\n",
    "**Antes de comenzar:**\n",
    "\n",
    "- **DEBE trabajar en su equipo local. Si no lo ha hecho, descargue Anaconda e instalelo en su equipo. Link para descargar: https://www.anaconda.com/distribution/**\n",
    "\n",
    "- Laboratorio debe ser realizado **de forma individual**. Obviamente, se pueden discutir ideas, pero cualquier intercambio de códigos **no está permitido**.\n",
    "- Sólo se evaluarán secciones \"**TAREAS**\"; pero se recomienda realizar secciones **EJERCICIOS**\n",
    "\n",
    "**Instrucciones de entrega:**\n",
    "\n",
    "- Debe entregar este laboratorio por WebCurso, en buzón de tareas. Descargar archivo \".ipynb\" a su equipo y luego subirlo a WebCurso.\n",
    "- **Debe trabajar en su equipo local. Si no lo ha hecho, descargue Anaconda e instalelo en su equipo. Link para descargar: https://www.anaconda.com/distribution/**\n",
    "- NO es necesario compartir el notebook por Colab Research. Solo subir su archivo \".ipynb\" local.\n",
    "- Plazo máximo de entrega: **Viernes 26 de abril, 5pm.**\n"
   ]
  },
  {
   "cell_type": "markdown",
   "metadata": {
    "colab_type": "text",
    "id": "OxRXN_HmvJOy"
   },
   "source": [
    "## Programación orientada a objetos\n",
    "\n",
    "Las aplicaciones de la POO a problemas de economía y negocios es bastante incipiente, pero muy probablemente será un paradigma cada vez más utilizado. Algunos ejemplos de aplicaciones interesantes se pueden encontrar aquí:\n",
    "\n",
    "https://lectures.quantecon.org/py/python_oop.html\n",
    "\n",
    "\n",
    "En los siguientes ejercicios aprenderemos a crear nuestros propios objetos, y definir sus atributos y métodos."
   ]
  },
  {
   "cell_type": "code",
   "execution_count": null,
   "metadata": {
    "colab": {},
    "colab_type": "code",
    "collapsed": true,
    "id": "7DMoXWl4wy_-"
   },
   "outputs": [],
   "source": [
    "# Ejemplo 1: Definicion de un objeto \"Punto\"\n",
    "\n",
    "class Punto():\n",
    "    '''\n",
    "    Este objeto permite \"modelar\" un punto en el plano\n",
    "    cartesiano (x, y)\n",
    "    '''\n",
    "    def __init__(self, x, y):\n",
    "        self.x = x\n",
    "        self.y = y\n",
    "        self.tipo = 'soy un punto'\n",
    "        \n",
    "    def __repr__(self):\n",
    "        return '{} en coordenada ({},{})'.format(self.tipo, self.x, self.y)\n",
    "   "
   ]
  },
  {
   "cell_type": "markdown",
   "metadata": {
    "colab_type": "text",
    "id": "Yzl6UW4B9rHQ"
   },
   "source": [
    "El objeto punto previamente definido contempla dos atributos (x e y) que son definidos externamente por el programador al momento de crear el objeto. Además, tiene un atributo \"por defecto\" -o sea, no se define externamente- que en este caso identifica el tipo de objeto del que se trata."
   ]
  },
  {
   "cell_type": "code",
   "execution_count": null,
   "metadata": {
    "colab": {
     "base_uri": "https://localhost:8080/",
     "height": 67
    },
    "colab_type": "code",
    "id": "AtpOakb8qEnT",
    "outputId": "146225ea-b4cc-479c-b427-82697460fae6"
   },
   "outputs": [],
   "source": [
    "# probando objeto\n",
    "\n",
    "p1 = Punto(2, 3)\n",
    "p2 = Punto(4, 2)\n",
    "\n",
    "print(p1)\n",
    "print(p2)\n",
    "\n",
    "print(p2.tipo)"
   ]
  },
  {
   "cell_type": "markdown",
   "metadata": {
    "colab_type": "text",
    "id": "_Xn95BMhq_s2"
   },
   "source": [
    "Podemos enriquecer nuestros objetos, con funciones (\"métodos\") que nos permitan interactuar con la información contenida en el objeto, con otra información externa al objeto, o con otros objetos. \n",
    "\n",
    "Por ejemplo, en el caso del objeto Punto, podríamos querer saber si dos objetos \"punto\" se encuentran en la misma coordenada X o no:"
   ]
  },
  {
   "cell_type": "code",
   "execution_count": null,
   "metadata": {
    "colab": {},
    "colab_type": "code",
    "collapsed": true,
    "id": "AhtPZi3Zq_T2"
   },
   "outputs": [],
   "source": [
    "# Ejemplo 1:\n",
    "\n",
    "class Punto1():\n",
    "    def __init__(self, x, y):\n",
    "        self.x = x\n",
    "        self.y = y\n",
    "    \n",
    "    def mismo_x(self, other):\n",
    "        'Esta funcion nos permite saber si dos Puntos tienen el mismo x'\n",
    "        if self.x == other.x:\n",
    "            return True\n",
    "        else:\n",
    "            return False\n",
    "        \n",
    "    def __repr__(self):\n",
    "        return 'punto en coordenada ({},{})'.format(self.x, self.y)\n",
    "    "
   ]
  },
  {
   "cell_type": "code",
   "execution_count": null,
   "metadata": {
    "colab": {
     "base_uri": "https://localhost:8080/",
     "height": 118
    },
    "colab_type": "code",
    "id": "cW3K-ZEUq1Vm",
    "outputId": "e3fc8b6f-8aff-431f-bd0a-156f0f5bc269"
   },
   "outputs": [],
   "source": [
    "# probando nuevo objeto punto\n",
    "\n",
    "p1 = Punto2(2, 3)\n",
    "p2 = Punto2(4, 2)\n",
    "p3 = Punto2(2, 5)\n",
    "\n",
    "print(p1)\n",
    "print(p2)\n",
    "print(p3)\n",
    "\n",
    "print(p1.mismo_x(p2))\n",
    "print(p1.mismo_x(p3))\n",
    "print(p2.mismo_x(p3))"
   ]
  },
  {
   "cell_type": "markdown",
   "metadata": {
    "colab_type": "text",
    "id": "eHxOg_Xn53vH"
   },
   "source": [
    "### TAREAS\n",
    "\n",
    "1. Agregue un método (función) al objeto Punto, llamado \"distancia\", que le permita calcular la distancia a otro objeto Punto."
   ]
  },
  {
   "cell_type": "code",
   "execution_count": null,
   "metadata": {
    "colab": {},
    "colab_type": "code",
    "collapsed": true,
    "id": "AYGK2e9t56lO"
   },
   "outputs": [],
   "source": [
    "# Escriba su código aquí\n",
    "\n",
    "\n",
    "class Punto2():\n",
    "    def __init__(self, x, y):\n",
    "        self.x = x\n",
    "        self.y = y\n",
    "    \n",
    "    def distancia(self, other):\n",
    "        'Esta funcion nos permite saber la distancia entre dos Puntos'\n",
    "        \n",
    "        return ((self.x - other.x)**2+((self.y - other.y)**2))**0.5\n",
    " \n",
    "    def __repr__(self):\n",
    "        return 'punto en coordenada ({},{})'.format(self.x, self.y)\n",
    "    "
   ]
  },
  {
   "cell_type": "code",
   "execution_count": null,
   "metadata": {
    "colab": {
     "base_uri": "https://localhost:8080/",
     "height": 34
    },
    "colab_type": "code",
    "id": "u6mj200Zjndy",
    "outputId": "647d4258-c043-42a2-91dc-070510fff4f3"
   },
   "outputs": [],
   "source": [
    "# Pruebe su código aquí\n",
    "\n",
    "p1 = Punto2(3, 2)\n",
    "p2 = Punto2(4, 4)\n",
    "\n",
    "distancia = p1.distancia(p2)\n",
    "\n",
    "print(\"la distancia entre {} y {} es {}\".format(p1, p2, distancia))\n"
   ]
  },
  {
   "cell_type": "markdown",
   "metadata": {
    "colab_type": "text",
    "id": "wpVauedemGVn"
   },
   "source": [
    "2. Agregue al objeto Punto un atributo llamado \"timestamp\" que le permita hacer seguimiento de la fecha/hora de creación del objeto (hint: use la librería *datetime*)."
   ]
  },
  {
   "cell_type": "code",
   "execution_count": null,
   "metadata": {
    "colab": {},
    "colab_type": "code",
    "collapsed": true,
    "id": "57VLOq_PmFZY"
   },
   "outputs": [],
   "source": [
    "# Escriba su código aquí\n",
    "from datetime import date\n",
    "\n",
    "class punto3():\n",
    "    def __init__(self, x, y):\n",
    "    timestamp\n",
    "    "
   ]
  },
  {
   "cell_type": "code",
   "execution_count": null,
   "metadata": {
    "colab": {},
    "colab_type": "code",
    "collapsed": true,
    "id": "glkBfrXOmV6r"
   },
   "outputs": [],
   "source": [
    "# Pruebe su código aquí\n",
    "\n",
    "p1.timestamp"
   ]
  },
  {
   "cell_type": "markdown",
   "metadata": {
    "colab_type": "text",
    "id": "Hpce33qkX_yb"
   },
   "source": [
    "3. Cree un objeto \"Linea\", que esté formado por dos Puntos (vale decir, al momento de su \"creacion\" debe ser creado pasando 2 objetos puntos previamente creados).  Agregue un método a dicho objeto llamado \"pendiente\" que permita calcula la pendiente de la línea.\n"
   ]
  },
  {
   "cell_type": "code",
   "execution_count": null,
   "metadata": {
    "colab": {},
    "colab_type": "code",
    "collapsed": true,
    "id": "TYakPTpmjkOJ"
   },
   "outputs": [],
   "source": [
    "# Escriba su código aquí\n",
    "\n",
    "class linea():\n",
    "    def __init__(self, Punto1, Punto2):\n",
    "        Punto1.x = x1\n",
    "        Punto2.x = x2\n",
    "    \n"
   ]
  },
  {
   "cell_type": "code",
   "execution_count": null,
   "metadata": {
    "colab": {},
    "colab_type": "code",
    "collapsed": true,
    "id": "ZXsvPl8Cj6Yy"
   },
   "outputs": [],
   "source": [
    "# Pruebe su código aquí\n",
    "\n",
    "linea = Linea(p1, p2)\n",
    "\n",
    "pendiente = linea.pendiente()\n",
    "\n",
    "print('La pendiente de la linea {} es {}'.format(linea, pendiente))\n"
   ]
  },
  {
   "cell_type": "markdown",
   "metadata": {
    "colab_type": "text",
    "id": "MK68SC4Cl773"
   },
   "source": [
    "4. Agregue al objeto Linea un método llamado \"menor_timestamp\" que le permita conocer el menor \"timestamp\" de los dos puntos que conforman la línea."
   ]
  },
  {
   "cell_type": "code",
   "execution_count": null,
   "metadata": {
    "colab": {},
    "colab_type": "code",
    "collapsed": true,
    "id": "CQ-8o7-Kmy3-"
   },
   "outputs": [],
   "source": [
    "# Escriba su código aquí"
   ]
  },
  {
   "cell_type": "code",
   "execution_count": null,
   "metadata": {
    "colab": {},
    "colab_type": "code",
    "collapsed": true,
    "id": "w0aAIpLSmyvP"
   },
   "outputs": [],
   "source": [
    "# Pruebe su código aquí\n",
    "\n",
    "print(linea.menor_timestamp())"
   ]
  },
  {
   "cell_type": "markdown",
   "metadata": {
    "colab_type": "text",
    "id": "0ew0r62fkkhp"
   },
   "source": [
    "## Bases de datos en Python\n",
    "\n",
    "Ya trabajamos con algunas estructuras de datos básicas en python (listas, tuplas, diccionarios), y también aprendimos a crear nuestras propias estructuras de datos (objetos). \n",
    "\n",
    "Existen un tipo de estructura de datos a la que estamos muy acostumbrados, que llamamos \"base de datos\". Estos objetos usualmente tienen disponibles las siguientes operaciones:\n",
    "\n",
    "- Creación de nuevas columnas (\"variables\") o filas (\"registros\")\n",
    "- Análisis de subconjuntos de datos (por ej, \"filtros\" en Excel)\n",
    "- Tablas resúmen (por ej, \"Tabla dinámica\" en Excel)\n",
    "- Cruce de datos (por ej, \"buscarv\" o \"buscarh\" de Excel)\n",
    "- Union de bases de datos (\"append\" de Stata)\n",
    "\n",
    "Para lo anterior, existe una librería muy potente de Python llamada \"Pandas\"."
   ]
  },
  {
   "cell_type": "markdown",
   "metadata": {
    "colab_type": "text",
    "id": "Y-mFtEv5kuoj"
   },
   "source": [
    "### Pandas"
   ]
  },
  {
   "cell_type": "code",
   "execution_count": null,
   "metadata": {
    "colab": {
     "base_uri": "https://localhost:8080/",
     "height": 166
    },
    "colab_type": "code",
    "id": "mlmwWmGakuoj",
    "outputId": "a47867c6-b26b-4f3d-fe4d-4a3ff9b61f50"
   },
   "outputs": [],
   "source": [
    "#ejemplo 1\n",
    "\n",
    "#importamos la librería pandas, asignandole el nombre \"pd\", sólo para facilitar el uso de la librería\n",
    "import pandas as pd\n",
    "\n",
    "df = pd.DataFrame([(1, 2010, 15), (1, 2011, 5), (2, 2010, 35), (2, 2011, 45)], columns=['id', 'año', 'var2'])\n",
    "\n",
    "df\n"
   ]
  },
  {
   "cell_type": "code",
   "execution_count": null,
   "metadata": {
    "colab": {
     "base_uri": "https://localhost:8080/",
     "height": 67
    },
    "colab_type": "code",
    "id": "w3FauDylkuoo",
    "outputId": "909eff2f-1663-4754-8a32-c7c894094cb9"
   },
   "outputs": [],
   "source": [
    "print('Este dataframe tiene:')\n",
    "\n",
    "filas = len(df)\n",
    "print(filas, 'filas')\n",
    "\n",
    "print(len(df.columns), 'columnas')\n"
   ]
  },
  {
   "cell_type": "code",
   "execution_count": null,
   "metadata": {
    "colab": {
     "base_uri": "https://localhost:8080/",
     "height": 166
    },
    "colab_type": "code",
    "id": "oYB0wuLzkuor",
    "outputId": "a9ed198f-fce3-4fb5-bc53-4ed552c05b9f"
   },
   "outputs": [],
   "source": [
    "# para poder \"imprimir\" un dataframe, es mejor ocupar \"display\"\n",
    "\n",
    "from IPython.display import display\n",
    "\n",
    "display(df)"
   ]
  },
  {
   "cell_type": "markdown",
   "metadata": {
    "colab_type": "text",
    "id": "hhaawy6ukuot"
   },
   "source": [
    "### Objetos importantes de la librería Pandas\n",
    "\n",
    "### 1. \"Series\"\n",
    "\n",
    "Es la \"base de datos\" más simple de Pandas. Una serie puede ser entendida como un vector de datos (1 dimensión).\n",
    "\n",
    "\n",
    "### 2. \"DataFrame\"\n",
    "\n",
    "Este objeto es muy similar a lo que entendemos comúnmente por \"base de datos\", donde tenemos N filas y K columnas. Cada columna en este objeto es un objeto \"Serie\".\n",
    "\n",
    "*Documentación sobre atributos y métodos de DataFrames: https://pandas.pydata.org/pandas-docs/stable/generated/pandas.DataFrame.html*\n",
    "\n",
    "*Documentación sobre atributos y métodos de Series: https://pandas.pydata.org/pandas-docs/stable/generated/pandas.Series.html*\n",
    "\n",
    "\n",
    "### 3. \"GroupBy\"\n",
    "\n",
    "Un objeto \"GroupBy\" es un objeto que construimos desde una base de datos \"desagrupada\" y nos permite crear bases de datos \"agrupadas\", según las reglas agrupación que definamos.\n",
    "\n",
    "Documentación completa aquí: http://pandas.pydata.org/pandas-docs/stable/groupby.html\n",
    "\n",
    "Funciones disponibles: http://pandas.pydata.org/pandas-docs/stable/api.html?highlight=groupby#groupby"
   ]
  },
  {
   "cell_type": "code",
   "execution_count": null,
   "metadata": {
    "colab": {
     "base_uri": "https://localhost:8080/",
     "height": 184
    },
    "colab_type": "code",
    "id": "m-395pQu221B",
    "outputId": "2686254d-6f1c-4060-deb2-1a37da7e086e"
   },
   "outputs": [],
   "source": [
    "#podemos acceder a una \"Serie\" (variable) como si fuera un atributo, o como una llave en un diccionario\n",
    "serie = df.var2\n",
    "display(serie)\n",
    "\n",
    "misma_serie = df['var2']\n",
    "display(misma_serie)"
   ]
  },
  {
   "cell_type": "code",
   "execution_count": null,
   "metadata": {
    "colab": {
     "base_uri": "https://localhost:8080/",
     "height": 166
    },
    "colab_type": "code",
    "id": "tQwUE7un3R0G",
    "outputId": "25f88e1d-da01-4f03-96bd-fe655f2f022d"
   },
   "outputs": [],
   "source": [
    "#asimismo, podemos crear nuevas variables\n",
    "\n",
    "df['var3'] = df['var2'] + 8\n",
    "\n",
    "display(df)"
   ]
  },
  {
   "cell_type": "code",
   "execution_count": null,
   "metadata": {
    "colab": {
     "base_uri": "https://localhost:8080/",
     "height": 137
    },
    "colab_type": "code",
    "id": "2pgAIwjj3iSi",
    "outputId": "568a3c36-95c0-4bfe-bbb1-97121537e2f2"
   },
   "outputs": [],
   "source": [
    "#usamos la funcion \"groupby\" para agrupar valores\n",
    "\n",
    "resumen_por_anio = df.groupby('año').mean()\n",
    "resumen_por_anio"
   ]
  },
  {
   "cell_type": "markdown",
   "metadata": {
    "colab_type": "text",
    "id": "QIQ-xsBzkuou"
   },
   "source": [
    "### Tarea\n",
    "\n",
    "En agosto de 2018, se publicaron los resultados de la Encuesta de Caracterización Socioeconómica Nacional (Casen) del Ministerio de Desarrollo Social, para el año 2017. Dicha encuesta tiene una alta relevancia a nivel país, ya que es una fuente importante de información para las políticas públicas que impulsa el gobierno.\n",
    "\n",
    "La Casen se ha realizado desde el año 1990 en adelante, y en general se levanta información cada 2 años. Es una encuesta que se realiza a nivel de hogares, pero incluye cierta información a nivel de personas dentro del hogar.\n",
    "\n",
    "Antes de comenzar:\n",
    "\n",
    "- Descargue los datos de la encuesta Casen aquí: [LINK](https://www.dropbox.com/s/jzsx4nccxfkf4nh/Casen%202017small.zip?dl=0). Esta es una versión resumida de los datos (se eliminaron ciertas columnas innecesarias por ahora)\n",
    "- Para conocer las preguntas que incluyó la Casen 2017, puede ver el Cuestionario aquí: [LINK](http://observatorio.ministeriodesarrollosocial.gob.cl/casen-multidimensional/casen/docs/Cuestionario_Casen2017.pdf)\n",
    "\n",
    "Para los puntos 2 y 3 de esta tarea, probablemente le sea útil revisar las funciones disponibles de \"groupby\":  http://pandas.pydata.org/pandas-docs/stable/api.html?highlight=groupby#groupby"
   ]
  },
  {
   "cell_type": "code",
   "execution_count": null,
   "metadata": {
    "colab": {},
    "colab_type": "code",
    "collapsed": true,
    "id": "1NNs210qkuou"
   },
   "outputs": [],
   "source": [
    "#completar el path del archivo \".dta\" en su equipo\n",
    "path = ''\n",
    "\n",
    "casen = pd.read_stata(path, convert_categoricals=False)    \n",
    "\n",
    "# usamos la opción \"convert_categoricals=False\" para evitar leer las etiquetas de datos"
   ]
  },
  {
   "cell_type": "markdown",
   "metadata": {
    "colab_type": "text",
    "id": "dmIhYJNK5gC-"
   },
   "source": [
    "Se le pide a Ud. que:\n",
    "\n",
    "1. Lea los datos de la Casen 2017, y calcule el promedio (simple) de ingreso del hogar (ytoth)."
   ]
  },
  {
   "cell_type": "code",
   "execution_count": null,
   "metadata": {
    "colab": {},
    "colab_type": "code",
    "collapsed": true,
    "id": "a4tf7wFRkuoz"
   },
   "outputs": [],
   "source": [
    "# Escriba su respuesta aqui\n"
   ]
  },
  {
   "cell_type": "markdown",
   "metadata": {
    "colab_type": "text",
    "id": "pBb6p_6V5jbj"
   },
   "source": [
    "2. Calcule el ingreso promedio nacional, usando el factor de expansión regional (expr). (*En el siguiente link se encuentra una breve descripción de lo que son los factores de expansión y cómo utilizarlos https://www.redatam.org/redchl/mds/casen/WebHelp/informaci_n_casen/factores_de_expancion.htm*)"
   ]
  },
  {
   "cell_type": "code",
   "execution_count": null,
   "metadata": {
    "colab": {},
    "colab_type": "code",
    "collapsed": true,
    "id": "oj8llZLA5j2T"
   },
   "outputs": [],
   "source": [
    "# Escriba su respuesta aqui\n"
   ]
  },
  {
   "cell_type": "markdown",
   "metadata": {
    "colab_type": "text",
    "id": "FfSG0GH95kOS"
   },
   "source": [
    "3. Calcule el ingreso promedio por región, usando el factor de expansión regional (expr)."
   ]
  },
  {
   "cell_type": "code",
   "execution_count": null,
   "metadata": {
    "colab": {},
    "colab_type": "code",
    "collapsed": true,
    "id": "xue2Qz-e5krQ"
   },
   "outputs": [],
   "source": [
    "# Escriba su respuesta aqui\n"
   ]
  },
  {
   "cell_type": "markdown",
   "metadata": {
    "colab_type": "text",
    "id": "K32zQPCM6rKi"
   },
   "source": [
    "4. Escriba código que le permita calcular la diferencia de ingreso promedio regional, entre la región con menor ingreso y la región con mayor ingreso."
   ]
  },
  {
   "cell_type": "code",
   "execution_count": null,
   "metadata": {
    "colab": {},
    "colab_type": "code",
    "collapsed": true,
    "id": "1m1UPJwZ7Eph"
   },
   "outputs": [],
   "source": [
    "# Escriba su respuesta aqui\n"
   ]
  },
  {
   "cell_type": "markdown",
   "metadata": {
    "colab_type": "text",
    "id": "cKK5B9Dm7zYx"
   },
   "source": [
    "5. Escriba código que le permita calcular el número de hogares encuestados por region. \n",
    "\n",
    "(*Ayuda: Para esto, una alternativa sería utilizar la función \"drop_duplicates\" de los DataFrame de pandas: https://pandas.pydata.org/pandas-docs/stable/reference/api/pandas.DataFrame.drop_duplicates.html. Existen otras opciones posibles*)"
   ]
  },
  {
   "cell_type": "code",
   "execution_count": null,
   "metadata": {
    "colab": {},
    "colab_type": "code",
    "collapsed": true,
    "id": "AZW7WMrm7z1I"
   },
   "outputs": [],
   "source": [
    "# Escriba su respuesta aqui\n"
   ]
  },
  {
   "cell_type": "markdown",
   "metadata": {
    "colab_type": "text",
    "id": "aZoWbPNkm3pK"
   },
   "source": [
    "<hr/>\n",
    "<center> <h1>Fin del laboratorio.</h1> </center>\n",
    " **Recuerde NO compartir el Notebook. Sólo debe subir archivo .ipynb por WebCurso.**."
   ]
  }
 ],
 "metadata": {
  "colab": {
   "collapsed_sections": [],
   "name": "Lab4_20190417",
   "provenance": [],
   "version": "0.3.2"
  },
  "kernelspec": {
   "display_name": "Python 3",
   "language": "python",
   "name": "python3"
  },
  "language_info": {
   "codemirror_mode": {
    "name": "ipython",
    "version": 3
   },
   "file_extension": ".py",
   "mimetype": "text/x-python",
   "name": "python",
   "nbconvert_exporter": "python",
   "pygments_lexer": "ipython3",
   "version": "3.6.6"
  }
 },
 "nbformat": 4,
 "nbformat_minor": 1
}
