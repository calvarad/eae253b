{
  "nbformat": 4,
  "nbformat_minor": 0,
  "metadata": {
    "colab": {
      "name": "Lab6_20190501",
      "version": "0.3.2",
      "provenance": [],
      "collapsed_sections": []
    },
    "kernelspec": {
      "name": "python3",
      "display_name": "Python 3"
    }
  },
  "cells": [
    {
      "cell_type": "markdown",
      "metadata": {
        "id": "LC15HlaVwPHd",
        "colab_type": "text"
      },
      "source": [
        "# Laboratorio 6. EAE253b\n",
        "<hr/>\n",
        "\n",
        "**Antes de comenzar:**\n",
        "\n",
        "- Laboratorio debe ser realizado **de forma individual**. Obviamente, se pueden discutir ideas, pero cualquier intercambio de códigos **no está permitido**.\n",
        "- Sólo se evaluarán secciones \"**TAREAS**\"; pero se recomienda realizar secciones **EJERCICIOS**\n",
        "\n",
        "**Instrucciones de entrega:**\n",
        "\n",
        "- Debe entregar este laboratorio por WebCurso, en buzón de tareas. Descargar archivo \".ipynb\" a su equipo y luego subirlo.\n",
        "- Además, **debe compartir el Notebook con ayudantes (arybertt@uc.cl, pagonzalez20@uc.cl) y profesor (cealvara@gmail.com)**.\n",
        "- Plazo máximo de entrega: **Viernes 17 de mayo , 11.55 pm.**\n"
      ]
    },
    {
      "cell_type": "markdown",
      "metadata": {
        "id": "skTOKBE4CWRt",
        "colab_type": "text"
      },
      "source": [
        "<hr />"
      ]
    },
    {
      "cell_type": "markdown",
      "metadata": {
        "id": "TVdkFyRvIzrS",
        "colab_type": "text"
      },
      "source": [
        "## Parte 1"
      ]
    },
    {
      "cell_type": "markdown",
      "metadata": {
        "id": "v2wtc2J3NaK7",
        "colab_type": "text"
      },
      "source": [
        "En este laboratorio nuevamente trabajaremos con SQL. Esta vez con un enfoque algo más avanzado. \n",
        "\n",
        "Antes de partir, nos conectaremos a la base de datos (archivo de \"sqlite3\"), pero esta vez lo haremos a traves de Google Drive (Colab Research nos permite acceder a archivos que esten en Google Drive y leerlos desde Python).\n",
        "\n"
      ]
    },
    {
      "cell_type": "code",
      "metadata": {
        "id": "i88gcc-XV4EE",
        "colab_type": "code",
        "colab": {}
      },
      "source": [
        "# El siguiente codigo nos permite conectarnos a Google Drive. \n",
        "\n",
        "# Deben seguir las instrucciones que aparezcan en pantalla\n",
        "\n",
        "!pip install -U -q PyDrive\n",
        "from pydrive.auth import GoogleAuth\n",
        "from pydrive.drive import GoogleDrive\n",
        "from google.colab import auth\n",
        "from oauth2client.client import GoogleCredentials\n",
        "\n",
        "\n",
        "auth.authenticate_user()\n",
        "gauth = GoogleAuth()\n",
        "gauth.credentials = GoogleCredentials.get_application_default()\n",
        "drive = GoogleDrive(gauth)\n"
      ],
      "execution_count": 0,
      "outputs": []
    },
    {
      "cell_type": "markdown",
      "metadata": {
        "id": "j-XYu8LSPI9R",
        "colab_type": "text"
      },
      "source": [
        "Una vez estamos conectados con google drive,  podemos cargar nuestra base de datos:"
      ]
    },
    {
      "cell_type": "code",
      "metadata": {
        "id": "-ugNxBo-L8FP",
        "colab_type": "code",
        "colab": {}
      },
      "source": [
        "link = 'https://drive.google.com/file/d/1PkDtUMlkS8JtS0h3fbVa0n9pXM2u-k1i/view?usp=sharing'\n",
        "id = link.split('/')[5]\n",
        "print(id)\n",
        "downloaded = drive.CreateFile({'id':id}) \n",
        "downloaded.GetContentFile('db.db')"
      ],
      "execution_count": 0,
      "outputs": []
    },
    {
      "cell_type": "code",
      "metadata": {
        "id": "bEw72bboQFyd",
        "colab_type": "code",
        "colab": {}
      },
      "source": [
        "import sqlite3\n",
        "import pandas as pd\n",
        "conn = sqlite3.connect('db.db')\n",
        "cursor = conn.cursor()"
      ],
      "execution_count": 0,
      "outputs": []
    },
    {
      "cell_type": "markdown",
      "metadata": {
        "id": "Yz_7xZ1jyy8o",
        "colab_type": "text"
      },
      "source": [
        "Ya estando conectados a la base de datos, podemos extraer informacion de ella como siempre:"
      ]
    },
    {
      "cell_type": "code",
      "metadata": {
        "id": "CabtuCPWVNIq",
        "colab_type": "code",
        "colab": {}
      },
      "source": [
        "#Inspeccionamos que tablas contiene la base de datos\n",
        "a = 'SELECT tbl_name FROM sqlite_master where type=\"table\"'\n",
        "df = pd.read_sql(a,conn)\n",
        "df"
      ],
      "execution_count": 0,
      "outputs": []
    },
    {
      "cell_type": "code",
      "metadata": {
        "id": "TqLIfIFu34AV",
        "colab_type": "code",
        "colab": {}
      },
      "source": [
        "# Veamos qué columnas tiene la tabla \"Visas\"\n",
        "\n",
        "ini = \"\"\"\n",
        "    select *\n",
        "    from visas \n",
        "    limit 1\n",
        "\"\"\"\n",
        "df = pd.read_sql(ini,conn)\n",
        "df"
      ],
      "execution_count": 0,
      "outputs": []
    },
    {
      "cell_type": "code",
      "metadata": {
        "id": "jYo93Mj-1H7Z",
        "colab_type": "code",
        "colab": {}
      },
      "source": [
        "# Veamos qué columnas tiene la tabla \"Estudios\"\n",
        "\n",
        "ini = \"\"\"\n",
        "    select *\n",
        "    from Estudios\n",
        "\"\"\"\n",
        "df = pd.read_sql(ini,conn)\n",
        "df"
      ],
      "execution_count": 0,
      "outputs": []
    },
    {
      "cell_type": "code",
      "metadata": {
        "id": "lABQxox3_Kg6",
        "colab_type": "code",
        "colab": {}
      },
      "source": [
        "# Veamos qué columnas tiene la tabla \"Sexo\"\n",
        "\n",
        "ini = \"\"\"\n",
        "    select *\n",
        "    from Sexo\n",
        "\"\"\"\n",
        "df = pd.read_sql(ini,conn)\n",
        "df"
      ],
      "execution_count": 0,
      "outputs": []
    },
    {
      "cell_type": "markdown",
      "metadata": {
        "id": "NxriH_11XyId",
        "colab_type": "text"
      },
      "source": [
        "#### SQL basico: seleccion de columnas y filas\n",
        "\n",
        "El uso más sencillo de SQL es acceder a ciertas columnas/variables, para ciertas filas/observaciones.  \n",
        "\n",
        "En el siguiente ejemplo recuperamos el año de postulación, fecha de nacimiento, el país de origen y la región de origen de la base de datos de Visas. Además, sólo nos interesa acceder a información de personas con edad entre 15 y 30 años y que hayan postulado el año 2007 o antes. Finalmente, limitamos los resultados a las primeras 100 solicitudes que cumplan dicha condicion.\n",
        "\n",
        "Nota: al igual que Python, Sqlite3 tiene una función llamada \"strftime\" que nos permite extraer elementos de una fecha. Para más opciones de dicha función, ver: https://www.techonthenet.com/sqlite/functions/strftime.php"
      ]
    },
    {
      "cell_type": "code",
      "metadata": {
        "id": "hZQOZ6Y4XxGd",
        "colab_type": "code",
        "colab": {}
      },
      "source": [
        "ini = \"\"\"\n",
        "    select Id as \"ID persona\", \n",
        "        year as \"Año Solicitud\", \n",
        "        strftime('%Y',birth_date) as \"Nacimiento\",\n",
        "        iso3 as \"Cod. País\",\n",
        "        sub_region as \"Sub Región\"\n",
        "    from visas \n",
        "    where age between 15 and 30 and year <=2007 \n",
        "    limit 100\n",
        "\"\"\"\n",
        "df = pd.read_sql(ini,conn)\n",
        "df"
      ],
      "execution_count": 0,
      "outputs": []
    },
    {
      "cell_type": "markdown",
      "metadata": {
        "id": "3725SH2d3GTE",
        "colab_type": "text"
      },
      "source": [
        "#### Consultas anidadas\n",
        "\n",
        "Otra característica de SQL es que nos permite hacer consultas anidadas. Este tipo de consultas lo realizamos cuando queremos que SQL procese por 2da (o 3ra, o 4ta, ...) vez los resultados obtenidos.\n",
        "\n",
        "En el siguiente ejemplo, primero calculamos la edad promedio de los postulantes y el número de postulantes, por país, y luego seleccionamos aquellos países donde la edad promedio está entre 26 y 30 años, y la cantidad de postulantes es mayor a 5."
      ]
    },
    {
      "cell_type": "code",
      "metadata": {
        "id": "Cqhbjg5d3FZB",
        "colab_type": "code",
        "colab": {}
      },
      "source": [
        "#Ejemplo de consulta anidada\n",
        "ini = \"\"\"\n",
        "select * \n",
        "from (\n",
        "    select country_name as \"País\", \n",
        "        round(avg(age),0) as \"Edad Promedio\",\n",
        "        count(1) as \"Cantidad\"\n",
        "    from Visas \n",
        "    group by country_name\n",
        ")\n",
        "where ([Edad Promedio] between 26 and 30) and (Cantidad>5)\n",
        "\"\"\"\n",
        "df = pd.read_sql(ini,conn)\n",
        "df"
      ],
      "execution_count": 0,
      "outputs": []
    },
    {
      "cell_type": "markdown",
      "metadata": {
        "id": "Z9AY85DDDyBm",
        "colab_type": "text"
      },
      "source": [
        "#### Creación de variables \"avanzada\": Expresión \"CASE\"\n",
        "\n",
        "Ya hemos visto ejemplos para crear variables en SQL. Por ejemplo, si quisieramos crear una tabla con la variable \"año de nacimiento\", lo hariamos de la siguiente forma:"
      ]
    },
    {
      "cell_type": "code",
      "metadata": {
        "id": "yysmtc4E0YGP",
        "colab_type": "code",
        "colab": {}
      },
      "source": [
        "ini = \"\"\"\n",
        "    select strftime('%Y',birth_date) as \"Nacimiento\"\n",
        "    from visas \n",
        "    limit 100\n",
        "\"\"\"\n",
        "df = pd.read_sql(ini,conn)\n",
        "df"
      ],
      "execution_count": 0,
      "outputs": []
    },
    {
      "cell_type": "markdown",
      "metadata": {
        "id": "u6aJJGAB0Yee",
        "colab_type": "text"
      },
      "source": [
        "Sin embargo, existen ocasiones en que la variable que queremos crear toma distintos valores según los valores de otras variables. El caso más simple, sería la creación de una variable \"dummy\", donde queremos que dicha columna sea 1 en ciertos casos, y sea 0 en otros. \n",
        "\n",
        "En el siguiente ejemplo, creamos una columna llamanda \"dummy_peru\", que marca las observaciones donde el país de origen es Perú.\n",
        "\n",
        "Aqui se puede aprender más de la expresión \"CASE\"\n",
        "\n",
        "http://www.sqlitetutorial.net/sqlite-case/"
      ]
    },
    {
      "cell_type": "code",
      "metadata": {
        "id": "k2q10Sy-DxqV",
        "colab_type": "code",
        "colab": {}
      },
      "source": [
        "query = '''\n",
        "    select case\n",
        "        when iso3 = \"PER\" then 1 \n",
        "        else 0 \n",
        "        end as dummy_peru\n",
        "\n",
        "    from visas\n",
        "    \n",
        "'''\n",
        "df = pd.read_sql(query, conn)\n",
        "df"
      ],
      "execution_count": 0,
      "outputs": []
    },
    {
      "cell_type": "markdown",
      "metadata": {
        "id": "zo54pVHi1XZw",
        "colab_type": "text"
      },
      "source": [
        "#### Eliminando filas: sentencia \"EXCEPT\"\n",
        "\n",
        "En ciertas ocasiones, queremos \"filtrar\" los resultados obtenidos para que no contengan los resultados de otra consulta determinada. En estos casos, utilizamos la sentencia \"EXCEPT\". Esta sentencia deja todas las observaciones de la primera consulta que no se encuentren en la segunda consulta.\n",
        "\n",
        "*Nota: este comportamiento se podría lograr con el uso de WHERE y condiciones más complejas; sin embargo, la sentencia EXCEPT también nos permite filtrar resultados que provengan de tablas distintas (en cuyo caso, no podríamos usar \"WHERE\")*"
      ]
    },
    {
      "cell_type": "code",
      "metadata": {
        "id": "v3OLINqT10A9",
        "colab_type": "code",
        "colab": {}
      },
      "source": [
        "#Ejemplo de except\n",
        "ini = \"\"\"\n",
        "select * from Visas where (visa_type_id in (1,2)) and (age>70)\n",
        "except\n",
        "select * from Visas where (studies_id between 0 and 5) or (activity_id<8)\n",
        "\"\"\"\n",
        "df = pd.read_sql(ini,conn)\n",
        "df"
      ],
      "execution_count": 0,
      "outputs": []
    },
    {
      "cell_type": "markdown",
      "metadata": {
        "id": "529nuzG0Vo1o",
        "colab_type": "text"
      },
      "source": [
        "### Tarea 1.\n",
        "\n",
        "<hr>\n"
      ]
    },
    {
      "cell_type": "markdown",
      "metadata": {
        "id": "Rz-1SyuS3PVC",
        "colab_type": "text"
      },
      "source": [
        "1. Escriba una consulta que le permita calcular, por país de origen, el promedio de edad **actual** y el número (*count*) de los postulantes con educación técnica o universitaria\". (*Hint: notar que la variable \"age\" es una variable \"estática\", ya que se refiere a la edad al momento de ingresar el registro a la base de datos. Esto no nos sirve si queremos poder comparar la edad de personas que se registraron en distintos momentos del tiempo)*. No asuma que la edad actual es \"2019 - año nacimiento\"."
      ]
    },
    {
      "cell_type": "code",
      "metadata": {
        "id": "1VCdIHjb3PA0",
        "colab_type": "code",
        "colab": {}
      },
      "source": [
        ""
      ],
      "execution_count": 0,
      "outputs": []
    },
    {
      "cell_type": "markdown",
      "metadata": {
        "id": "_uPgPaI84Rd7",
        "colab_type": "text"
      },
      "source": [
        "2. ¿cómo se comparan dichas estadísticas (promedio y número) con aquellas de postulantes con un nivel de educación menor a técnica o universitaria? Para responder esto, debería crear una tabla con 5 columnas:\n",
        "\n",
        "  - la primera columna debe ser el codigo de país, \n",
        "  - la segunda y tercera columna deben ser el promedio de edad y el número de postulantes con educación técnica o universitaria\n",
        "  - la cuarta y quinta columna deben ser el promedio de edad y el número de postulantes con educación menor a técnica o universitaria.\n",
        "\n",
        "*(Para responder esta parte, basta con crear la tabla mencionada)*"
      ]
    },
    {
      "cell_type": "code",
      "metadata": {
        "id": "_VOnv7JR4TET",
        "colab_type": "code",
        "colab": {}
      },
      "source": [
        ""
      ],
      "execution_count": 0,
      "outputs": []
    },
    {
      "cell_type": "markdown",
      "metadata": {
        "id": "MIRHnZ7m6hXS",
        "colab_type": "text"
      },
      "source": [
        "3. Escriba código que le permita saber los 3 países con mayor % de postulantes con bajo nivel de educación (respecto a los postulantes totales de ese país).\n"
      ]
    },
    {
      "cell_type": "code",
      "metadata": {
        "id": "s_I9rLr76g4Y",
        "colab_type": "code",
        "colab": {}
      },
      "source": [
        ""
      ],
      "execution_count": 0,
      "outputs": []
    },
    {
      "cell_type": "markdown",
      "metadata": {
        "id": "S-9zJRP07wH-",
        "colab_type": "text"
      },
      "source": [
        "4. Escriba código que le permita saber los 3 países donde diferencia de edad de postulantes con bajo nivel de educación y alto nivel de educación sea la mayor. Vale decir, queremos saber desde qué países provienen los postulantes con alto nivel de educación **más jovenes**, respecto de sus pares con bajo nivel de educación.\n",
        " "
      ]
    },
    {
      "cell_type": "code",
      "metadata": {
        "id": "FtOAqSWy7vkF",
        "colab_type": "code",
        "colab": {}
      },
      "source": [
        ""
      ],
      "execution_count": 0,
      "outputs": []
    },
    {
      "cell_type": "markdown",
      "metadata": {
        "id": "fKo3OYjhVqvK",
        "colab_type": "text"
      },
      "source": [
        "5. Ahora, para cada grupo de género, queremos saber la cantidad de países desde donde provienen, al igual que la cantidad de edades distintas que tienen."
      ]
    },
    {
      "cell_type": "code",
      "metadata": {
        "id": "0xekMRkiVoDY",
        "colab_type": "code",
        "colab": {}
      },
      "source": [
        ""
      ],
      "execution_count": 0,
      "outputs": []
    },
    {
      "cell_type": "markdown",
      "metadata": {
        "id": "5rDVHlj9_AHv",
        "colab_type": "text"
      },
      "source": [
        "6. Como puede ver de la tabla anterior, existen países donde los postulantes son exclusivamente hombres. También podría haber países donde las postulantes sean exclusivamente mujeres. Escriba código que le permita determinar cuáles son esos países."
      ]
    },
    {
      "cell_type": "code",
      "metadata": {
        "id": "NfnTebOx-_wB",
        "colab_type": "code",
        "colab": {}
      },
      "source": [
        ""
      ],
      "execution_count": 0,
      "outputs": []
    },
    {
      "cell_type": "markdown",
      "metadata": {
        "id": "BiGNP6PmL6rM",
        "colab_type": "text"
      },
      "source": [
        "## Parte 2.\n",
        "\n",
        "<hr>"
      ]
    },
    {
      "cell_type": "markdown",
      "metadata": {
        "id": "wToRZDBr2qPd",
        "colab_type": "text"
      },
      "source": [
        "En esta parte, analizaremos datos del Servicio de Impuestos Internos (SII). La base de datos a la que accederemos contiene un extracto de la \"Nómina de empresas personas jurídicas AT 2006-2017\" disponible en http://www.sii.cl/sobre_el_sii/nominapersonasjuridicas.html. Basicamente, es un registro de empresas con cierta informacion de las empresas. La información está organizada en tablas para cada año."
      ]
    },
    {
      "cell_type": "code",
      "metadata": {
        "id": "tcnvprPxX4cm",
        "colab_type": "code",
        "colab": {}
      },
      "source": [
        "link = 'https://drive.google.com/file/d/1iEbeNcdHYJ2D-JWi0cT5H2ccDefzDroF/view?usp=sharing'\n",
        "id = link.split('/')[5]\n",
        "print(id)\n",
        "downloaded = drive.CreateFile({'id':id}) \n",
        "downloaded.GetContentFile('sii.db')\n",
        "\n"
      ],
      "execution_count": 0,
      "outputs": []
    },
    {
      "cell_type": "markdown",
      "metadata": {
        "id": "0r7QT7QmPQt3",
        "colab_type": "text"
      },
      "source": [
        "**Cargamos base de datos y vemos que tablas contiene.**"
      ]
    },
    {
      "cell_type": "code",
      "metadata": {
        "id": "UreRQf5wcHOP",
        "colab_type": "code",
        "colab": {}
      },
      "source": [
        "import sqlite3\n",
        "import pandas as pd\n",
        "conn = sqlite3.connect('sii.db')\n",
        "cursor = conn.cursor()"
      ],
      "execution_count": 0,
      "outputs": []
    },
    {
      "cell_type": "code",
      "metadata": {
        "id": "Ndp5VH8dYU82",
        "colab_type": "code",
        "colab": {}
      },
      "source": [
        "#Inspeccionamos que tablas contiene la base de datos\n",
        "a = 'SELECT tbl_name FROM sqlite_master where type=\"table\"'\n",
        "df = pd.read_sql(a,conn)\n",
        "df"
      ],
      "execution_count": 0,
      "outputs": []
    },
    {
      "cell_type": "markdown",
      "metadata": {
        "id": "h-69OuWYPaKd",
        "colab_type": "text"
      },
      "source": [
        "***Imprimamos algunos registros para ver qué variables contiene una tabla. En este caso veremos para SII_2013.*** <br/>\n",
        "Recuerde que quiera aprender más y practicar, puede utilizar sitios web como el [siguiente](https://www.w3schools.com/sql/)"
      ]
    },
    {
      "cell_type": "code",
      "metadata": {
        "id": "fNgf2bBsTiCZ",
        "colab_type": "code",
        "colab": {}
      },
      "source": [
        "a = '''\n",
        "    \n",
        "'''\n",
        "\n",
        "df = pd.read_sql(a,conn)\n",
        "df"
      ],
      "execution_count": 0,
      "outputs": []
    },
    {
      "cell_type": "markdown",
      "metadata": {
        "id": "eX_xn2V8VPsx",
        "colab_type": "text"
      },
      "source": [
        "### Tarea 2.\n",
        "\n",
        "<hr>\n"
      ]
    },
    {
      "cell_type": "markdown",
      "metadata": {
        "id": "gt2xrgxgJbee",
        "colab_type": "text"
      },
      "source": [
        "1. ¿Existen Ruts duplicados en la tabla SII_2013? ¿a qué cree usted que se debe?"
      ]
    },
    {
      "cell_type": "code",
      "metadata": {
        "id": "FRyuGXD9Jt3A",
        "colab_type": "code",
        "colab": {}
      },
      "source": [
        "#Inserte su código aquí"
      ],
      "execution_count": 0,
      "outputs": []
    },
    {
      "cell_type": "markdown",
      "metadata": {
        "id": "SdLTacBzJfA-",
        "colab_type": "text"
      },
      "source": [
        "2. Cree una función (Python) que le permita saber el número de observaciones duplicadas de alguna tabla particular, para una lista de columnas particular de esa tabla. Por ejemplo, la pregunta anterior se respondería así:\n",
        "\n",
        "\n",
        "```\n",
        "num_duplicados_2013 = encuentra_duplicados(conn, 'SII_2013', ['Cliente_Rut'])\n",
        "```\n",
        "\n",
        "donde *conn* es la conexión a la base de datos.\n",
        "\n"
      ]
    },
    {
      "cell_type": "code",
      "metadata": {
        "id": "YDgxIqezJzdC",
        "colab_type": "code",
        "colab": {}
      },
      "source": [
        "#Inserte su código aquí"
      ],
      "execution_count": 0,
      "outputs": []
    },
    {
      "cell_type": "markdown",
      "metadata": {
        "id": "BtaTcJBrJj6w",
        "colab_type": "text"
      },
      "source": [
        "3. Busque el número de observaciones duplicadas de las tablas SII_*.\n",
        "\n"
      ]
    },
    {
      "cell_type": "code",
      "metadata": {
        "id": "34_uv0VFJ0TA",
        "colab_type": "code",
        "colab": {}
      },
      "source": [
        "#Inserte su código aquí"
      ],
      "execution_count": 0,
      "outputs": []
    },
    {
      "cell_type": "markdown",
      "metadata": {
        "id": "D6TjSbVL-Zx2",
        "colab_type": "text"
      },
      "source": [
        "4. Cree una nueva función, similar a \"encuentra_duplicados\", pero que en vez de retornar el número de duplicados, le entregue un DataFrame con las observaciones que están duplicadas. Vale decir, su función se usaría asi:\n",
        "\n",
        "\n",
        "```\n",
        "df_duplicados_2013 = encuentra_duplicados(conn, 'SII_2013', ['Cliente_Rut'])\n",
        "```"
      ]
    },
    {
      "cell_type": "code",
      "metadata": {
        "id": "Elf1_lO0-auR",
        "colab_type": "code",
        "colab": {}
      },
      "source": [
        "#Inserte su código aquí"
      ],
      "execution_count": 0,
      "outputs": []
    },
    {
      "cell_type": "markdown",
      "metadata": {
        "id": "Amct9bEY-_UL",
        "colab_type": "text"
      },
      "source": [
        "5. Encuentre la lista de observaciones duplicadas de la tabla SII_2015, para los campos Cliente_Rut y Tipo_Contribuyente."
      ]
    },
    {
      "cell_type": "code",
      "metadata": {
        "id": "2Qy9OLFL--ot",
        "colab_type": "code",
        "colab": {}
      },
      "source": [
        "#Inserte su código aquí"
      ],
      "execution_count": 0,
      "outputs": []
    },
    {
      "cell_type": "markdown",
      "metadata": {
        "id": "VmzoWGPWATYw",
        "colab_type": "text"
      },
      "source": [
        "6. Encuentre la lista de observaciones duplicadas de la tabla SII_2016, para los campos Cliente_Rut y Fecha_Termino_Giro."
      ]
    },
    {
      "cell_type": "code",
      "metadata": {
        "id": "d3nhgYT7AS6-",
        "colab_type": "code",
        "colab": {}
      },
      "source": [
        "#Inserte su código aquí"
      ],
      "execution_count": 0,
      "outputs": []
    },
    {
      "cell_type": "markdown",
      "metadata": {
        "id": "0YaNFn5lAbbW",
        "colab_type": "text"
      },
      "source": [
        "7. ¿Puede decir ahora a qué se deben las observaciones duplicadas?"
      ]
    },
    {
      "cell_type": "markdown",
      "metadata": {
        "id": "4ZIYXkwUA0V1",
        "colab_type": "text"
      },
      "source": [
        "Respuesta:"
      ]
    },
    {
      "cell_type": "markdown",
      "metadata": {
        "id": "aZoWbPNkm3pK",
        "colab_type": "text"
      },
      "source": [
        "<hr/>\n",
        "<center> <h1>Fin del laboratorio.</h1> </center>\n",
        "\n",
        " **Recuerde compartir el Notebook con ayudantes (arybertt@uc.cl, pagonzalez20@uc.cl) y profesor (cealvara@gmail.com)**."
      ]
    }
  ]
}