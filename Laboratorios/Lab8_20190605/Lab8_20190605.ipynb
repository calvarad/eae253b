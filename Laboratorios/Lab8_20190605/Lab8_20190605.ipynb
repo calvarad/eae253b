{
 "cells": [
  {
   "cell_type": "markdown",
   "metadata": {
    "colab_type": "text",
    "id": "LC15HlaVwPHd"
   },
   "source": [
    "# Laboratorio 8. EAE253b\n",
    "<hr/>\n",
    "\n",
    "**Antes de comenzar:**\n",
    "\n",
    "- Laboratorio debe ser realizado **de forma individual**. Obviamente, se pueden discutir ideas, pero cualquier intercambio de códigos **no está permitido**.\n",
    "- Sólo se evaluarán secciones \"**TAREAS**\"; pero se recomienda realizar secciones **EJERCICIOS**\n",
    "\n",
    "**Instrucciones de entrega:**\n",
    "\n",
    "- Debe entregar este laboratorio por WebCurso, en buzón de tareas. Descargar archivo \".ipynb\" a su equipo y luego subirlo.\n",
    "- Además, **debe compartir el Notebook con ayudantes (arybertt@uc.cl, pagonzalez20@uc.cl) y profesor (cealvara@gmail.com)**.\n",
    "- Plazo máximo de entrega: **Viernes 14 de junio, 11.55 pm.**\n",
    "\n",
    "**Tutorial:**\n",
    "\n",
    "- Si quieren ver más ejemplos de uso de K-means, pueden mirar este pequeño tutorial:\n",
    "\n",
    "http://www.aprendemachinelearning.com/k-means-en-python-paso-a-paso/\n",
    "\n"
   ]
  },
  {
   "cell_type": "markdown",
   "metadata": {
    "colab_type": "text",
    "id": "skTOKBE4CWRt"
   },
   "source": [
    "<hr />"
   ]
  },
  {
   "cell_type": "markdown",
   "metadata": {
    "colab_type": "text",
    "id": "t4gY2ZquZfmA"
   },
   "source": [
    "## Introducción\n",
    "\n",
    "Con lo aprendido hasta ahora podemos importar una base de datos y realizar cierto nivel de análisis con estos. Además, tras el curso de econometría, hemos aprendido sobre las regresiones lineales... \n",
    "\n",
    "En este laboratorio practicaremos algunas técnicas básicas de machine learning, como lo son los métodos de agrupación o **clustering**. Estos métodos forman parte de las técnicas de machine learning denominadas **\"no supervisadas\"**, ya que el problema a resolver no involucra alguna variable de interés (\"Y\", o variable dependiente), sino que sólo involucra mucha información respecto alguna unidad observacional (o sea, tenemos muchas \"X\"). El problema, entonces, es resumir la información de alguna manera para poder interpretar o representar (gráficar, visualizar) de manera más simple los datos.\n",
    "\n",
    "En concreto, en este lab veremos el algoritmo \"K-means\" o \"K-medias\", que es un método que, sin necesitar de una variable dependiente, nos permite agrupar nuestras observaciones de forma **discreta** en base a la \"distancia\" entre ellas (recordemos que existen otros métodos que nos permiten agrupar nuestros datos en forma **continua**, por ejemplo, PCA).\n",
    "\n",
    "\n",
    "*Nota: Ejemplo basado en workshop \"Machine Learning con Python\", realizado por DataUC*"
   ]
  },
  {
   "cell_type": "markdown",
   "metadata": {
    "colab_type": "text",
    "id": "pwJh_bNuS0GH"
   },
   "source": [
    "### Importamos algunas herramientas necesarias"
   ]
  },
  {
   "cell_type": "code",
   "execution_count": null,
   "metadata": {
    "colab": {},
    "colab_type": "code",
    "collapsed": true,
    "id": "BHYzF9EgzbMN"
   },
   "outputs": [],
   "source": [
    "import sqlite3\n",
    "import pandas as pd\n",
    "import numpy as np\n",
    "from matplotlib import pyplot as plt\n",
    "import seaborn as sb\n",
    "import warnings\n",
    "warnings.filterwarnings('ignore')\n",
    "%matplotlib inline\n",
    "\n",
    "!pip install -U -q PyDrive\n",
    "from pydrive.auth import GoogleAuth\n",
    "from pydrive.drive import GoogleDrive\n",
    "from google.colab import auth\n",
    "from oauth2client.client import GoogleCredentials\n",
    "\n",
    "auth.authenticate_user()\n",
    "gauth = GoogleAuth()\n",
    "gauth.credentials = GoogleCredentials.get_application_default()\n",
    "drive = GoogleDrive(gauth)"
   ]
  },
  {
   "cell_type": "markdown",
   "metadata": {
    "colab_type": "text",
    "id": "FH32si4H6YYD"
   },
   "source": [
    "A continuación, tal como hacemos usualmente, cargamos los datos del lab"
   ]
  },
  {
   "cell_type": "code",
   "execution_count": null,
   "metadata": {
    "colab": {},
    "colab_type": "code",
    "collapsed": true,
    "id": "VE6eWweOzfle"
   },
   "outputs": [],
   "source": [
    "link = 'https://drive.google.com/file/d/11W1Rkz3_4j0YRPX34AZ-nTi6ZFWmTRi-/view?usp=sharing'\n",
    "id = link.split('/')[5]\n",
    "print(id)\n",
    "downloaded = drive.CreateFile({'id':id}) \n",
    "downloaded.GetContentFile('ejemplo.sqlite')"
   ]
  },
  {
   "cell_type": "code",
   "execution_count": null,
   "metadata": {
    "colab": {
     "base_uri": "https://localhost:8080/",
     "height": 141
    },
    "colab_type": "code",
    "id": "l4CviQTADxY3",
    "outputId": "d7027cb2-be01-49d8-da7a-90cea8c95bab"
   },
   "outputs": [],
   "source": [
    "conn = sqlite3.connect('ejemplo.sqlite')\n",
    "df = pd.read_sql('SELECT * FROM data where A is not null and b is not null and class is not null', conn)\n",
    "\n",
    "#veamos algunas estadísticas de esta base de datos\n",
    "df.describe().transpose()"
   ]
  },
  {
   "cell_type": "markdown",
   "metadata": {
    "colab_type": "text",
    "id": "mOGwGbe96r3U"
   },
   "source": [
    "La base de datos que acabamos de cargar (\"df\") tiene 3 columnas (A, B y Class).\n",
    "\n",
    "A y B corresponden a variables dependientes. Por razones pedagógicas, también esta base de datos incluye una variable que podría ser de interés (\"y\"). Ocuparemos esta variable para poder contrastar y entender mejor lo que hace el algoritmo K-medias.\n",
    "\n",
    "Veamos gráficamente qué son las variables \"A\" y \"B\":"
   ]
  },
  {
   "cell_type": "code",
   "execution_count": null,
   "metadata": {
    "colab": {
     "base_uri": "https://localhost:8080/",
     "height": 287
    },
    "colab_type": "code",
    "id": "_wCVVsNkHL8Y",
    "outputId": "aa9e6817-8047-4cc1-dfd7-4147bc957909"
   },
   "outputs": [],
   "source": [
    "plt.scatter(df['A'], df['B'],alpha=0.5)"
   ]
  },
  {
   "cell_type": "markdown",
   "metadata": {
    "colab_type": "text",
    "id": "TVdkFyRvIzrS"
   },
   "source": [
    "## Métodos de agrupación: K-medias"
   ]
  },
  {
   "cell_type": "markdown",
   "metadata": {
    "colab_type": "text",
    "id": "WxTdvJxoPCDB"
   },
   "source": [
    "K-medias es un método de agrupación, que tiene como objetivo la partición de un conjunto de n observaciones en k grupos en el que cada observación pertenece al grupo cuyo valor medio es más cercano. Con este se busca formar grupos que sean heterogéneos entre grupos, pero homogéneos dentro de cada uno.\n",
    "\n",
    "Este método tiene diversas aplicaciones, una de las cuales consiste en la segmentación de mercado. En términos matemáticos, la lógica es la siguiente:\n",
    "\n",
    "<center>\n",
    "  $ arg\\:\\min\\: \\sum_{i=1}^{k}  \\sum_{x_j\\in S_i} ||x_j-\\mu_i ||^2  $  \n",
    "\n",
    "  Donde $k$ es el número de clusters, $S_i$ es el cluster $i$ y $\\mu_i$ corresponde a la media de dicho cluster.\n",
    "</center>\n",
    "\n",
    " <br/>\n",
    " \n",
    "**Para realizar un análisis de conglomerados, primero debemos determinar la cantidad de grupos que queremos formar.** \n",
    "\n",
    "El siguiente código nos permite analizar, para diversos números de grupos, la \"inercia\" resultante dado un número de grupos particular. La inercia es básicamente una medida de qué tan distintos son los miembros de los grupos resultantes entre si. Si eligieramos un número de grupos igual al número de observaciones, entonces lograríamos inercia=0, pero lo que buscamos es crear el menor número de grupos posibles, ya que precisamente queremos poder agrupar la información en pocos grupos."
   ]
  },
  {
   "cell_type": "code",
   "execution_count": null,
   "metadata": {
    "colab": {
     "base_uri": "https://localhost:8080/",
     "height": 283
    },
    "colab_type": "code",
    "id": "PVAEjYUX21w4",
    "outputId": "8a8ea6b2-3576-4b10-ea97-f4ac01c23d20"
   },
   "outputs": [],
   "source": [
    "#el objeto \"StandardScaler\" nos permite escalar las variables para evitar problemas con distancias absolutas..\n",
    "\n",
    "from sklearn.preprocessing import StandardScaler\n",
    "scl = StandardScaler()\n",
    "Xs = scl.fit_transform(X) #Estandarizamos variables\n",
    "\n",
    "\n",
    "from sklearn.cluster import MiniBatchKMeans\n",
    "dist = []\n",
    "for i in range(1, 11):\n",
    "    km = MiniBatchKMeans(n_clusters=i, init = 'k-means++', \\\n",
    "                n_init = 10, max_iter = 300,random_state = 1, batch_size = 1000)\n",
    "    _ = km.fit(Xs)\n",
    "    dist.append(km.inertia_)\n",
    "    \n",
    "plt.plot(range(1, 11), dist, 'o-');\n",
    "plt.ylabel('Inercia');\n",
    "plt.xlabel('Numero de Clusters');\n"
   ]
  },
  {
   "cell_type": "markdown",
   "metadata": {
    "colab_type": "text",
    "id": "usli0ZIxGPgY"
   },
   "source": [
    "En esta ocasión, determinamos el número optimo de clusters buscando el punto de inflexión de la curva. En nuestro caso el numero optimo se encuentra entre 3 y 4 clusters.\n",
    "\n",
    "\n",
    "**A continuación entrenamos nuestro modeo utilizando 3 clusters y luego graficamos los grupos proyectados a 2 dimensiones especificas.**\n",
    "\n",
    "Apliquemos entonces el método \"Kmeans\" con nuestros datos:\n"
   ]
  },
  {
   "cell_type": "code",
   "execution_count": null,
   "metadata": {
    "colab": {
     "base_uri": "https://localhost:8080/",
     "height": 269
    },
    "colab_type": "code",
    "id": "ag-SfOXuGSrT",
    "outputId": "e3ab9966-0db0-4a77-c233-5b395eaf53f4"
   },
   "outputs": [],
   "source": [
    "from sklearn.cluster import KMeans\n",
    "\n",
    "clusters = 3\n",
    "\n",
    "cluster = KMeans(n_clusters = clusters, random_state = 0, init='k-means++')\n",
    "\n",
    "# Notar que aquí usamos Xs, que son los datos originales, \n",
    "# pero normalizados (recuerden el problema de la \"distancia\" que mencioné en clases)\n",
    "\n",
    "l  = cluster.fit_predict(Xs)\n",
    "\n",
    "# la función \"fit_predict\" entrega la clasificación (grupo) predicha para cada observación. \n",
    "# Guardamos esa información en \"l\", para poder graficar posteriormente"
   ]
  },
  {
   "cell_type": "code",
   "execution_count": null,
   "metadata": {
    "collapsed": true
   },
   "outputs": [],
   "source": [
    "x, y = X[:, 0], X[:, 1]\n",
    "cc = scl.inverse_transform(cluster.cluster_centers_)\n",
    "\n",
    "for i in range(clusters):\n",
    "    _ = plt.scatter(x[l == i], y[l == i], s = 1)\n",
    "    _ = plt.scatter(cc[i, 0], cc[i, 1], c = 'C{}'.format(i), s = 100)"
   ]
  },
  {
   "cell_type": "markdown",
   "metadata": {
    "colab_type": "text",
    "id": "qWHTNXhSNRlY"
   },
   "source": [
    "**Como podemos ver en los resultados, en comparación al gráfico realizado previamente, ahora sí es posible distinguir las diferencias que existen entre las clases.**"
   ]
  },
  {
   "cell_type": "markdown",
   "metadata": {
    "colab_type": "text",
    "id": "FdNQKX-muwmH"
   },
   "source": [
    "## Tarea 1: Preguntas teóricas (5 puntos)"
   ]
  },
  {
   "cell_type": "markdown",
   "metadata": {
    "colab_type": "text",
    "id": "mZk6M_e7QfD-"
   },
   "source": [
    "1. ¿Qué diferencias hay entre un modelo supervisado y uno no supervisado? ¿A cuál de estos correspondería el análisis de conglomerados?\n",
    "2. ¿Qué paso es necesario realizar con los datos previo a utilizar un modelo no supervisado? ¿Por qué? \n",
    "3. ¿Por qué cree es necesario aplicar criterios al momento de decidir la cantidad de clusters? ¿Qué ocurriría si elige muchos o muy pocos? Busque otro criterio de decisión y argumente su uso sobre el criterio antes presentado.\n",
    "4. ¿Por qué cree que métodos como éste pueden ser útiles en su carrera?\n",
    " "
   ]
  },
  {
   "cell_type": "markdown",
   "metadata": {
    "colab_type": "text",
    "id": "WLu9l7U7QnSn"
   },
   "source": [
    "**Ingrese sus respuestas aquí:**"
   ]
  },
  {
   "cell_type": "markdown",
   "metadata": {},
   "source": [
    "R1:\n",
    "\n",
    "R2:\n",
    "\n",
    "R3:\n",
    "\n",
    "R4:"
   ]
  },
  {
   "cell_type": "markdown",
   "metadata": {
    "colab_type": "text",
    "id": "vTlTvN9mu_Mi"
   },
   "source": [
    "## Tarea 2: Aplicación (5 puntos)"
   ]
  },
  {
   "cell_type": "markdown",
   "metadata": {
    "colab_type": "text",
    "id": "AH7x1kiaYbP_"
   },
   "source": [
    "A continuación usted deberá aplicar sus conocimientos de clustering. Para ello importaremos el set de datos \"Iris\", un set que se ha confertido en un caso de prueba común para por muchas técnicas de clasificacion estadísticas en machine learning.\n",
    "\n",
    "Edgar Anderson coleccionó estos datos para cuantificar la variación morfológica de la flor Iris de tres especies relacionadas (Iris setosa, Iris virginica e Iris Versicolor).\n",
    "\n",
    "El conjunto de datos contiene 50 muestras de cada una de tres especies de Iris, para las que se midieron el largo y ancho del sépalo y del pétalo, todos en centímetros. Basado en la combinación de estos cuatro rasgos, Fisher desarrolló un modelo discriminante lineal para distinguir entre una especie y otra."
   ]
  },
  {
   "cell_type": "code",
   "execution_count": null,
   "metadata": {
    "colab": {
     "base_uri": "https://localhost:8080/",
     "height": 202
    },
    "colab_type": "code",
    "id": "bEw72bboQFyd",
    "outputId": "54dced7a-3ed5-4746-dccc-e19a68f139ce"
   },
   "outputs": [],
   "source": [
    "from sklearn import datasets\n",
    "iris = datasets.load_iris()\n",
    "\n",
    "X = iris.data\n",
    "Y = iris.target\n",
    "\n",
    "datos = pd.DataFrame(X,columns = ['Sepal Length','Sepal Width','Petal Length','Petal Width'])\n",
    "datos.head()"
   ]
  },
  {
   "cell_type": "markdown",
   "metadata": {
    "colab_type": "text",
    "id": "JFS_lgEiX1JI"
   },
   "source": [
    "En base a la base de datos cargada, realizando un análisis de conglomerado, usted deberá: \n",
    "\n",
    "1. Evaluar la importancia de escalar las variables y realizarlo en caso de determinarlo necesario.\n",
    "2. Determinar el número óptimo de clusters a utilizar.\n",
    "3. Graficar sus resultados, mostrando como se puede de clasificar a estas plantas en base a sus características.\n",
    "4. Explicar qué ventaja nos puede presentar utilizar este método en vez de otros métodos tales como una regresión."
   ]
  },
  {
   "cell_type": "code",
   "execution_count": null,
   "metadata": {
    "colab": {},
    "colab_type": "code",
    "collapsed": true,
    "id": "XacOxTMehkiz"
   },
   "outputs": [],
   "source": [
    "# Realice las operaciones aquí\n"
   ]
  },
  {
   "cell_type": "code",
   "execution_count": null,
   "metadata": {
    "colab": {},
    "colab_type": "code",
    "collapsed": true,
    "id": "cq-n1izthwSF"
   },
   "outputs": [],
   "source": [
    "# Realice las operaciones aquí"
   ]
  },
  {
   "cell_type": "markdown",
   "metadata": {
    "colab_type": "text",
    "id": "aqhhXEVKhhTn"
   },
   "source": [
    "<hr/>"
   ]
  },
  {
   "cell_type": "markdown",
   "metadata": {
    "colab_type": "text",
    "id": "JbW8ZFW78-yo"
   },
   "source": [
    "<hr/>\n",
    "<center> <h1>Fin del laboratorio.</h1> </center>\n",
    "\n",
    " **Recuerde compartir el Notebook con ayudantes (arybertt@uc.cl, pagonzalez20@uc.cl) y profesor (cealvara@gmail.com)**."
   ]
  }
 ],
 "metadata": {
  "colab": {
   "collapsed_sections": [],
   "name": "Lab8_20190605",
   "provenance": [],
   "version": "0.3.2"
  },
  "kernelspec": {
   "display_name": "Python 3",
   "language": "python",
   "name": "python3"
  },
  "language_info": {
   "codemirror_mode": {
    "name": "ipython",
    "version": 3
   },
   "file_extension": ".py",
   "mimetype": "text/x-python",
   "name": "python",
   "nbconvert_exporter": "python",
   "pygments_lexer": "ipython3",
   "version": "3.6.6"
  }
 },
 "nbformat": 4,
 "nbformat_minor": 1
}
