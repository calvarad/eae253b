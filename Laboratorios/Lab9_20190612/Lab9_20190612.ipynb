{
  "nbformat": 4,
  "nbformat_minor": 0,
  "metadata": {
    "colab": {
      "name": "Lab9_20190612.ipynb",
      "version": "0.3.2",
      "provenance": [],
      "collapsed_sections": []
    },
    "language_info": {
      "codemirror_mode": {
        "name": "ipython",
        "version": 3
      },
      "file_extension": ".py",
      "mimetype": "text/x-python",
      "name": "python",
      "nbconvert_exporter": "python",
      "pygments_lexer": "ipython3",
      "version": "3.6.5"
    },
    "kernelspec": {
      "display_name": "Python 3",
      "language": "python",
      "name": "python3"
    }
  },
  "cells": [
    {
      "cell_type": "markdown",
      "metadata": {
        "colab_type": "text",
        "id": "LC15HlaVwPHd"
      },
      "source": [
        "# Laboratorio 9. EAE253b\n",
        "<hr/>\n",
        "\n",
        "**Antes de comenzar:**\n",
        "\n",
        "- Laboratorio debe ser realizado **de forma individual**. Obviamente, se pueden discutir ideas, pero cualquier intercambio de códigos **no está permitido**.\n",
        "- Sólo se evaluarán secciones \"**TAREAS**\"; pero se recomienda realizar secciones **EJERCICIOS**\n",
        "\n",
        "**Instrucciones de entrega:**\n",
        "\n",
        "- Debe entregar este laboratorio por WebCurso, en buzón de tareas. Descargar archivo \".ipynb\" a su equipo y luego subirlo.\n",
        "- Además, **debe compartir el Notebook con ayudantes (arybertt@uc.cl, pagonzalez20@uc.cl) y profesor (cealvara@gmail.com)**.\n",
        "- Plazo máximo de entrega: **Viernes 21 de junio, 11.55 pm.**\n"
      ]
    },
    {
      "cell_type": "markdown",
      "metadata": {
        "colab_type": "text",
        "id": "skTOKBE4CWRt"
      },
      "source": [
        "<hr />"
      ]
    },
    {
      "cell_type": "markdown",
      "metadata": {
        "colab_type": "text",
        "id": "t4gY2ZquZfmA"
      },
      "source": [
        "## Introducción\n",
        "\n",
        "En este laboratorio, practicaremos con algunas \"Tareas\" de Machine Learning. En la primera parte, veremos un ejemplo de **clasificación** a través de la regresión logística y luego, veremos cómo realizar lo mismo a través de árboles de decisión.\n",
        "\n",
        "**Nota: Ejemplos basados en workshop \"Machine Learning con Python\", realizado por DataUC**"
      ]
    },
    {
      "cell_type": "markdown",
      "metadata": {
        "colab_type": "text",
        "id": "pwJh_bNuS0GH"
      },
      "source": [
        "## Parte 0. Importamos algunas herramientas necesarias"
      ]
    },
    {
      "cell_type": "code",
      "metadata": {
        "colab_type": "code",
        "id": "z-H40tYHSzLw",
        "colab": {}
      },
      "source": [
        "import sqlite3\n",
        "import pandas as pd\n",
        "import numpy as np\n",
        "from matplotlib import pyplot as plt\n",
        "import seaborn as sb\n",
        "import warnings\n",
        "warnings.filterwarnings('ignore')\n",
        "%matplotlib inline\n",
        "\n",
        "!pip install -U -q PyDrive\n",
        "from pydrive.auth import GoogleAuth\n",
        "from pydrive.drive import GoogleDrive\n",
        "from google.colab import auth\n",
        "from oauth2client.client import GoogleCredentials\n",
        "\n",
        "auth.authenticate_user()\n",
        "gauth = GoogleAuth()\n",
        "gauth.credentials = GoogleCredentials.get_application_default()\n",
        "drive = GoogleDrive(gauth)\n"
      ],
      "execution_count": 0,
      "outputs": []
    },
    {
      "cell_type": "markdown",
      "metadata": {
        "colab_type": "text",
        "id": "FH32si4H6YYD"
      },
      "source": [
        "Ahora cargamos los datos del lab"
      ]
    },
    {
      "cell_type": "code",
      "metadata": {
        "colab_type": "code",
        "id": "tr09lknyTryX",
        "colab": {}
      },
      "source": [
        "link = 'https://drive.google.com/file/d/11W1Rkz3_4j0YRPX34AZ-nTi6ZFWmTRi-/view?usp=sharing'\n",
        "id = link.split('/')[5]\n",
        "print(id)\n",
        "downloaded = drive.CreateFile({'id':id}) \n",
        "downloaded.GetContentFile('ejemplo.sqlite')"
      ],
      "execution_count": 0,
      "outputs": []
    },
    {
      "cell_type": "code",
      "metadata": {
        "colab_type": "code",
        "id": "l4CviQTADxY3",
        "colab": {}
      },
      "source": [
        "conn = sqlite3.connect('ejemplo.sqlite')\n",
        "df = pd.read_sql('SELECT * FROM data where A is not null and b is not null and class is not null', conn)\n",
        "\n",
        "#veamos algunas estadísticas de esta base de datos\n",
        "df.describe().transpose()"
      ],
      "execution_count": 0,
      "outputs": []
    },
    {
      "cell_type": "markdown",
      "metadata": {
        "colab_type": "text",
        "id": "mOGwGbe96r3U"
      },
      "source": [
        "La base de datos que acabamos de cargar tiene 3 columnas:\n",
        "- A\n",
        "- B\n",
        "- class"
      ]
    },
    {
      "cell_type": "code",
      "metadata": {
        "colab_type": "code",
        "id": "_wCVVsNkHL8Y",
        "colab": {}
      },
      "source": [
        "plt.scatter(df['A'], df['B'],alpha=0.5)"
      ],
      "execution_count": 0,
      "outputs": []
    },
    {
      "cell_type": "markdown",
      "metadata": {
        "colab_type": "text",
        "id": "vkopy_Tx22NM"
      },
      "source": [
        "## Métodos de clasificación\n",
        "\n",
        "### Regresión logística\n",
        "\n",
        "Para estimar un modelo de regresión logística, haremos lo siguiente:\n",
        "\n",
        "1. Desde el dataframe original, creamos un vector (Serie) que contiene las etiquetas reales de cada dato (\"Y\") y una matriz de vectores (DataFrame) con las variables explicativas (\"X\").\n",
        "2. Luego, necesitamos separar los datos en 2 grupos: un subconjunto de los datos para entrenar el modelo, y un subconjunto para validar nuestros resultados. Usamos train_test_split para separar total de datos en un set de entrenamiento y prueba.\n",
        "3. El algoritmo de clasificacion que usaremos es una regresion logistica. Importamos desde sklearn la clase LogisticRegression y la entrenamos con los datos de entrenamiento.\n",
        "4. Ahora podemos visualizar el desempeño de nuestro clasificador comparando las regiones asociadas a cada clase con las etiquetas correctas del set de prueba.\n",
        "5. Calculamos el score (numero que mide la calidad de nuestro clasificador) u otras métricas (ver acá más metricas: https://scikit-learn.org/stable/modules/classes.html#module-sklearn.metrics)\n"
      ]
    },
    {
      "cell_type": "code",
      "metadata": {
        "colab_type": "code",
        "id": "i88gcc-XV4EE",
        "colab": {}
      },
      "source": [
        "from sklearn.preprocessing import StandardScaler\n",
        "scl = StandardScaler()\n",
        "X = df.iloc[:, :2].values\n",
        "Xs = scl.fit_transform(X) #Estandarizamos variables\n",
        "\n",
        "y = df.iloc[:, 2]\n",
        "\n",
        "from sklearn.model_selection import train_test_split\n",
        "X_train, X_test, y_train, y_test = train_test_split(Xs, y, test_size = 0.2)\n",
        "\n",
        "from sklearn.linear_model import LogisticRegression\n",
        "reg = LogisticRegression().fit(X_train, y_train)\n",
        "\n",
        "print('Score: {:.3f}'.format(reg.score(X_test, y_test)))"
      ],
      "execution_count": 0,
      "outputs": []
    },
    {
      "cell_type": "code",
      "metadata": {
        "colab_type": "code",
        "id": "qJYg4bv9uU5Z",
        "colab": {}
      },
      "source": [
        "from sklearn.metrics import confusion_matrix\n",
        "\n",
        "\n",
        "y_pred = reg.predict(X_test)\n",
        "conf = confusion_matrix(y_true = y_test, y_pred = y_pred)\n",
        "_ = plt.matshow(conf, cmap = plt.cm.Blues, alpha = 0.3);\n",
        "_ = plt.hlines(xmax= 3.5, xmin=-0.5, y=[0.5, 1.5, 2.5]);\n",
        "_ = plt.vlines(ymax= 3.5, ymin=-0.5, x=[0.5, 1.5, 2.5]);\n",
        "_ = plt.grid(b = None);\n",
        "for i in  range(conf.shape[0]):\n",
        "    for j in range(conf.shape[1]):\n",
        "        _ = plt.text(x = j, y = i, s = conf[i, j], va = 'center', ha = 'center', fontsize = 20);\n",
        "        \n",
        "plt.xlabel('Clase Predicha');\n",
        "plt.ylabel('Clase Real');"
      ],
      "execution_count": 0,
      "outputs": []
    },
    {
      "cell_type": "markdown",
      "metadata": {
        "colab_type": "text",
        "id": "IQjFrnX8y0cu"
      },
      "source": [
        "${\\displaystyle Precision\\ (precision)={\\frac {VP}{VP+FP}}} ;\\hspace{0.1cm}  $    \n",
        "\n",
        "${\\displaystyle Sensibilidad\\ (recuperacion\\ o\\ recall)={\\frac {VP}{VP+FN}}} ;\\hspace{0.1cm} $    \n",
        "\n",
        "${\\displaystyle Exactitud\\ (accuracy)={\\frac {VP+VN}{Total}}} $    \n",
        "\n",
        "${\\displaystyle Especificidad\\ (specificity)={\\frac {VN}{FP+VN}}} ;\\hspace{0.1cm} $    \n"
      ]
    },
    {
      "cell_type": "markdown",
      "metadata": {
        "colab_type": "text",
        "id": "8OIj9_RxJxJp"
      },
      "source": [
        "<hr/>"
      ]
    },
    {
      "cell_type": "markdown",
      "metadata": {
        "colab_type": "text",
        "id": "RYRg6o1RJnvF"
      },
      "source": [
        "### Árbol de decisión\n"
      ]
    },
    {
      "cell_type": "markdown",
      "metadata": {
        "colab_type": "text",
        "id": "3hTTNIREJolZ"
      },
      "source": [
        "A continuación veremos el caso de los árboles de decisión. Para este ejemplo utilizaremos la \"entropía\" o información ganada como criterio para determinar la relevancia de cada variable.\n",
        "\n",
        "En el siguiente link, se puede ver la documentación de este modelo. El parámetro \"criterion\" permite usar otro criterio para determinar la variable a usar en cada nivel.\n",
        "\n",
        "https://scikit-learn.org/stable/modules/generated/sklearn.tree.DecisionTreeClassifier.html#sklearn.tree.DecisionTreeClassifier"
      ]
    },
    {
      "cell_type": "code",
      "metadata": {
        "colab_type": "code",
        "id": "SfTprNt8J1Ls",
        "colab": {}
      },
      "source": [
        "from sklearn import metrics\n",
        "from sklearn import tree\n",
        "\n",
        "\n",
        "predictor = tree.DecisionTreeClassifier(criterion=\"entropy\",max_depth=3,min_samples_leaf=10)\n",
        "predictor = predictor.fit(X_train,y_train)\n",
        "\n",
        "y_pred = predictor.predict(X_test)\n",
        "\n",
        "print(\"Accuracy:\",metrics.accuracy_score(y_test, y_pred))\n",
        "print (predictor.tree_.node_count)"
      ],
      "execution_count": 0,
      "outputs": []
    },
    {
      "cell_type": "markdown",
      "metadata": {
        "colab_type": "text",
        "id": "os_5nI9zjZCk"
      },
      "source": [
        "Luego de estimar un \"Arbol\", podemos visualizar o analizar métricas de interés:"
      ]
    },
    {
      "cell_type": "code",
      "metadata": {
        "colab_type": "code",
        "id": "fgxjCjOsLEQD",
        "colab": {}
      },
      "source": [
        "from sklearn.tree import export_graphviz\n",
        "from sklearn.externals.six import StringIO  \n",
        "from IPython.display import Image  \n",
        "import pydotplus\n",
        "\n",
        "\n",
        "dot_data = StringIO()\n",
        "export_graphviz(predictor, out_file=dot_data,  \n",
        "                filled=True, rounded=True)\n",
        "graph = pydotplus.graph_from_dot_data(dot_data.getvalue())  \n",
        "graph.write_png('arbol.png')\n",
        "Image(graph.create_png())\n"
      ],
      "execution_count": 0,
      "outputs": []
    },
    {
      "cell_type": "markdown",
      "metadata": {
        "colab_type": "text",
        "id": "vTlTvN9mu_Mi"
      },
      "source": [
        "<hr/>"
      ]
    },
    {
      "cell_type": "markdown",
      "metadata": {
        "colab_type": "text",
        "id": "aqhhXEVKhhTn"
      },
      "source": [
        "## Tarea: Aplicación"
      ]
    },
    {
      "cell_type": "markdown",
      "metadata": {
        "colab_type": "text",
        "id": "RcW-uHpch86M"
      },
      "source": [
        "### Parte 1: Regresión Logística (5 puntos)"
      ]
    },
    {
      "cell_type": "markdown",
      "metadata": {
        "colab_type": "text",
        "id": "-TRlrRAnjjy4"
      },
      "source": [
        "Para este ejercicio, cargaremos la base de datos de características de vinos que vimos el lab pasado:"
      ]
    },
    {
      "cell_type": "code",
      "metadata": {
        "colab_type": "code",
        "id": "52GlYNgkXwuj",
        "colab": {}
      },
      "source": [
        "#Importamos base de datos\n",
        "from sklearn import datasets\n",
        "bd = datasets.load_wine()\n",
        "vino = pd.DataFrame(bd.data,columns = ['Alcohol','Malic acid','Ash','Alcalinity of ash','Magnesium','Total phenols','Flavanoids','Nonflavanoid phenols','Proanthocyanins','Color intensity','Hue','OD280/OD315 of diluted wines','Proline'])\n",
        "categoria = bd.target\n",
        "vino.head()"
      ],
      "execution_count": 0,
      "outputs": []
    },
    {
      "cell_type": "markdown",
      "metadata": {
        "colab_type": "text",
        "id": "TMFDQKlBX3NB"
      },
      "source": [
        "### Tareas:\n",
        "\n",
        "En base a la base de datos cargada, realizando una regresión logística, usted deberá: \n",
        "\n",
        "1. Análizar los datos presentados y evaluar la necesidad de reescalar las variables X.\n",
        "2. De ser necesario, reescalar las variables X.\n",
        "3. Particionar los datos en 70% para entrenamiento y 30% para posterior prueba.\n",
        "4. Entrenar su modelo y probarlo. Explique sus resultados.\n",
        "5. Calcular las 4 métricas antes presentadas.\n",
        "6. En base a la matriz de confusión: ¿Sería su modelo útil para una compañía que quiere etiquetar una nueva linea como su única premium y hacerla la imagen de la compañía?"
      ]
    },
    {
      "cell_type": "code",
      "metadata": {
        "id": "YxcdLFHzw03l",
        "colab_type": "code",
        "colab": {}
      },
      "source": [
        "# Ingrese su codigo aqui"
      ],
      "execution_count": 0,
      "outputs": []
    },
    {
      "cell_type": "markdown",
      "metadata": {
        "colab_type": "text",
        "id": "dMXaNP54kS9b"
      },
      "source": [
        "### Parte 2: Árboles de decisión (5 puntos)\n",
        "\n",
        "Para el ejercicio siguiente, usaremos la base de datos de \"muestras de tumores\" que miramos en clases:"
      ]
    },
    {
      "cell_type": "code",
      "metadata": {
        "colab_type": "code",
        "id": "4z05cGgXVkRF",
        "colab": {}
      },
      "source": [
        "from sklearn import datasets\n",
        "cancer = datasets.load_breast_cancer(return_X_y=False)\n",
        "\n",
        "X = cancer.data\n",
        "Y = cancer.target\n",
        "\n",
        "datos = pd.DataFrame(X,columns = list(cancer.feature_names))\n",
        "categoria = list(cancer.target_names)\n",
        "\n",
        "datos.head()"
      ],
      "execution_count": 0,
      "outputs": []
    },
    {
      "cell_type": "markdown",
      "metadata": {
        "colab_type": "text",
        "id": "b4nit-6TkbZp"
      },
      "source": [
        "Tal como se explicó en clase, esta base de datos contiene diversas características de un tumor puntual, además de una clasificación sobre el tipo de tumor (maligno o benigno). \n",
        "\n",
        "Antes de pasar a los ejercicios, corramos un modelo de regresión logistica para analizar los datos y tener un modelo de comparación:"
      ]
    },
    {
      "cell_type": "code",
      "metadata": {
        "colab_type": "code",
        "id": "aJWfas-BmNHD",
        "colab": {}
      },
      "source": [
        "from sklearn.model_selection import train_test_split\n",
        "X = StandardScaler().fit_transform(X) #escalamos datos\n",
        "X_train, X_test, y_train, y_test = train_test_split(X, Y, test_size = 0.3,random_state = 134) #Separamos\n",
        "\n",
        "from sklearn.linear_model import LogisticRegression\n",
        "reg = LogisticRegression().fit(X_train, y_train) #Entrenamos modelo\n",
        "\n",
        "print('Score: {:.3f}'.format(reg.score(X_test, y_test))) #Imprimimos resultado de la prueba"
      ],
      "execution_count": 0,
      "outputs": []
    },
    {
      "cell_type": "code",
      "metadata": {
        "colab_type": "code",
        "id": "WIhFGQ8o3278",
        "colab": {}
      },
      "source": [
        "from sklearn.metrics import confusion_matrix\n",
        "\n",
        "y_pred = reg.predict(X_test)\n",
        "conf = confusion_matrix(y_true = y_test, y_pred = y_pred)   #Se le puede agregar un diseño si la persona quiere.\n",
        "\n",
        "cm = pd.DataFrame(conf,columns=['P. Maligno','P. Benigno'], index=categoria)\n",
        "cm"
      ],
      "execution_count": 0,
      "outputs": []
    },
    {
      "cell_type": "markdown",
      "metadata": {
        "colab_type": "text",
        "id": "g7d6mRuVAJ-D"
      },
      "source": [
        "### Tareas:\n",
        "\n",
        "Utilizando la misma base de datos del ejercicio anterior, usted deberá: \n",
        "\n",
        "1. Generar un árbol de decisión con una profundidad de 2 niveles. Grafique.\n",
        "2. Generar otro árbol de decisión, en el que haya un máximo de 12 observaciones por nodo terminal. Grafique.\n",
        "3. Generar la matriz de confusión del modelo y en base a los resultados comparar este con la su los resultados de la regresión logística. ¿Qué modelo sería mejor?"
      ]
    },
    {
      "cell_type": "code",
      "metadata": {
        "colab_type": "code",
        "id": "jDFQr0BrVJcQ",
        "colab": {}
      },
      "source": [
        "# Ingrese su codigo aqui"
      ],
      "execution_count": 0,
      "outputs": []
    },
    {
      "cell_type": "markdown",
      "metadata": {
        "colab_type": "text",
        "id": "JbW8ZFW78-yo"
      },
      "source": [
        "<hr/>\n",
        "<center> <h1>Fin del laboratorio.</h1> </center>\n",
        "\n",
        " **Recuerde compartir el Notebook con ayudantes (arybertt@uc.cl, pagonzalez20@uc.cl) y profesor (cealvara@gmail.com)**."
      ]
    }
  ]
}