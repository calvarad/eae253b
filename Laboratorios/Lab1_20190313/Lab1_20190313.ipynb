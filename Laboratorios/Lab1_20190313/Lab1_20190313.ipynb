{
 "cells": [
  {
   "cell_type": "markdown",
   "metadata": {
    "colab_type": "text",
    "id": "LC15HlaVwPHd"
   },
   "source": [
    "# Laboratorio 1. EAE253b\n",
    "<hr/>\n",
    "\n",
    "**Antes de comenzar:**\n",
    "\n",
    "- Laboratorio debe ser realizado **de forma individual**. Obviamente, se pueden discutir ideas, pero cualquier intercambio de códigos **no está permitido**.\n",
    "- Sólo se evaluarán secciones \"**TAREAS**\"; pero se recomienda realizar secciones **EJERCICIOS**\n",
    "\n",
    "**Instrucciones de entrega:**\n",
    "\n",
    "- Debe entregar este laboratorio por WebCurso, en buzón de tareas. Descargar archivo \".ipynb\" a su equipo y luego subirlo.\n",
    "- Además, **debe compartir el Notebook con ayudantes (arybertt@uc.cl, pagonzalez20@uc.cl) y profesor (cealvara@gmail.com)**.\n",
    "- Plazo máximo de entrega: **Martes 19 de marzo, 5pm.**\n"
   ]
  },
  {
   "cell_type": "markdown",
   "metadata": {
    "colab_type": "text",
    "id": "OxRXN_HmvJOy"
   },
   "source": [
    "### Tipos de datos\n",
    "Los tipos de datos básicos que encontramos en Python son:\n",
    "\n",
    "- números (int o float)\n",
    "- booleanos (True o False)\n",
    "- nada (None)\n",
    "- texto (str)"
   ]
  },
  {
   "cell_type": "code",
   "execution_count": null,
   "metadata": {
    "colab": {
     "base_uri": "https://localhost:8080/",
     "height": 34
    },
    "colab_type": "code",
    "id": "7DMoXWl4wy_-",
    "outputId": "b2387255-1309-412a-aaa1-4719d665822c"
   },
   "outputs": [],
   "source": [
    "# estos objetos son numeros\n",
    "\n",
    "num1 = 3\n",
    "num2 = 7 / 8\n",
    "num3 = 0.4\n",
    "\n",
    "# estos objetos son \"objetos especiales\"\n",
    "\n",
    "flag1 = True   # este es booleano \n",
    "flag2 = False  # este es booleano\n",
    "flag3 = None   # este es \"NoneType\"\n",
    "\n",
    "# Tener en cuenta que los booleanos también pueden ser interpretados como números:\n",
    "ex1 = True + False # -> 1\n",
    "ex2 = True + True # -> 2\n",
    "\n",
    "# estos objetos son \"strings\" (texto)\n",
    "\n",
    "text1 = 'hola'\n",
    "text2 = 'como'\n",
    "text3 = \"estas\""
   ]
  },
  {
   "cell_type": "markdown",
   "metadata": {
    "colab_type": "text",
    "id": "eHxOg_Xn53vH"
   },
   "source": [
    "**EJERCICIOS**. Practique con datos basicos; cree algunos objetos de datos e \"imprima\" su valor (o sea, use función \"**print()**\")"
   ]
  },
  {
   "cell_type": "code",
   "execution_count": null,
   "metadata": {
    "colab": {},
    "colab_type": "code",
    "collapsed": true,
    "id": "AYGK2e9t56lO"
   },
   "outputs": [],
   "source": []
  },
  {
   "cell_type": "markdown",
   "metadata": {
    "colab_type": "text",
    "id": "BvAOLgDix-GH"
   },
   "source": [
    "### Funciones matemáticas más comunes.\n",
    "\n",
    "La distribución estándar de python tiene las operaciones matemáticas mas comunes ya incorporadas. Por ejemplo,   \n",
    "\n",
    "- +, -, /, *, ** (suma, resta, division, multiplicacion, exponente)\n",
    "- % operador modulo\n",
    "- // division parte entera\n",
    "\n",
    "**EJERCICIOS**. Prueba estas operaciones sobre números:"
   ]
  },
  {
   "cell_type": "code",
   "execution_count": null,
   "metadata": {
    "colab": {},
    "colab_type": "code",
    "collapsed": true,
    "id": "SfQzhOEwy388"
   },
   "outputs": [],
   "source": [
    "# ingresar códigos aquí\n"
   ]
  },
  {
   "cell_type": "markdown",
   "metadata": {
    "colab_type": "text",
    "id": "zuEEV5P8y1ab"
   },
   "source": [
    "### Otras funciones matemáticas\n",
    "\n",
    "Otras operaciones/funciones debe ser importadas desde la librería \"math\".\n",
    "\n",
    "Ver https://docs.python.org/3/library/math.html para la lista completa de funciones disponibles"
   ]
  },
  {
   "cell_type": "code",
   "execution_count": null,
   "metadata": {
    "colab": {},
    "colab_type": "code",
    "id": "52F-TxkmyAgc"
   },
   "outputs": [],
   "source": [
    "# importamos funciones\n",
    "\n",
    "from math import ceil, log, sqrt\n",
    "\n",
    "a = log(3)\n",
    "print(a)\n",
    "\n",
    "b = ceil(a)\n",
    "print(b)\n",
    "\n",
    "c = sqrt(b)\n",
    "print(c)"
   ]
  },
  {
   "cell_type": "markdown",
   "metadata": {
    "colab_type": "text",
    "id": "pdat3itAyoSI"
   },
   "source": [
    "**EJERCICIOS**. Prueba estas (y otras) operaciones matemáticas"
   ]
  },
  {
   "cell_type": "code",
   "execution_count": null,
   "metadata": {
    "colab": {},
    "colab_type": "code",
    "collapsed": true,
    "id": "_hNXC3JF7oHH"
   },
   "outputs": [],
   "source": [
    "# ingresar códigos aquí"
   ]
  },
  {
   "cell_type": "markdown",
   "metadata": {
    "colab_type": "text",
    "id": "yQqh_kS4w6pQ"
   },
   "source": [
    "**TAREAS**\n",
    "\n",
    "1. Imagine una persona está parada en la calle mirando un gran edificio. Dicha persona se encuentra parada a 1 kilometro de distancia lineal. Con la ayuda de un compas, la persona determinó que el angulo entre la línea de la calle y la linea hacia la punta del edificio es de 17 grados. ¿cuál es la altura del edificio? (ayuda: la librería **math** tiene funciones trigonometricas y el valor de $\\pi$) \n",
    "\n",
    "1. Encuentre el digito verificador de su RUT. El algoritmo para calcular el digito verificador se puede revisar aqui: https://es.wikipedia.org/wiki/Rol_%C3%9Anico_Tributario"
   ]
  },
  {
   "cell_type": "code",
   "execution_count": null,
   "metadata": {
    "colab": {},
    "colab_type": "code",
    "collapsed": true,
    "id": "5YZ5El311ih4"
   },
   "outputs": [],
   "source": [
    "# ingresar códigos aquí"
   ]
  },
  {
   "cell_type": "markdown",
   "metadata": {
    "colab_type": "text",
    "id": "lQIJJd41vL8Y"
   },
   "source": [
    "### Listas\n",
    "\n",
    "Las listas son objetos que nos permiten guardar series de valores (u otros objetos) secuencialmente. En Python, las secuencias parten por defecto en el valor \"0\" hasta el valor \"N-1\"\n"
   ]
  },
  {
   "cell_type": "code",
   "execution_count": null,
   "metadata": {
    "colab": {},
    "colab_type": "code",
    "id": "u5qVyWsO8SpS"
   },
   "outputs": [],
   "source": [
    "# Creacion de listas\n",
    "\n",
    "lista1 = [1, 2, 3, 4, 5, 6]\n",
    "lista2 = ['a', 'b', 'c']\n",
    "\n",
    "print(lista1)\n",
    "print(lista2)"
   ]
  },
  {
   "cell_type": "code",
   "execution_count": null,
   "metadata": {
    "colab": {},
    "colab_type": "code",
    "id": "SiQCCSuJDAbI"
   },
   "outputs": [],
   "source": [
    "# Podemos acceder a elementos puntuales de las listas, usando su posición (en Python, índices de listas parten en 0)\n",
    "\n",
    "print(lista1[0])\n",
    "print(lista1[2])"
   ]
  },
  {
   "cell_type": "code",
   "execution_count": null,
   "metadata": {
    "colab": {},
    "colab_type": "code",
    "id": "fxJo3dY2DPTI"
   },
   "outputs": [],
   "source": [
    "# También podemos cambiar elementos puntuales de las listas\n",
    "\n",
    "lista1[1] = 'b'\n",
    "print(lista1)\n"
   ]
  },
  {
   "cell_type": "code",
   "execution_count": null,
   "metadata": {
    "colab": {},
    "colab_type": "code",
    "id": "a645M9JVDdkp"
   },
   "outputs": [],
   "source": [
    "# Además de acceder a elementos puntuales, podemos acceder a \"secciones\" o \"rebanadas\" de nuestras listas:\n",
    "\n",
    "primeros3 = lista1[0:3]\n",
    "print(lista1)\n",
    "\n",
    "lista1[0] = 8\n",
    "\n",
    "print(primeros3)\n",
    "print(lista1)"
   ]
  },
  {
   "cell_type": "code",
   "execution_count": null,
   "metadata": {
    "colab": {},
    "colab_type": "code",
    "id": "j2iwqe_JVDec"
   },
   "outputs": [],
   "source": [
    "# Una lista puede estar formada por otras listas (en realidad, una lista\n",
    "# puede contener cualquier objeto; esto será muy útil más adelante)\n",
    "\n",
    "notas = [ [\"Microeconomía I\", 45.40, \"Conta II\", 39.49, \"Macro II\", 50.0, \"Economía y Ciencia de los datos\", 70, \"Ética\", 60.5],\n",
    "          [\"Micro II\", 50, \"Conta II\", 45, \"Macro Internacional\", 45, \"OFG\", 68, \"OPR\", 60],\n",
    "          [\"Competencia\", 46, \"Cyt\",  50, \"Mercados\",50,\"OFG\",60,\"OPR\",65],\n",
    "          [\"Teoría Micro\", 46, \"Teoría Macro\",  52, \"Eco Mate\",48,\"Análisis Real\",39.5]\n",
    "        ]\n",
    "print(notas[0])\n",
    "print(notas[3][-1])\n",
    "print(notas[2][4:])"
   ]
  },
  {
   "cell_type": "markdown",
   "metadata": {
    "colab_type": "text",
    "id": "fouf6yVg8gCV"
   },
   "source": [
    "**EJERCICIOS**. Pruebe las operaciones sobre listas que se describen aquí:\n",
    "\n",
    "https://www.programiz.com/python-programming/methods/list"
   ]
  },
  {
   "cell_type": "code",
   "execution_count": null,
   "metadata": {
    "colab": {},
    "colab_type": "code",
    "collapsed": true,
    "id": "3dWKbnFa76vF"
   },
   "outputs": [],
   "source": [
    "# ingresar códigos aquí"
   ]
  },
  {
   "cell_type": "markdown",
   "metadata": {
    "colab_type": "text",
    "id": "-FdjluhOvNc4"
   },
   "source": [
    "**TAREAS**\n",
    "\n",
    "1. Construya una lista con los nombres de sus ramos actuales\n",
    "2. Encuentre  (imprima) el nombre del primer ramo ordenado alfabeticamente\n",
    "3. Encuentre (imprima) el nombre del ultimo ramo ordenado alfabeticamente\n",
    "4. Agregue a la lista de ramos, el ramo \"Astronomia 1\". ¿cómo cambia el primer y último ramo?\n",
    "5. Agregue a la lista de ramos, los números 10, 5 y 3. ¿cómo cambia el primer y último ramo?\n",
    "6. Agregue a la lista de ramos el valor \"True\", y el valor \"None\". ¿cómo cambia el primer y último ramo?\n",
    "7. Cambie el 3 ramo de su lista por el ramo \"Astrologia 1\"\n",
    "8. Seleccione los 3 primeros ramos de su lista e \"imprimalos\"."
   ]
  },
  {
   "cell_type": "code",
   "execution_count": null,
   "metadata": {
    "colab": {},
    "colab_type": "code",
    "collapsed": true,
    "id": "djEAWx60v9-W"
   },
   "outputs": [],
   "source": [
    "# ingresar códigos aquí"
   ]
  },
  {
   "cell_type": "markdown",
   "metadata": {
    "colab_type": "text",
    "id": "uDSskxn5_kQU"
   },
   "source": [
    "### Strings (texto)\n",
    "\n",
    "Los strings son objetos que nos permiten guardar caracteres en forma secuencial. Se pueden crear con apóstrofes ('), comillas simples (\") o la versión \"triple\" de estos (''' o \"\"\"). La regla principal es que se debe mantener la consistencia entre el inicio de un string y su término."
   ]
  },
  {
   "cell_type": "code",
   "execution_count": null,
   "metadata": {
    "colab": {},
    "colab_type": "code",
    "id": "sGf0O9axAc5r"
   },
   "outputs": [],
   "source": [
    "# Creación de strings básicos\n",
    "\n",
    "text1 = 'Este es un texto'\n",
    "text2 = \"Este también es un texto\"\n",
    "text3 = 'este texto tiene\\nun salto de linea'\n",
    "print(text3)"
   ]
  },
  {
   "cell_type": "markdown",
   "metadata": {
    "colab_type": "text",
    "id": "qLx5lFY__kDP"
   },
   "source": [
    "Adicionalmente, también podemos realizar ciertas operaciones con strings tales como: Contar la cantidad de carácteres que contienen, concatenar o reemplazar partes de este."
   ]
  },
  {
   "cell_type": "code",
   "execution_count": null,
   "metadata": {
    "colab": {
     "base_uri": "https://localhost:8080/",
     "height": 51
    },
    "colab_type": "code",
    "id": "bXfyt3gwTzC-",
    "outputId": "630a8952-3be6-419d-aa23-eda04241537a"
   },
   "outputs": [],
   "source": [
    "string1 = \"Esto es una linea de texto. \"\n",
    "string2 = \"Nos sirve para explicar nuestros resultados\"\n",
    "nr = 4\n",
    "\n",
    "#Existen diferentes funciones en python, por ejemplo type() nos permite conocer el tipo de una variable y len() su longitud\n",
    "\n",
    "print(\"Para string1 obtenemos\", type(string1),\". Mientras que para nr obtenemos\", type(nr))\n",
    "print(\"String1 tiene\", len(string1), \"caractéres\")\n",
    "\n",
    "# Ojo: notar que la función \"print()\" nos permite ingresar un número indeterminado\n",
    "# de variables a imprimir. Cada una la separamos por una coma.\n",
    "# print() por defecto agregará un espacio en blanco entre cada valor.\n"
   ]
  },
  {
   "cell_type": "code",
   "execution_count": null,
   "metadata": {
    "colab": {},
    "colab_type": "code",
    "id": "O3C9rGmUrNtV"
   },
   "outputs": [],
   "source": [
    "\n",
    "#Si queremos \"unir\" dos textos que tenemos, podemos simplemente sumar dichas variables para concatenarlas\n",
    "\n",
    "print(string1 + string2)\n",
    "\n",
    "\n",
    "# Al momento de imprimir un texto, también es posible llamar a alguna variable que tengamos almacenada.\n",
    "# En Python3, la sintaxis para ello es la siguiente:\n",
    "\n",
    "print(\"Actualmente cuento con {} dólares\".format(nr))\n",
    "\n"
   ]
  },
  {
   "cell_type": "code",
   "execution_count": null,
   "metadata": {
    "colab": {},
    "colab_type": "code",
    "id": "_3PVntjhrPfd"
   },
   "outputs": [],
   "source": [
    "\n",
    "# Como es de esperar, podemos reemplazar ciertos caracteres de un texto por otros:\n",
    "\n",
    "nuevastr = string1.replace(\"una\", \"otra\")\n",
    "print(nuevastr)"
   ]
  },
  {
   "cell_type": "markdown",
   "metadata": {
    "colab_type": "text",
    "id": "tdhY4IxTAb9N"
   },
   "source": [
    "**EJERCICIOS**. Pruebe algunas de las operaciones sobre strings que se detallan aqui: \n",
    "\n",
    "https://www.programiz.com/python-programming/methods/string  \n",
    "(enfocarse en aquellas que dicen *Python String*)"
   ]
  },
  {
   "cell_type": "code",
   "execution_count": null,
   "metadata": {
    "colab": {},
    "colab_type": "code",
    "collapsed": true,
    "id": "kcqU7lobAZO7"
   },
   "outputs": [],
   "source": [
    "# ingresar códigos aquí\n"
   ]
  },
  {
   "cell_type": "markdown",
   "metadata": {
    "colab_type": "text",
    "id": "vlbN2QnRU0tF"
   },
   "source": [
    "**TAREAS**\n",
    "\n",
    "1. Genere 2 variables de texto e imprimalas utilizando solo un comando y en líneas diferentes (*hint*: el caracter \\n representa un salto de línea).\n",
    "\n",
    "1. Ahora concatene ambos textos y almacénelos en una variable llamada *mitexto*. Imprima el valor de esta nueva variable en mayusculas (*hint:* \"upper()\"). \n",
    "\n",
    "1. Sin modificar la variable antes generada, elimine todos los espacios de su texto e imprimalo completamente en minúsculas.\n",
    "\n",
    "1. Cuente la cantidad de caractéres que tiene su resultado en la actividad 2 y comparela con la cantidad que tiene en la actividad 3. Se espera un resultado numérico obtenido mediante código."
   ]
  },
  {
   "cell_type": "code",
   "execution_count": null,
   "metadata": {
    "colab": {},
    "colab_type": "code",
    "collapsed": true,
    "id": "jm9l1K7emvJ-"
   },
   "outputs": [],
   "source": [
    "# ingresar códigos aquí\n"
   ]
  },
  {
   "cell_type": "markdown",
   "metadata": {
    "colab_type": "text",
    "id": "aZoWbPNkm3pK"
   },
   "source": [
    "<hr/>\n",
    "<center> <h1>Fin del laboratorio.</h1> </center>\n",
    " **Recuerde compartir el Notebook con ayudantes (arybertt@uc.cl, pagonzalez20@uc.cl) y profesor (cealvara@gmail.com)**."
   ]
  }
 ],
 "metadata": {
  "colab": {
   "collapsed_sections": [],
   "name": "Lab1_20190313",
   "provenance": [],
   "version": "0.3.2"
  },
  "kernelspec": {
   "display_name": "Python 3",
   "language": "python",
   "name": "python3"
  },
  "language_info": {
   "codemirror_mode": {
    "name": "ipython",
    "version": 3
   },
   "file_extension": ".py",
   "mimetype": "text/x-python",
   "name": "python",
   "nbconvert_exporter": "python",
   "pygments_lexer": "ipython3",
   "version": "3.6.6"
  }
 },
 "nbformat": 4,
 "nbformat_minor": 1
}
