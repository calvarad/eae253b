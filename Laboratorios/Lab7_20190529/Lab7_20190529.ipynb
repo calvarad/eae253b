{
 "cells": [
  {
   "cell_type": "markdown",
   "metadata": {
    "colab_type": "text",
    "id": "LC15HlaVwPHd"
   },
   "source": [
    "# Laboratorio 7. EAE253b\n",
    "<hr/>\n",
    "\n",
    "**Antes de comenzar:**\n",
    "\n",
    "- Laboratorio debe ser realizado **de forma individual**. Obviamente, se pueden discutir ideas, pero cualquier intercambio de códigos **no está permitido**.\n",
    "- Sólo se evaluarán secciones \"**TAREAS**\"; pero se recomienda realizar secciones **EJERCICIOS**\n",
    "\n",
    "**Instrucciones de entrega:**\n",
    "\n",
    "- Debe entregar este laboratorio por WebCurso, en buzón de tareas. Descargar archivo \".ipynb\" a su equipo y luego subirlo.\n",
    "- Además, **debe compartir el Notebook con ayudantes (arybertt@uc.cl, pagonzalez20@uc.cl) y profesor (cealvara@gmail.com)**.\n",
    "- Plazo máximo de entrega: **Viernes 7 de junio, 11.55 pm.**\n"
   ]
  },
  {
   "cell_type": "markdown",
   "metadata": {
    "colab_type": "text",
    "id": "skTOKBE4CWRt"
   },
   "source": [
    "<hr />"
   ]
  },
  {
   "cell_type": "markdown",
   "metadata": {
    "colab_type": "text",
    "id": "TVdkFyRvIzrS"
   },
   "source": [
    "## Parte 1. Recursion"
   ]
  },
  {
   "cell_type": "markdown",
   "metadata": {
    "colab_type": "text",
    "id": "v2wtc2J3NaK7"
   },
   "source": [
    "Como se explicó en clases, existen variados algoritmos (procedimientos) que pueden ser expresados de forma recursiva. Por ejemplo:"
   ]
  },
  {
   "cell_type": "code",
   "execution_count": null,
   "metadata": {
    "colab": {
     "base_uri": "https://localhost:8080/",
     "height": 33
    },
    "colab_type": "code",
    "executionInfo": {
     "elapsed": 840,
     "status": "ok",
     "timestamp": 1558916180652,
     "user": {
      "displayName": "Carlos Alvarado",
      "photoUrl": "https://lh5.googleusercontent.com/-gkHbwbmPyyY/AAAAAAAAAAI/AAAAAAAAApc/0ySoKQSuj2Y/s64/photo.jpg",
      "userId": "09331894842415108886"
     },
     "user_tz": 240
    },
    "id": "i88gcc-XV4EE",
    "outputId": "81047e25-b02b-47a0-f0eb-6d416aab350e"
   },
   "outputs": [],
   "source": [
    "def factorial(n):\n",
    "    if n <= 1:\n",
    "        return 1\n",
    "    else:\n",
    "        return n * factorial(n-1)\n",
    "\n",
    "factorial(3)"
   ]
  },
  {
   "cell_type": "markdown",
   "metadata": {
    "colab_type": "text",
    "id": "j-XYu8LSPI9R"
   },
   "source": [
    "No todos los procedimientos resultan más simples escritos de forma recursiva, pero existen muchos que son naturalmente recursivos, y que una solución recursiva es mucho más entendible y lógica. La siguiente funcion nos permite encontrar el mínimo valor de una lista de manera recursiva (aunque puede no ser muy intuitivo...):"
   ]
  },
  {
   "cell_type": "code",
   "execution_count": null,
   "metadata": {
    "colab": {
     "base_uri": "https://localhost:8080/",
     "height": 33
    },
    "colab_type": "code",
    "executionInfo": {
     "elapsed": 1087,
     "status": "ok",
     "timestamp": 1558922506810,
     "user": {
      "displayName": "Carlos Alvarado",
      "photoUrl": "https://lh5.googleusercontent.com/-gkHbwbmPyyY/AAAAAAAAAAI/AAAAAAAAApc/0ySoKQSuj2Y/s64/photo.jpg",
      "userId": "09331894842415108886"
     },
     "user_tz": 240
    },
    "id": "-ugNxBo-L8FP",
    "outputId": "372747c8-2437-4aa4-e51d-eebc21b6ca16"
   },
   "outputs": [],
   "source": [
    "def find_min(L):\n",
    "    \n",
    "    #caso base\n",
    "    if len(L) == 1:\n",
    "        return L[0]\n",
    "    \n",
    "    #llamada recursiva\n",
    "    value = find_min(L[1:])\n",
    "    \n",
    "    #decision\n",
    "    if L[0] < value:\n",
    "        return L[0]\n",
    "    else:\n",
    "        return value\n",
    "        \n",
    "find_min([4, 5, 1, -3, 2])\n"
   ]
  },
  {
   "cell_type": "markdown",
   "metadata": {
    "colab_type": "text",
    "id": "FdNQKX-muwmH"
   },
   "source": [
    "### Tarea 1. \n",
    "\n",
    "Escriba una función recursiva que le permita encontrar el máximo valor de una lista."
   ]
  },
  {
   "cell_type": "code",
   "execution_count": null,
   "metadata": {
    "colab": {},
    "colab_type": "code",
    "id": "YGq7O9_luv93"
   },
   "outputs": [],
   "source": []
  },
  {
   "cell_type": "markdown",
   "metadata": {
    "colab_type": "text",
    "id": "vTlTvN9mu_Mi"
   },
   "source": [
    "### Recursión y optimización\n",
    "\n",
    "Una de las aplicaciones de la recursión es la optimización numérica. Por ejemplo, si queremos resolver la ecuación $y = x^2 - 3$ :"
   ]
  },
  {
   "cell_type": "code",
   "execution_count": null,
   "metadata": {
    "colab": {
     "base_uri": "https://localhost:8080/",
     "height": 134
    },
    "colab_type": "code",
    "executionInfo": {
     "elapsed": 772,
     "status": "ok",
     "timestamp": 1558926652674,
     "user": {
      "displayName": "Carlos Alvarado",
      "photoUrl": "https://lh5.googleusercontent.com/-gkHbwbmPyyY/AAAAAAAAAAI/AAAAAAAAApc/0ySoKQSuj2Y/s64/photo.jpg",
      "userId": "09331894842415108886"
     },
     "user_tz": 240
    },
    "id": "bEw72bboQFyd",
    "outputId": "1c411131-73c5-475c-d7bb-d070ffea9e02"
   },
   "outputs": [],
   "source": [
    "def y(x):\n",
    "    return x**2 - 3\n",
    "\n",
    "def solve(y, x0=1, delta=0.01):\n",
    "    print('probando con x0 = {} y delta = {}'.format(x0, delta))\n",
    "\n",
    "    #caso base: me detengo cuando delta ya es muy pequeno\n",
    "    if abs(delta) < 0.0001:\n",
    "        return x0\n",
    "    \n",
    "    val1 = y(x0)\n",
    "    val2 = y(x0 + delta)\n",
    "\n",
    "    dydx = (val2 - val1) / delta\n",
    "    \n",
    "    #si asumimos ecuacion lineal, actualizamos X0 de esta manera:\n",
    "    delta = val1 / dydx\n",
    "    \n",
    "    x0 = x0 - delta\n",
    "    \n",
    "    return solve(y, x0, delta)\n",
    "    \n",
    "solve(y)"
   ]
  },
  {
   "cell_type": "markdown",
   "metadata": {
    "colab_type": "text",
    "id": "fU9lxYPrRUPv"
   },
   "source": [
    "### Tarea 2.\n",
    "\n",
    "Utilice la función \"solve\" para encontrar una solución a la siguiente ecuación:\n",
    "\n",
    "$y = log(x) - x^2 + 9$"
   ]
  },
  {
   "cell_type": "code",
   "execution_count": null,
   "metadata": {
    "colab": {
     "base_uri": "https://localhost:8080/",
     "height": 184
    },
    "colab_type": "code",
    "executionInfo": {
     "elapsed": 1054,
     "status": "ok",
     "timestamp": 1558926827615,
     "user": {
      "displayName": "Carlos Alvarado",
      "photoUrl": "https://lh5.googleusercontent.com/-gkHbwbmPyyY/AAAAAAAAAAI/AAAAAAAAApc/0ySoKQSuj2Y/s64/photo.jpg",
      "userId": "09331894842415108886"
     },
     "user_tz": 240
    },
    "id": "xE1AyyZlRTgN",
    "outputId": "ec89be8f-d40c-4704-b816-84e7bc458379"
   },
   "outputs": [],
   "source": [
    "# Ingrese su código acá\n",
    "\n"
   ]
  },
  {
   "cell_type": "code",
   "execution_count": null,
   "metadata": {
    "colab": {},
    "colab_type": "code",
    "id": "AgAEslS5SthU"
   },
   "outputs": [],
   "source": [
    "# Pruebe su código aca\n",
    "\n",
    "solve(y)"
   ]
  },
  {
   "cell_type": "markdown",
   "metadata": {
    "colab_type": "text",
    "id": "Yz_7xZ1jyy8o"
   },
   "source": [
    "## Parte 2. Grafos"
   ]
  },
  {
   "cell_type": "markdown",
   "metadata": {
    "colab_type": "text",
    "id": "fNqncmc7wRkx"
   },
   "source": [
    "Como se ha mencionado en clases, los grafos son estructuras de datos que nos permiten modelar relaciones (conexiones) entre objetos. Muchas de las operaciones (algoritmos) que se realizan sobre grafos son de naturaleza recursiva. Sin embargo, existen librerías que nos facilitan estas operaciones, \"escondiendo\" toda la parte recursiva y entregando al usuario una interfaz mucho más simple de uso.\n",
    "\n",
    "Para analizar grafos en Python, ocuparemos la librería **networkx**"
   ]
  },
  {
   "cell_type": "code",
   "execution_count": null,
   "metadata": {
    "colab": {},
    "colab_type": "code",
    "id": "CabtuCPWVNIq"
   },
   "outputs": [],
   "source": [
    "import networkx as nx\n",
    "\n",
    "#aqui creamos un Grafo vacío\n",
    "G = nx.Graph()"
   ]
  },
  {
   "cell_type": "markdown",
   "metadata": {
    "colab_type": "text",
    "id": "KLCogqmCUYP5"
   },
   "source": [
    "Existen varios tipos de grafos:\n",
    "- Direccionales: las relaciones entre nodos tienen \"sentido\", vale decir, no es lo mismo la relación A->B que la relacion B->A.\n",
    "- No direccionales: son grafos donde las relaciones no tienen \"sentido\". Vale decir, al conectar 2 nodos, se entiende que es posible transitar desde A a B como desde B a A.\n",
    "- Multigrafos: son grafos donde los nodos tienen distintos tipos de relaciones, en distintas capas o niveles."
   ]
  },
  {
   "cell_type": "markdown",
   "metadata": {
    "colab_type": "text",
    "id": "nVPmhbi-wvGd"
   },
   "source": [
    "Veamos una base de datos que nos permitirá entender mejor estas estructuras de datos. La base de datos que cargaremos proviene de un censo (ficticio) realizado en la universidad, con el objetivo de saber qué alumnos son amigos de qué alumnos."
   ]
  },
  {
   "cell_type": "code",
   "execution_count": null,
   "metadata": {
    "colab": {
     "base_uri": "https://localhost:8080/",
     "height": 1061
    },
    "colab_type": "code",
    "executionInfo": {
     "elapsed": 1302,
     "status": "ok",
     "timestamp": 1558918758767,
     "user": {
      "displayName": "Carlos Alvarado",
      "photoUrl": "https://lh5.googleusercontent.com/-gkHbwbmPyyY/AAAAAAAAAAI/AAAAAAAAApc/0ySoKQSuj2Y/s64/photo.jpg",
      "userId": "09331894842415108886"
     },
     "user_tz": 240
    },
    "id": "YmsAfd4swuDy",
    "outputId": "0c04ab81-6318-4493-8b74-a6650a476b42"
   },
   "outputs": [],
   "source": [
    "import pandas as pd\n",
    "\n",
    "url = 'https://github.com/calvarad/eae253b/blob/master/Laboratorios/Lab7_20190529/amigos.xlsx?raw=true'\n",
    "\n",
    "df = pd.read_excel(url)\n",
    "df"
   ]
  },
  {
   "cell_type": "markdown",
   "metadata": {
    "colab_type": "text",
    "id": "rehVrSUHzKiX"
   },
   "source": [
    "Algunas preguntas pueden ser respondidas fácilmente con Pandas. Practique lo siguiente con Pandas:\n",
    "\n",
    "- Número de \"amigos\" por encuestado\n",
    "- Número de \"encuestado\" por amigo"
   ]
  },
  {
   "cell_type": "code",
   "execution_count": null,
   "metadata": {
    "colab": {},
    "colab_type": "code",
    "id": "TqLIfIFu34AV"
   },
   "outputs": [],
   "source": [
    "#ingrese sus códigos aquí\n",
    "\n"
   ]
  },
  {
   "cell_type": "markdown",
   "metadata": {
    "colab_type": "text",
    "id": "NrW8O1uRzqOB"
   },
   "source": [
    "No obstante lo anterior, otras preguntas más interesantes, en cuanto a las relaciones de amistad, resultan difíciles de responder con Pandas. Por ejemplo:\n",
    "\n",
    "- ¿cuál es el alumno con más amigos? (considerando las veces que fue mencionado como amigo de otro encuestado).\n",
    "- ¿cuántos amigos en total tiene \"A\"? \n",
    "- ¿está \"A\" en el círculo de amigos de \"B\"? (Suponga que \"los amigos de mis amigos son mis amigos\")\n",
    "\n",
    "\n"
   ]
  },
  {
   "cell_type": "markdown",
   "metadata": {
    "colab_type": "text",
    "id": "U9qAf5mK3U61"
   },
   "source": [
    "#### Ejercicio: Trate de responder las preguntas anteriores con Pandas"
   ]
  },
  {
   "cell_type": "code",
   "execution_count": null,
   "metadata": {
    "colab": {},
    "colab_type": "code",
    "id": "qdCEhzeh3Go7"
   },
   "outputs": [],
   "source": [
    "# Ingrese su codigo aquí"
   ]
  },
  {
   "cell_type": "markdown",
   "metadata": {
    "colab_type": "text",
    "id": "f_JFYqXL3HDF"
   },
   "source": [
    "Las preguntas anteriores no siguen una lógica basada en registros en una tabla, sino más bien buscan extraer información basada en las distintas conexiones entre los alumnos. En estos casos, resulta mucho más fácil extraer la información requerida desde un Grafo:"
   ]
  },
  {
   "cell_type": "code",
   "execution_count": null,
   "metadata": {
    "colab": {
     "base_uri": "https://localhost:8080/",
     "height": 50
    },
    "colab_type": "code",
    "executionInfo": {
     "elapsed": 971,
     "status": "ok",
     "timestamp": 1558920032622,
     "user": {
      "displayName": "Carlos Alvarado",
      "photoUrl": "https://lh5.googleusercontent.com/-gkHbwbmPyyY/AAAAAAAAAAI/AAAAAAAAApc/0ySoKQSuj2Y/s64/photo.jpg",
      "userId": "09331894842415108886"
     },
     "user_tz": 240
    },
    "id": "jYo93Mj-1H7Z",
    "outputId": "fb2919c0-cdcf-44e6-9404-28320e62f075"
   },
   "outputs": [],
   "source": [
    "# Guardando los datos de relaciones, desde Pandas al grafo\n",
    "\n",
    "for i, (encuestado, amigo) in df.iterrows():\n",
    "    \n",
    "    # La función \"add_edge\" nos permite crear una nueva relación.\n",
    "    # Además, si no existen, crea los nuevos nodos correspondientes a los nodos\n",
    "    # involucrados en la relación que estamos creando\n",
    "    \n",
    "    G.add_edge(encuestado, amigo)\n",
    "\n",
    "    \n",
    "print('hay {} alumnos'.format(G.number_of_nodes()))\n",
    "print('hay {} conexiones'.format(G.number_of_edges()))"
   ]
  },
  {
   "cell_type": "markdown",
   "metadata": {
    "colab_type": "text",
    "id": "3m4b8xYB0NuD"
   },
   "source": [
    "Ahora cada persona de la base de datos es un \"nodo\""
   ]
  },
  {
   "cell_type": "code",
   "execution_count": null,
   "metadata": {
    "colab": {
     "base_uri": "https://localhost:8080/",
     "height": 33
    },
    "colab_type": "code",
    "executionInfo": {
     "elapsed": 878,
     "status": "ok",
     "timestamp": 1558919067792,
     "user": {
      "displayName": "Carlos Alvarado",
      "photoUrl": "https://lh5.googleusercontent.com/-gkHbwbmPyyY/AAAAAAAAAAI/AAAAAAAAApc/0ySoKQSuj2Y/s64/photo.jpg",
      "userId": "09331894842415108886"
     },
     "user_tz": 240
    },
    "id": "XurnfLPV0RgN",
    "outputId": "36fade82-a63b-4746-da06-a494d73a8e5f"
   },
   "outputs": [],
   "source": [
    "# Veamos los nodos que existen\n",
    "G.nodes()"
   ]
  },
  {
   "cell_type": "code",
   "execution_count": null,
   "metadata": {
    "colab": {
     "base_uri": "https://localhost:8080/",
     "height": 53
    },
    "colab_type": "code",
    "executionInfo": {
     "elapsed": 1073,
     "status": "ok",
     "timestamp": 1558920061492,
     "user": {
      "displayName": "Carlos Alvarado",
      "photoUrl": "https://lh5.googleusercontent.com/-gkHbwbmPyyY/AAAAAAAAAAI/AAAAAAAAApc/0ySoKQSuj2Y/s64/photo.jpg",
      "userId": "09331894842415108886"
     },
     "user_tz": 240
    },
    "id": "4eshdyH24DkE",
    "outputId": "d5778be3-d0c8-4ed7-851a-d266bfe0c94f"
   },
   "outputs": [],
   "source": [
    "# Veamos las conexiones que existen\n",
    "G.edges()"
   ]
  },
  {
   "cell_type": "markdown",
   "metadata": {
    "colab_type": "text",
    "id": "sUqk8rY20g6Y"
   },
   "source": [
    "Los grafos nos permiten realizar diversas operaciones (ver la documentación de networkx). \n",
    "\n",
    "https://networkx.github.io/documentation/stable/\n",
    "\n",
    "Dentro de las más comunes, se encuentran:\n",
    "\n",
    "- Iterar a través de nodos\n",
    "- Determinar el \"grado\" de un nodo determinado (in-degree / out-degree para grafos direccionales). El \"grado\" se refiere al número de conexiones que tiene un nodo determinado.\n",
    "- Buscar el camino más corto entre dos nodos.\n",
    "\n",
    "\n"
   ]
  },
  {
   "cell_type": "code",
   "execution_count": null,
   "metadata": {
    "colab": {
     "base_uri": "https://localhost:8080/",
     "height": 53
    },
    "colab_type": "code",
    "executionInfo": {
     "elapsed": 1009,
     "status": "ok",
     "timestamp": 1558919389965,
     "user": {
      "displayName": "Carlos Alvarado",
      "photoUrl": "https://lh5.googleusercontent.com/-gkHbwbmPyyY/AAAAAAAAAAI/AAAAAAAAApc/0ySoKQSuj2Y/s64/photo.jpg",
      "userId": "09331894842415108886"
     },
     "user_tz": 240
    },
    "id": "lABQxox3_Kg6",
    "outputId": "da2e4dcc-8c43-4749-c0c1-b3e725470661"
   },
   "outputs": [],
   "source": [
    "G.degree()"
   ]
  },
  {
   "cell_type": "markdown",
   "metadata": {
    "colab_type": "text",
    "id": "R6Y3nEmA4gRG"
   },
   "source": [
    "La función anterior nos entrega las conexiones de cada nodo (amigos). Podríamos ocupar esa función para encontrar el alumno (nodo) con más amigos (conexiones):"
   ]
  },
  {
   "cell_type": "code",
   "execution_count": null,
   "metadata": {
    "colab": {
     "base_uri": "https://localhost:8080/",
     "height": 435
    },
    "colab_type": "code",
    "executionInfo": {
     "elapsed": 720,
     "status": "ok",
     "timestamp": 1558920310087,
     "user": {
      "displayName": "Carlos Alvarado",
      "photoUrl": "https://lh5.googleusercontent.com/-gkHbwbmPyyY/AAAAAAAAAAI/AAAAAAAAApc/0ySoKQSuj2Y/s64/photo.jpg",
      "userId": "09331894842415108886"
     },
     "user_tz": 240
    },
    "id": "eDEqQnSf4pLV",
    "outputId": "5016479c-1066-48e6-ab97-3d272f7491fc"
   },
   "outputs": [],
   "source": [
    "# Primero, creamos una lista con el \"grado\" y el nombre del nodo (para poder ordenar)\n",
    "lista_grados = [(degree, node) for node, degree in G.degree()]\n",
    "\n",
    "#NOTA IMPORTANTE: LO ANTERIOR FUNCIONA CON NETWORKX 2.3 \n",
    "# SI QUIEREN CORRER EN SU COMPUTADOR, PUEDEN ACTUALIZAR LA VERSION\n",
    "# DE NETWORKX CON \"CONDA INSTALL NETWORKX\"\n",
    "#EN EL ANACONDA PROMPT (WINDOWS), O BIEN, \"PIP INSTALL NETWORKX\" (MAC)\n",
    "\n",
    "# Luego, ordenamos la lista y vemos los ítemes más altos\n",
    "sorted(lista_grados, reverse=True)\n",
    "\n",
    "# Los alumnos \"m\" y \"l\" son los que tienen más amigos!"
   ]
  },
  {
   "cell_type": "code",
   "execution_count": null,
   "metadata": {
    "colab": {
     "base_uri": "https://localhost:8080/",
     "height": 33
    },
    "colab_type": "code",
    "executionInfo": {
     "elapsed": 1191,
     "status": "ok",
     "timestamp": 1558920418867,
     "user": {
      "displayName": "Carlos Alvarado",
      "photoUrl": "https://lh5.googleusercontent.com/-gkHbwbmPyyY/AAAAAAAAAAI/AAAAAAAAApc/0ySoKQSuj2Y/s64/photo.jpg",
      "userId": "09331894842415108886"
     },
     "user_tz": 240
    },
    "id": "Lr7BLi_g5H6P",
    "outputId": "705af125-0512-4ec5-f3f7-fe57ade7288e"
   },
   "outputs": [],
   "source": [
    "# Veamos quienes son los amigos de \"m\"\n",
    "\n",
    "G.edges('m')"
   ]
  },
  {
   "cell_type": "markdown",
   "metadata": {
    "colab_type": "text",
    "id": "NxriH_11XyId"
   },
   "source": [
    "Ahora, si quisieramos ver cuántos amigos tiene \"a\", podríamos ocupar la misma función anterior:"
   ]
  },
  {
   "cell_type": "code",
   "execution_count": null,
   "metadata": {
    "colab": {
     "base_uri": "https://localhost:8080/",
     "height": 50
    },
    "colab_type": "code",
    "executionInfo": {
     "elapsed": 1046,
     "status": "ok",
     "timestamp": 1558920620805,
     "user": {
      "displayName": "Carlos Alvarado",
      "photoUrl": "https://lh5.googleusercontent.com/-gkHbwbmPyyY/AAAAAAAAAAI/AAAAAAAAApc/0ySoKQSuj2Y/s64/photo.jpg",
      "userId": "09331894842415108886"
     },
     "user_tz": 240
    },
    "id": "hZQOZ6Y4XxGd",
    "outputId": "cffe9acf-e488-4fae-80cc-24e50e8d1216"
   },
   "outputs": [],
   "source": [
    "amigos_de_a = G.edges('a')\n",
    "\n",
    "print('\"a\" tiene {} amigos'.format(len(amigos_de_a)))\n",
    "\n",
    "print('sus amigos son {}'.format(amigos_de_a))"
   ]
  },
  {
   "cell_type": "markdown",
   "metadata": {
    "colab_type": "text",
    "id": "3725SH2d3GTE"
   },
   "source": [
    "Otra de las operaciones comunes en un grafo es buscar conexiones posibles a partir de un nodo determinado. **networkx** tiene muchas funciones para buscar caminos (conexiones) entre nodos, en este caso usaremos la función single_source_shortest_path, que nos permite obtener una lista de todos los caminos más \"cortos\" en nuestro grafo, a partir del nodo \"a\":"
   ]
  },
  {
   "cell_type": "code",
   "execution_count": null,
   "metadata": {
    "colab": {
     "base_uri": "https://localhost:8080/",
     "height": 53
    },
    "colab_type": "code",
    "executionInfo": {
     "elapsed": 749,
     "status": "ok",
     "timestamp": 1558920903259,
     "user": {
      "displayName": "Carlos Alvarado",
      "photoUrl": "https://lh5.googleusercontent.com/-gkHbwbmPyyY/AAAAAAAAAAI/AAAAAAAAApc/0ySoKQSuj2Y/s64/photo.jpg",
      "userId": "09331894842415108886"
     },
     "user_tz": 240
    },
    "id": "Cqhbjg5d3FZB",
    "outputId": "56f358de-0142-4e33-d154-6c7d8697313b"
   },
   "outputs": [],
   "source": [
    "paths = nx.single_source_shortest_path(G, 'a')\n",
    "\n",
    "print(paths)"
   ]
  },
  {
   "cell_type": "markdown",
   "metadata": {
    "colab_type": "text",
    "id": "ZGliXUnr8TJy"
   },
   "source": [
    "Noten que \"paths\" es un diccionario, donde la llave del diccionario es el identificador del nodo al que se puede llegar desde \"a\", y el valor asociado a cada llave es una lista de nodos, que indica el \"camino\" a seguir para llegar desde \"a\" a dicho nodo."
   ]
  },
  {
   "cell_type": "markdown",
   "metadata": {
    "colab_type": "text",
    "id": "czTf7kgE8hnG"
   },
   "source": [
    "## Tarea 3\n",
    "\n",
    "1. Determine si \"b\" es amigo de \"a\", y muestre qué amigos los conectan"
   ]
  },
  {
   "cell_type": "code",
   "execution_count": null,
   "metadata": {
    "colab": {
     "base_uri": "https://localhost:8080/",
     "height": 50
    },
    "colab_type": "code",
    "executionInfo": {
     "elapsed": 914,
     "status": "ok",
     "timestamp": 1558921285554,
     "user": {
      "displayName": "Carlos Alvarado",
      "photoUrl": "https://lh5.googleusercontent.com/-gkHbwbmPyyY/AAAAAAAAAAI/AAAAAAAAApc/0ySoKQSuj2Y/s64/photo.jpg",
      "userId": "09331894842415108886"
     },
     "user_tz": 240
    },
    "id": "5ZxkXgsK8pNA",
    "outputId": "1b9ac2fd-cdda-4388-f774-02880268a33d"
   },
   "outputs": [],
   "source": [
    "# Ingrese su código aquí\n"
   ]
  },
  {
   "cell_type": "markdown",
   "metadata": {
    "colab_type": "text",
    "id": "zYQMJ79y9OQ_"
   },
   "source": [
    "2. Considerando los amigos de 2do nivel, ¿qué alumno tiene más amigos? (*Ayuda: la función single_source_shortest_path tiene un parámetro opcional \"cutoff\".*)\n",
    "\n",
    "https://networkx.github.io/documentation/networkx-1.10/reference/generated/networkx.algorithms.shortest_paths.unweighted.single_source_shortest_path.html"
   ]
  },
  {
   "cell_type": "code",
   "execution_count": null,
   "metadata": {
    "colab": {
     "base_uri": "https://localhost:8080/",
     "height": 435
    },
    "colab_type": "code",
    "executionInfo": {
     "elapsed": 1158,
     "status": "ok",
     "timestamp": 1558921699056,
     "user": {
      "displayName": "Carlos Alvarado",
      "photoUrl": "https://lh5.googleusercontent.com/-gkHbwbmPyyY/AAAAAAAAAAI/AAAAAAAAApc/0ySoKQSuj2Y/s64/photo.jpg",
      "userId": "09331894842415108886"
     },
     "user_tz": 240
    },
    "id": "Mv_XeXPN9Opa",
    "outputId": "ee7b0f1b-252f-440a-d56a-47f527f7194d"
   },
   "outputs": [],
   "source": [
    "# Ingrese su código aquí"
   ]
  },
  {
   "cell_type": "markdown",
   "metadata": {
    "colab_type": "text",
    "id": "JbW8ZFW78-yo"
   },
   "source": [
    "<hr/>\n",
    "<center> <h1>Fin del laboratorio.</h1> </center>\n",
    "\n",
    " **Recuerde compartir el Notebook con ayudantes (arybertt@uc.cl, pagonzalez20@uc.cl) y profesor (cealvara@gmail.com)**."
   ]
  }
 ],
 "metadata": {
  "anaconda-cloud": {},
  "colab": {
   "collapsed_sections": [],
   "name": "Lab7_20190529",
   "provenance": [],
   "version": "0.3.2"
  },
  "kernelspec": {
   "display_name": "Python [default]",
   "language": "python",
   "name": "python3"
  },
  "language_info": {
   "codemirror_mode": {
    "name": "ipython",
    "version": 3
   },
   "file_extension": ".py",
   "mimetype": "text/x-python",
   "name": "python",
   "nbconvert_exporter": "python",
   "pygments_lexer": "ipython3",
   "version": "3.5.5"
  }
 },
 "nbformat": 4,
 "nbformat_minor": 1
}
