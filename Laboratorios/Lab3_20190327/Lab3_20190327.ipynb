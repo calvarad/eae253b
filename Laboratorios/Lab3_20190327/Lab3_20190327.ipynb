{
 "cells": [
  {
   "cell_type": "markdown",
   "metadata": {
    "colab_type": "text",
    "id": "oTe1r6E4GtCk"
   },
   "source": [
    "# Laboratorio 3. EAE253b\n",
    "<hr/>\n",
    "\n",
    "**Antes de comenzar:**\n",
    "\n",
    "- Laboratorio debe ser realizado **de forma individual**. Obviamente, se pueden discutir ideas, pero cualquier intercambio de códigos **no está permitido**.\n",
    "- Sólo se evaluarán secciones \"**TAREAS**\"; pero se recomienda realizar secciones **EJERCICIOS**\n",
    "\n",
    "**Instrucciones de entrega:**\n",
    "\n",
    "- Debe entregar este laboratorio por WebCurso, en buzón de tareas. Descargar archivo \".ipynb\" a su equipo y luego subirlo.\n",
    "- Además, **debe compartir el Notebook con ayudantes (arybertt@uc.cl, pagonzalez20@uc.cl) y profesor (cealvara@gmail.com)**.\n",
    "- Plazo máximo de entrega: **Martes 2 de abril, 5pm.**\n"
   ]
  },
  {
   "cell_type": "markdown",
   "metadata": {
    "colab_type": "text",
    "id": "9FUmoW6-a9M-"
   },
   "source": [
    "### Sentencia \"while\"\n",
    "\n",
    "La sentencia \"while\" nos permite ejecutar código repetidamente mientras la condición establecida se cumpla (sea \"True\"). La sintaxis de este tipo de sentencia es:\n",
    "\n",
    "\n",
    "```\n",
    "while condition :\n",
    "    expression\n",
    "```\n",
    "\n"
   ]
  },
  {
   "cell_type": "markdown",
   "metadata": {
    "colab_type": "text",
    "id": "zCbBsK7TpEDD"
   },
   "source": [
    "#### Ejemplo 1:\n",
    "Juan está vendiendo piñas. Actualmente cuenta con 100, pero decidió vender un cuarto de su inventario por día. Si el resultado es fracción, redondeará hacia arriba. \n",
    "\n",
    "Calcule la cantidad de piñas que Juan tendrá al finalizar cada día hasta que se acabe su inventario."
   ]
  },
  {
   "cell_type": "code",
   "execution_count": 1,
   "metadata": {
    "colab": {
     "base_uri": "https://localhost:8080/",
     "height": 306
    },
    "colab_type": "code",
    "collapsed": false,
    "id": "RXDqdPJkokot",
    "outputId": "64c2b2d3-df24-4347-fd15-3c75eeac9fc4"
   },
   "outputs": [
    {
     "name": "stdout",
     "output_type": "stream",
     "text": [
      "Dia 1, Juan tenia 100 y vendió 25\n",
      "Dia 2, Juan tenia 75 y vendió 19\n",
      "Dia 3, Juan tenia 56 y vendió 14\n",
      "Dia 4, Juan tenia 42 y vendió 11\n",
      "Dia 5, Juan tenia 31 y vendió 8\n",
      "Dia 6, Juan tenia 23 y vendió 6\n",
      "Dia 7, Juan tenia 17 y vendió 5\n",
      "Dia 8, Juan tenia 12 y vendió 3\n",
      "Dia 9, Juan tenia 9 y vendió 3\n",
      "Dia 10, Juan tenia 6 y vendió 2\n",
      "Dia 11, Juan tenia 4 y vendió 1\n",
      "Dia 12, Juan tenia 3 y vendió 1\n",
      "Dia 13, Juan tenia 2 y vendió 1\n",
      "Dia 14, Juan tenia 1 y vendió 1\n"
     ]
    }
   ],
   "source": [
    "from math import ceil   #la funcion \"ceil\" nos permite redondear hacia arriba\n",
    "\n",
    "cantidad_actual = 100\n",
    "dia_actual = 1\n",
    "\n",
    "while cantidad_actual > 0 :\n",
    "    vende = ceil(cantidad_actual * 0.25)\n",
    "\n",
    "    print('Dia {}, Juan tenia {} y vendió {}'.format(dia_actual, cantidad_actual, vende))\n",
    "    \n",
    "    #actualizo cantidad\n",
    "    cantidad_actual = cantidad_actual - vende\n",
    "    \n",
    "    #actualizo dia\n",
    "    dia_actual += 1"
   ]
  },
  {
   "cell_type": "markdown",
   "metadata": {
    "colab_type": "text",
    "id": "szYhJZcdKxY-"
   },
   "source": [
    "### Tarea 1\n",
    "\n",
    "1. Suponga que la función de utilidad de un individuo está dada por $U(x) = \\frac{x^{1-\\rho}}{1-\\rho} + \\log(x)$, con $\\rho = 0.3$. Determine la cantidad de $x$ que deja a este individuo con 100 (o menos) \"*utiles*\". Pruebe sólo con valores enteros (y positivos) para $x$.\n",
    "\n",
    "\n",
    "\n"
   ]
  },
  {
   "cell_type": "code",
   "execution_count": null,
   "metadata": {
    "colab": {},
    "colab_type": "code",
    "collapsed": true,
    "id": "sCAyS-RwKyIh"
   },
   "outputs": [],
   "source": [
    "# Ingrese codigo aquí"
   ]
  },
  {
   "cell_type": "markdown",
   "metadata": {
    "colab_type": "text",
    "id": "NK7od2WgyEyc"
   },
   "source": [
    "2. Usted y un amigo están jugando con dos dados. Usted gana 1 punto si la suma de los dados es mayor a 10 y su amigo gana 1 punto si la suma es menor a 4. Además, el juego termina cuando algún jugador supera por 5 puntos al otro jugador. Escriba código que le permita calcular el número de lanzamientos que ocurren hasta que termina el juego. Además, su código debe entregar el número de puntos totales de cada jugador al finalizar el juego. (*Ayuda: la librería \"numpy\" tiene una función para generar números enteros aleatorios entre 2 valores (random.randint(low, high)\t)*)"
   ]
  },
  {
   "cell_type": "code",
   "execution_count": null,
   "metadata": {
    "colab": {
     "base_uri": "https://localhost:8080/",
     "height": 34
    },
    "colab_type": "code",
    "collapsed": false,
    "id": "hUg2rGgyjvUj",
    "outputId": "a03490ec-817e-4f5a-f417-f1345d31c273"
   },
   "outputs": [],
   "source": [
    "# Ingrese codigo aqui"
   ]
  },
  {
   "cell_type": "markdown",
   "metadata": {
    "colab_type": "text",
    "id": "sS_xuvBW__jD"
   },
   "source": [
    "### Funciones en python\n",
    "\n",
    "Una función es un objeto que permite tomar un *input*, procesarlo, y entregarnos un *output* y/o realizar una tarea específica. Tras definir una función, ésta puede ser llamada multiples veces, cuando se necesite, siendo posible así su reutilización dentro de un mismo programa, o en otros programas.\n",
    "\n",
    "La sintaxis para una definición de función en Python es:\n",
    "\n",
    "```\n",
    "def nombre_funcion(LISTA_DE_PARAMETROS):\n",
    "    \"\"\"\n",
    "    Documentación de la función\n",
    "    \"\"\"\n",
    "    \n",
    "    SENTENCIAS\n",
    "    \n",
    "    return [EXPRESION]\n",
    "```\n",
    "\n"
   ]
  },
  {
   "cell_type": "markdown",
   "metadata": {
    "colab_type": "text",
    "id": "On9ZwVaiDaG1"
   },
   "source": [
    "#### Ejemplo 1:\n",
    "Escriba una función que dado un número entero *a*, determine si éste es primo o no."
   ]
  },
  {
   "cell_type": "code",
   "execution_count": null,
   "metadata": {
    "colab": {},
    "colab_type": "code",
    "collapsed": true,
    "id": "FtjoIxMzC5qa"
   },
   "outputs": [],
   "source": [
    "def es_primo(a):\n",
    "    '''\n",
    "    Esta función determina si el número \"a\" es primo o no\n",
    "    \n",
    "    Input: \"a\", un número int\n",
    "    \n",
    "    Output: True (primo) or False (no primo)\n",
    "    '''\n",
    "    \n",
    "    for deno in range(2, a):\n",
    "        if a % deno == 0:\n",
    "            print('{} no es primo'.format(a))\n",
    "            return False\n",
    "    print('{} es primo'.format(a))\n",
    "    return True"
   ]
  },
  {
   "cell_type": "code",
   "execution_count": null,
   "metadata": {
    "colab": {
     "base_uri": "https://localhost:8080/",
     "height": 51
    },
    "colab_type": "code",
    "collapsed": false,
    "id": "UEcYMujArZap",
    "outputId": "aac2fa10-0088-4560-a76a-950eb3d902f7"
   },
   "outputs": [],
   "source": [
    "num = int(input(\"Por favor escriba un número entero:\").strip())\n",
    "\n",
    "resultado = es_primo(num)"
   ]
  },
  {
   "cell_type": "markdown",
   "metadata": {
    "colab_type": "text",
    "id": "jB23PPrJsGMz"
   },
   "source": [
    "Al documentar una función, ayudamos a otros usuarios a entender su uso:"
   ]
  },
  {
   "cell_type": "code",
   "execution_count": null,
   "metadata": {
    "colab": {
     "base_uri": "https://localhost:8080/",
     "height": 170
    },
    "colab_type": "code",
    "collapsed": false,
    "id": "4OqSD5aisLUP",
    "outputId": "8c9e0405-eec9-4933-8191-af36e12d597c"
   },
   "outputs": [],
   "source": [
    "help(es_primo)"
   ]
  },
  {
   "cell_type": "markdown",
   "metadata": {
    "colab_type": "text",
    "id": "WKgNJlQMBPEA"
   },
   "source": [
    "#### Ejemplo 2:\n",
    "Escriba una función que calcule la raíz de un rango de números entregado.\n",
    "\n",
    "Posteriormente realice un gráfico con los resultados."
   ]
  },
  {
   "cell_type": "code",
   "execution_count": null,
   "metadata": {
    "colab": {},
    "colab_type": "code",
    "collapsed": true,
    "id": "Wp13CtnAtbnC"
   },
   "outputs": [],
   "source": [
    "def rango_sqrt(inferior, superior):\n",
    "    '''\n",
    "    Esta funcion toma dos valores (inferior y superior)\n",
    "    y aplica la función \"raiz\" a los valores en dicho rango.\n",
    "    \n",
    "    Input: - inferior: valor del rango inferior (int)\n",
    "           - superior: valor del rango superior (int)\n",
    "    \n",
    "    Output: lista con valores, tras aplicar funcion \"raiz\"\n",
    "    '''\n",
    "    \n",
    "    valores = []\n",
    "    for x in range(inferior, superior):\n",
    "        valores.append(x ** 0.5)\n",
    "    \n",
    "    return valores"
   ]
  },
  {
   "cell_type": "markdown",
   "metadata": {},
   "source": [
    "Una forma de hacer gráficos en Python es usar la librería \"matplotlib\"."
   ]
  },
  {
   "cell_type": "code",
   "execution_count": null,
   "metadata": {
    "colab": {
     "base_uri": "https://localhost:8080/",
     "height": 376
    },
    "colab_type": "code",
    "collapsed": false,
    "id": "cMRcTjLFAAtX",
    "outputId": "845e4224-d5b4-4cef-f76f-1d488aa40a6f"
   },
   "outputs": [],
   "source": [
    "import matplotlib.pyplot as plt\n",
    "\n",
    "inferior = 1\n",
    "superior = 3000\n",
    "\n",
    "x = range(inferior, superior)\n",
    "\n",
    "y = rango_sqrt(inferior, superior)\n",
    "\n",
    "\n",
    "# Graficamos nuestro resultado\n",
    "plt.plot(x, y)\n",
    "plt.xlabel(\"x\")\n",
    "plt.ylabel(\"y\")\n",
    "plt.title(\"Raíz de x\")\n",
    "plt.show()\n",
    "\n"
   ]
  },
  {
   "cell_type": "markdown",
   "metadata": {
    "colab_type": "text",
    "id": "sCpn1_kTBhsU"
   },
   "source": [
    "#### Ejemplo 3:\n",
    "Genere una función con cuatro parámetros que busque los números entre dos valores (incluyendolos) que sean divisibles por un número, pero no por otro (ambos dados). Cree la función de tal forma que si ningún parámetro es introducido, ésta busque los números entre 120 y 556 que son divisibles por 5, pero no por 10."
   ]
  },
  {
   "cell_type": "code",
   "execution_count": null,
   "metadata": {
    "colab": {
     "base_uri": "https://localhost:8080/",
     "height": 72
    },
    "colab_type": "code",
    "collapsed": false,
    "id": "0BM-XUaNBZ1A",
    "outputId": "a07f6541-f97a-474e-b68a-eecdca9e7488"
   },
   "outputs": [],
   "source": [
    "def buscar(inferior=120,superior=556,div1=5,div0=10):\n",
    "    w=[]\n",
    "    for x in range(inferior, superior+1):\n",
    "        if (x%div1==0) and (x%div0!=0):\n",
    "            w.append(str(x))\n",
    "    print(','.join(w))\n",
    "\n",
    "buscar()\n",
    "buscar(0,100,5,10)"
   ]
  },
  {
   "cell_type": "markdown",
   "metadata": {
    "colab_type": "text",
    "id": "ZEKYpqTkCVhd"
   },
   "source": [
    "### Tarea 2\n",
    "\n",
    "1. Escriba una función \"duplicados()\" que tome los elementos de una lista y elimine aquellos que están repetidosl. Por ejemplo: duplicados([5,2,2,2]) debiese devolver el valor [5,2].\n",
    "\n",
    "\n"
   ]
  },
  {
   "cell_type": "code",
   "execution_count": null,
   "metadata": {
    "colab": {
     "base_uri": "https://localhost:8080/",
     "height": 35
    },
    "colab_type": "code",
    "collapsed": false,
    "id": "p_DKF0jzyMo8",
    "outputId": "23fbda94-1ffb-4fc9-9be4-62a4fc73fb6a"
   },
   "outputs": [],
   "source": [
    "#definir funcion aqui"
   ]
  },
  {
   "cell_type": "code",
   "execution_count": null,
   "metadata": {
    "collapsed": true
   },
   "outputs": [],
   "source": [
    "#probar funcion aqui "
   ]
  },
  {
   "cell_type": "markdown",
   "metadata": {
    "colab_type": "text",
    "id": "JmjP20YcxeyK"
   },
   "source": [
    "2. Escriba una función que invierta sus palabras. Es decir, que al ingresar una palabra como, por ejemplo, \"espejo\", esta devuelva la misma palabra, pero escrita al revés. Pruebe su función.\n"
   ]
  },
  {
   "cell_type": "code",
   "execution_count": null,
   "metadata": {
    "colab": {
     "base_uri": "https://localhost:8080/",
     "height": 52
    },
    "colab_type": "code",
    "collapsed": false,
    "id": "LY35XyeXxfcC",
    "outputId": "d4aeb379-46ca-4d3c-b86a-51b7a77715f6"
   },
   "outputs": [],
   "source": [
    "#definir funcion aqui"
   ]
  },
  {
   "cell_type": "code",
   "execution_count": null,
   "metadata": {
    "colab": {},
    "colab_type": "code",
    "collapsed": true,
    "id": "5oYiSskX-gxD"
   },
   "outputs": [],
   "source": [
    "#probar funcion aqui"
   ]
  },
  {
   "cell_type": "markdown",
   "metadata": {
    "colab_type": "text",
    "id": "Fi0Xj_pCxf0b"
   },
   "source": [
    "3. Escriba una función que le permita calcular la media y la desviación estándar de una lista de valores arbitraria. En caso de que no se le entregue más argumentos a la función, debe calcular la desviación estándar muestral (*dividir por n-1*), mientras que si le pasa un parametro opcional \"poblacional\", debe calcular la desviación estándar poblacional (*dividir por n*). Vale decir:\n",
    "\n",
    "```def stats(valores, opcion_sd=\"muestral\"): ```"
   ]
  },
  {
   "cell_type": "code",
   "execution_count": null,
   "metadata": {
    "colab": {},
    "colab_type": "code",
    "collapsed": true,
    "id": "FwIwLgc6xgjz"
   },
   "outputs": [],
   "source": [
    "#definir funcion aqui"
   ]
  },
  {
   "cell_type": "code",
   "execution_count": null,
   "metadata": {
    "collapsed": true
   },
   "outputs": [],
   "source": [
    "#probar funcion aqui\n",
    "\n",
    "lista_prueba = [1, 3, 5, 7, 9]\n",
    "stats(lista_prueba)\n",
    "stats(lista_prueba, opcion_sd=\"muestral\")"
   ]
  },
  {
   "cell_type": "markdown",
   "metadata": {
    "colab_type": "text",
    "id": "TY0Ds13NxuTO"
   },
   "source": [
    "4. Escriba una función que le permita calcular el dígito verificador de un RUTs arbitrario."
   ]
  },
  {
   "cell_type": "code",
   "execution_count": null,
   "metadata": {
    "colab": {},
    "colab_type": "code",
    "collapsed": true,
    "id": "2qS6qgKixtjG"
   },
   "outputs": [],
   "source": [
    "#definir funcion aqui"
   ]
  },
  {
   "cell_type": "code",
   "execution_count": null,
   "metadata": {
    "collapsed": true
   },
   "outputs": [],
   "source": [
    "#probar funcion aqui"
   ]
  },
  {
   "cell_type": "markdown",
   "metadata": {
    "colab_type": "text",
    "id": "kvBP3zo-G7uw"
   },
   "source": [
    "<hr/>\n",
    "<center> <h1>Fin del laboratorio.</h1> </center>\n",
    " **Recuerde compartir el Notebook con ayudantes (arybertt@uc.cl, pagonzalez20@uc.cl) y profesor (cealvara@gmail.com)**."
   ]
  }
 ],
 "metadata": {
  "anaconda-cloud": {},
  "colab": {
   "collapsed_sections": [],
   "name": "Lab3_20190327_soluciones",
   "provenance": [],
   "version": "0.3.2"
  },
  "kernelspec": {
   "display_name": "Python [default]",
   "language": "python",
   "name": "python3"
  },
  "language_info": {
   "codemirror_mode": {
    "name": "ipython",
    "version": 3
   },
   "file_extension": ".py",
   "mimetype": "text/x-python",
   "name": "python",
   "nbconvert_exporter": "python",
   "pygments_lexer": "ipython3",
   "version": "3.5.5"
  }
 },
 "nbformat": 4,
 "nbformat_minor": 0
}
