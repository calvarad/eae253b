{
  "nbformat": 4,
  "nbformat_minor": 0,
  "metadata": {
    "colab": {
      "name": "Lab2_20190320",
      "version": "0.3.2",
      "provenance": [],
      "collapsed_sections": [],
      "toc_visible": true
    },
    "kernelspec": {
      "name": "python3",
      "display_name": "Python 3"
    }
  },
  "cells": [
    {
      "metadata": {
        "id": "LC15HlaVwPHd",
        "colab_type": "text"
      },
      "cell_type": "markdown",
      "source": [
        "# Laboratorio 2. EAE253b\n",
        "<hr/>\n",
        "\n",
        "**Antes de comenzar:**\n",
        "\n",
        "- Laboratorio debe ser realizado **de forma individual**. Obviamente, se pueden discutir ideas, pero cualquier intercambio de códigos **no está permitido**.\n",
        "- Sólo se evaluarán secciones \"**TAREAS**\"; pero se recomienda realizar secciones **EJERCICIOS**\n",
        "\n",
        "**Instrucciones de entrega:**\n",
        "\n",
        "- Debe entregar este laboratorio por WebCurso, en buzón de tareas. Descargar archivo \".ipynb\" a su equipo y luego subirlo.\n",
        "- Además, **debe compartir el Notebook con ayudantes (arybertt@uc.cl, pagonzalez20@uc.cl) y profesor (cealvara@gmail.com)**.\n",
        "- Plazo máximo de entrega: **Martes 26 de marzo, 5pm.**\n"
      ]
    },
    {
      "metadata": {
        "id": "OxRXN_HmvJOy",
        "colab_type": "text"
      },
      "cell_type": "markdown",
      "source": [
        "### Sentencias de control: condicionales\n",
        "\n",
        "Las sentencias condicionales nos permiten establecer cursos de acción a realizarse si es que se cumplen acciones previamente definidas. Estas siguen patrones como el siguiente.\n",
        "\n",
        "```\n",
        "if condición:\n",
        "    Ejecutar si condicion es cierta\n",
        "elif condicion:\n",
        "    Ejecutar si se cumple la segunda condicion (y no se cumplió la primera)\n",
        "else:\n",
        "    Ejecutar si no se cumple ninguna condición anterior\n",
        "    \n",
        "```"
      ]
    },
    {
      "metadata": {
        "id": "7DMoXWl4wy_-",
        "colab_type": "code",
        "outputId": "1c0766c7-ac5c-43cd-e045-7c1ed4f66bf7",
        "colab": {
          "base_uri": "https://localhost:8080/",
          "height": 51
        }
      },
      "cell_type": "code",
      "source": [
        "# Ejemplo 1:\n",
        "\n",
        "numero = int(input(\"Escriba un número positivo: \"))\n",
        "if numero < 0:\n",
        "    print(f\"El número {numero} NO es positivo\")\n",
        "else:\n",
        "    print('Gracias por seguir las instrucciones')"
      ],
      "execution_count": 0,
      "outputs": [
        {
          "output_type": "stream",
          "text": [
            "Escriba un número positivo: -4\n",
            "El número -4 NO es positivo\n"
          ],
          "name": "stdout"
        }
      ]
    },
    {
      "metadata": {
        "id": "HxsMficHrKif",
        "colab_type": "code",
        "outputId": "4b2fa37f-a427-46f5-f886-c95969c3dde4",
        "colab": {
          "base_uri": "https://localhost:8080/",
          "height": 52
        }
      },
      "cell_type": "code",
      "source": [
        "# Ejemplo 2:\n",
        "edad = int(input(\"¿Cuántos años tiene? \"))\n",
        "\n",
        "if edad <= 0 or edad >= 150:\n",
        "    print(\"Favor diga la verdad\")\n",
        "elif edad < 18:\n",
        "    print(\"Usted es menor de edad\")\n",
        "else:\n",
        "    print(\"Usted es mayor de edad\")\n",
        "  "
      ],
      "execution_count": 0,
      "outputs": [
        {
          "output_type": "stream",
          "text": [
            "¿Cuántos años tiene? 0\n",
            "Favor diga la verdad\n"
          ],
          "name": "stdout"
        }
      ]
    },
    {
      "metadata": {
        "id": "eHxOg_Xn53vH",
        "colab_type": "text"
      },
      "cell_type": "markdown",
      "source": [
        "**EJERCICIOS**. Practique con condiciones simples. Por ejemplo, cree una sentencia que le permita distinguir si un número es mayor, menor o igual a 50."
      ]
    },
    {
      "metadata": {
        "id": "AYGK2e9t56lO",
        "colab_type": "code",
        "colab": {}
      },
      "cell_type": "code",
      "source": [
        "# Escriba su código aquí"
      ],
      "execution_count": 0,
      "outputs": []
    },
    {
      "metadata": {
        "id": "BvAOLgDix-GH",
        "colab_type": "text"
      },
      "cell_type": "markdown",
      "source": [
        "### Operadores lógicos.\n",
        "\n",
        "Existen diferentes operadores lógicos disponibles en Python. Acá se encuentran algunos ejemplos\n",
        "\n",
        "- == , !=  (Igual a, Distinto a)\n",
        "- <, >,<=,>=  (Mayor, menor, mayor o igual, menor o igual)\n",
        "- [not] in : para chequear pertenencia a una lista\n",
        "- and, or : para unir múltiples condiciones\n",
        "\n",
        "\n"
      ]
    },
    {
      "metadata": {
        "id": "g5NY_QDZjbDY",
        "colab_type": "code",
        "colab": {}
      },
      "cell_type": "code",
      "source": [
        "# Ejemplo 1\n",
        "\n",
        "lista1 = [1, 2, 3]\n",
        "numero_a_buscar = 4\n",
        "\n",
        "if numero_a_buscar in lista1:\n",
        "  print('número sí está en la lista')\n",
        "else:\n",
        "  print('número no está en la lista')"
      ],
      "execution_count": 0,
      "outputs": []
    },
    {
      "metadata": {
        "id": "xb2ffbjVkAS3",
        "colab_type": "code",
        "outputId": "b3ccf8f9-6223-4332-d71d-0b3415592528",
        "colab": {
          "base_uri": "https://localhost:8080/",
          "height": 34
        }
      },
      "cell_type": "code",
      "source": [
        "# Ejemplo 2\n",
        "\n",
        "lista1 = [1, 2, 3]\n",
        "numero_a_buscar = 4\n",
        "\n",
        "if numero_a_buscar not in lista1:\n",
        "  print(f'número {numero_a_buscar} no está en la lista')\n",
        "else:\n",
        "  print(f'número {numero_a_buscar} sí está en la lista')"
      ],
      "execution_count": 0,
      "outputs": [
        {
          "output_type": "stream",
          "text": [
            "número 4 no está en la lista\n"
          ],
          "name": "stdout"
        }
      ]
    },
    {
      "metadata": {
        "id": "9wwyIhkFjaKy",
        "colab_type": "text"
      },
      "cell_type": "markdown",
      "source": [
        "**EJERCICIOS**. Piense cuál será el output del siguiente código:\n",
        "\n",
        "```\n",
        "c = True\n",
        "d = False\n",
        "c = c and d\n",
        "c = not c or d\n",
        "print(c)\n",
        "```\n",
        "\n",
        "¿es True? ¿False? ¿por qué?\n",
        "\n",
        "(Ayuda: revise la precedencia de operaciones de Python aquí: http://www.mathcs.emory.edu/~valerie/courses/fall10/155/resources/op_precedence.html)"
      ]
    },
    {
      "metadata": {
        "id": "_I5vJujLwcSp",
        "colab_type": "text"
      },
      "cell_type": "markdown",
      "source": [
        "**TAREAS**\n",
        "\n",
        "1. Escriba código que le permita identificar cuando un número es múltiplo de 5. En caso de serlo, verifique si este número es par. Genere una respuesta (\"print\") para cada uno de los diferentes casos posibles.\n",
        "\n",
        "\n",
        "\n",
        "\n"
      ]
    },
    {
      "metadata": {
        "id": "_hNXC3JF7oHH",
        "colab_type": "code",
        "colab": {}
      },
      "cell_type": "code",
      "source": [
        "# ingresar códigos aquí"
      ],
      "execution_count": 0,
      "outputs": []
    },
    {
      "metadata": {
        "id": "VjokuhuTmPBK",
        "colab_type": "text"
      },
      "cell_type": "markdown",
      "source": [
        "2. Escriba código que le permita determinar si un día determinado (1: lunes; 2: martes; ... 7: domingo) es laboral (lunes a viernes) o es \"fin de semana\" (sabado o domingo). Imprima el resultado.\n"
      ]
    },
    {
      "metadata": {
        "id": "5YZ5El311ih4",
        "colab_type": "code",
        "colab": {}
      },
      "cell_type": "code",
      "source": [
        "# ingresar códigos aquí"
      ],
      "execution_count": 0,
      "outputs": []
    },
    {
      "metadata": {
        "id": "_j1M0GZ3lxrZ",
        "colab_type": "text"
      },
      "cell_type": "markdown",
      "source": [
        "3. David posee  un auto cuyo valor es de 1000. Dado que donde vive abunda la gente imprudente, está considerando asegurar su auto contra cualquier accidente; para ello, en base a información histórica, ha determinado que hay un X % de probabilidades de que nunca le pase nada, pero el restante (100 - X) % implica que su auto quede severamente dañado, quedando con un valor residual de 40. Genere un código que le permita establecer, dado un X, el deducible que David estaría dispuesto a pagar. David es averso al riesgo (su función de utilidad está descrita por U(w) = √ w )\n",
        "\n",
        "4. ¿Qué hará David si le venden una póliza con cobertura completa, por $100? Escriba un código que permita responder esta pregunta para distintos valores de X."
      ]
    },
    {
      "metadata": {
        "id": "djEAWx60v9-W",
        "colab_type": "code",
        "colab": {}
      },
      "cell_type": "code",
      "source": [
        "# ingresar códigos aquí"
      ],
      "execution_count": 0,
      "outputs": []
    },
    {
      "metadata": {
        "id": "KNReeJKS5AfP",
        "colab_type": "text"
      },
      "cell_type": "markdown",
      "source": [
        "### for Loop\n",
        "\n",
        "En general, un bucle es una estructura de control que permite repetir un conjunto de instrucciones. Así, usando un bucle *for*, puedes ejecutar un bloque de instrucciones un número prederminado de veces (iteraciones).\n",
        "\n",
        "```\n",
        "for variable in elemento iterable (lista, cadena, range, etc.):\n",
        "    acciones a realizar con \"variable\"\n",
        "```\n",
        "\n"
      ]
    },
    {
      "metadata": {
        "id": "jm9l1K7emvJ-",
        "colab_type": "code",
        "outputId": "4d9b76a6-4ea8-4ae7-ccfe-ed4a864a7aaf",
        "colab": {
          "base_uri": "https://localhost:8080/",
          "height": 104
        }
      },
      "cell_type": "code",
      "source": [
        "#Ejemplo 1: Usando loops para calcular cuadrado de componentes de una lista\n",
        "milista = range(5,10)\n",
        "for numero in milista:\n",
        "    print(f\"El cuadrado de {numero} es {numero ** 2}\")"
      ],
      "execution_count": 0,
      "outputs": [
        {
          "output_type": "stream",
          "text": [
            "El cuadrado de 5 es 25\n",
            "El cuadrado de 6 es 36\n",
            "El cuadrado de 7 es 49\n",
            "El cuadrado de 8 es 64\n",
            "El cuadrado de 9 es 81\n"
          ],
          "name": "stdout"
        }
      ]
    },
    {
      "metadata": {
        "id": "Tt_ZshSg8Iau",
        "colab_type": "code",
        "outputId": "61160b2b-98a4-435b-8b15-7cf3e8f24d34",
        "colab": {
          "base_uri": "https://localhost:8080/",
          "height": 121
        }
      },
      "cell_type": "code",
      "source": [
        "#Ejemplo 2: Usando loops para separar caracteres de una palabra\n",
        "palabra = str(input(\"Escriba una palabra\"))\n",
        "for i in palabra:\n",
        "    print(f\"Dame una {i}\")\n",
        "print(f\"¡{palabra}!\")"
      ],
      "execution_count": 0,
      "outputs": [
        {
          "output_type": "stream",
          "text": [
            "Escriba una palabraHola\n",
            "Dame una H\n",
            "Dame una o\n",
            "Dame una l\n",
            "Dame una a\n",
            "¡Hola!\n"
          ],
          "name": "stdout"
        }
      ]
    },
    {
      "metadata": {
        "id": "uZwdGwFW9BS_",
        "colab_type": "text"
      },
      "cell_type": "markdown",
      "source": [
        "**TAREAS**\n",
        "\n",
        "1. Determine cuántos múltiplos de 5 hay entre los números 26 y 155 (ambos incluidos).  Imprima su resultado."
      ]
    },
    {
      "metadata": {
        "id": "EsCi73Q0iN7K",
        "colab_type": "code",
        "colab": {}
      },
      "cell_type": "code",
      "source": [
        "# Ingrese codigo aqui\n"
      ],
      "execution_count": 0,
      "outputs": []
    },
    {
      "metadata": {
        "id": "Bsf9fsduiL7s",
        "colab_type": "text"
      },
      "cell_type": "markdown",
      "source": [
        "2. Escriba código que le permita analizar si los números entre 11 y 29 (ambos incluídos) son primos o no. En caso de no ser un número primo, su código debe imprimir al menos 1 operación con la que podemos llegar al número (por ej, \"10 no es primo porque 2 * 5 = 10\"). Si el número es primo, también debe decirlo. (por ej, \"11 es un número primo\").\n"
      ]
    },
    {
      "metadata": {
        "id": "IJa_CU6viOji",
        "colab_type": "code",
        "colab": {}
      },
      "cell_type": "code",
      "source": [
        "# Ingrese codigo aqui\n"
      ],
      "execution_count": 0,
      "outputs": []
    },
    {
      "metadata": {
        "id": "skYmJCoeiMUg",
        "colab_type": "text"
      },
      "cell_type": "markdown",
      "source": [
        "3. Escriba código que le permita verificar si el dígito verificador de una lista de ruts es correcto o no. Si el DV es incorrecto, debe decirlo (por ej: \"para el RUT 16074984, el digito verificador correcto es 9, no K\").\n",
        "\n",
        "Siga el algoritmo utilizado en el Laboratorio 1, y la lista de RUTs que se entrega a continuación (\"lista_ruts\"):"
      ]
    },
    {
      "metadata": {
        "id": "_N2mPje2_m7M",
        "colab_type": "code",
        "outputId": "e01fc48f-80d8-4460-aeb5-0b65a03bf3c9",
        "colab": {
          "base_uri": "https://localhost:8080/",
          "height": 54
        }
      },
      "cell_type": "code",
      "source": [
        "# Carga de datos desde web --> más adelante se entenderá qué hace este código\n",
        "\n",
        "import pandas as pd\n",
        "data_url = 'https://github.com/calvarad/eae253b/blob/master/Laboratorios/Lab2_20190320/ruts.xlsx?raw=true'\n",
        "df1 = pd.read_excel(data_url)\n",
        "\n",
        "lista_ruts = list(df1['rut_ingresado'])\n",
        "\n",
        "print(lista_ruts)\n",
        "\n",
        "\n",
        "# Ingrese codigo aqui\n"
      ],
      "execution_count": 0,
      "outputs": [
        {
          "output_type": "stream",
          "text": [
            "['19687778-5', '19637146-0', '19686747-2', '19323288-5', '19084143-0', '19812499-1', '19672978-3', '19406965-K', '19081554-9', '19636496-1', '20343985-7', '19687486-4', '97607-5', '25058210-6', '19688592-6', '19605127-1', '19443065-8']\n"
          ],
          "name": "stdout"
        }
      ]
    },
    {
      "metadata": {
        "id": "aZoWbPNkm3pK",
        "colab_type": "text"
      },
      "cell_type": "markdown",
      "source": [
        "<hr/>\n",
        "<center> <h1>Fin del laboratorio.</h1> </center>\n",
        " **Recuerde compartir el Notebook con ayudantes (arybertt@uc.cl, pagonzalez20@uc.cl) y profesor (cealvara@gmail.com)**."
      ]
    }
  ]
}