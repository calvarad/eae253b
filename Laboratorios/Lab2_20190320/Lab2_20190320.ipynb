{
 "cells": [
  {
   "cell_type": "markdown",
   "metadata": {
    "colab_type": "text",
    "id": "LC15HlaVwPHd"
   },
   "source": [
    "# Laboratorio 2. EAE253b\n",
    "<hr/>\n",
    "\n",
    "**Antes de comenzar:**\n",
    "\n",
    "- Laboratorio debe ser realizado **de forma individual**. Obviamente, se pueden discutir ideas, pero cualquier intercambio de códigos **no está permitido**.\n",
    "- Sólo se evaluarán secciones \"**TAREAS**\"; pero se recomienda realizar secciones **EJERCICIOS**\n",
    "\n",
    "**Instrucciones de entrega:**\n",
    "\n",
    "- Debe entregar este laboratorio por WebCurso, en buzón de tareas. Descargar archivo \".ipynb\" a su equipo y luego subirlo.\n",
    "- Además, **debe compartir el Notebook con ayudantes (arybertt@uc.cl, pagonzalez20@uc.cl) y profesor (cealvara@gmail.com)**.\n",
    "- Plazo máximo de entrega: **Martes 26 de marzo, 5pm.**\n"
   ]
  },
  {
   "cell_type": "markdown",
   "metadata": {
    "colab_type": "text",
    "id": "OxRXN_HmvJOy"
   },
   "source": [
    "### Sentencias de control: condicionales\n",
    "\n",
    "Las sentencias condicionales nos permiten establecer cursos de acción a realizarse si es que se cumplen acciones previamente definidas. Estas siguen patrones como el siguiente.\n",
    "\n",
    "```\n",
    "if condición:\n",
    "    Ejecutar si condicion es cierta\n",
    "elif condicion:\n",
    "    Ejecutar si se cumple la segunda condicion (y no se cumplió la primera)\n",
    "else:\n",
    "    Ejecutar si no se cumple ninguna condición anterior\n",
    "    \n",
    "```"
   ]
  },
  {
   "cell_type": "code",
   "execution_count": 0,
   "metadata": {
    "colab": {
     "base_uri": "https://localhost:8080/",
     "height": 51
    },
    "colab_type": "code",
    "collapsed": false,
    "id": "7DMoXWl4wy_-",
    "outputId": "1c0766c7-ac5c-43cd-e045-7c1ed4f66bf7"
   },
   "outputs": [
    {
     "name": "stdout",
     "output_type": "stream",
     "text": [
      "Escriba un número positivo: -4\n",
      "El número -4 NO es positivo\n"
     ]
    }
   ],
   "source": [
    "# Ejemplo 1:\n",
    "\n",
    "numero = int(input(\"Escriba un número positivo: \"))\n",
    "if numero < 0:\n",
    "    print(f\"El número {numero} NO es positivo\")\n",
    "else:\n",
    "    print('Gracias por seguir las instrucciones')"
   ]
  },
  {
   "cell_type": "code",
   "execution_count": 0,
   "metadata": {
    "colab": {
     "base_uri": "https://localhost:8080/",
     "height": 52
    },
    "colab_type": "code",
    "collapsed": false,
    "id": "HxsMficHrKif",
    "outputId": "4b2fa37f-a427-46f5-f886-c95969c3dde4"
   },
   "outputs": [
    {
     "name": "stdout",
     "output_type": "stream",
     "text": [
      "¿Cuántos años tiene? 0\n",
      "Favor diga la verdad\n"
     ]
    }
   ],
   "source": [
    "# Ejemplo 2:\n",
    "edad = int(input(\"¿Cuántos años tiene? \"))\n",
    "\n",
    "if edad <= 0 or edad >= 150:\n",
    "    print(\"Favor diga la verdad\")\n",
    "elif edad < 18:\n",
    "    print(\"Usted es menor de edad\")\n",
    "else:\n",
    "    print(\"Usted es mayor de edad\")\n",
    "  "
   ]
  },
  {
   "cell_type": "markdown",
   "metadata": {
    "colab_type": "text",
    "id": "eHxOg_Xn53vH"
   },
   "source": [
    "**EJERCICIOS**. Practique con condiciones simples. Por ejemplo, cree una sentencia que le permita distinguir si un número es mayor, menor o igual a 50."
   ]
  },
  {
   "cell_type": "code",
   "execution_count": 0,
   "metadata": {
    "colab": {},
    "colab_type": "code",
    "collapsed": true,
    "id": "AYGK2e9t56lO"
   },
   "outputs": [],
   "source": [
    "# Escriba su código aquí"
   ]
  },
  {
   "cell_type": "markdown",
   "metadata": {
    "colab_type": "text",
    "id": "BvAOLgDix-GH"
   },
   "source": [
    "### Operadores lógicos.\n",
    "\n",
    "Existen diferentes operadores lógicos disponibles en Python. Acá se encuentran algunos ejemplos\n",
    "\n",
    "- == , !=  (Igual a, Distinto a)\n",
    "- <, >,<=,>=  (Mayor, menor, mayor o igual, menor o igual)\n",
    "- [not] in : para chequear pertenencia a una lista\n",
    "- and, or : para unir múltiples condiciones\n",
    "\n",
    "\n"
   ]
  },
  {
   "cell_type": "code",
   "execution_count": 0,
   "metadata": {
    "colab": {},
    "colab_type": "code",
    "collapsed": true,
    "id": "g5NY_QDZjbDY"
   },
   "outputs": [],
   "source": [
    "# Ejemplo 1\n",
    "\n",
    "lista1 = [1, 2, 3]\n",
    "numero_a_buscar = 4\n",
    "\n",
    "if numero_a_buscar in lista1:\n",
    "  print('número sí está en la lista')\n",
    "else:\n",
    "  print('número no está en la lista')"
   ]
  },
  {
   "cell_type": "code",
   "execution_count": 0,
   "metadata": {
    "colab": {
     "base_uri": "https://localhost:8080/",
     "height": 34
    },
    "colab_type": "code",
    "collapsed": false,
    "id": "xb2ffbjVkAS3",
    "outputId": "b3ccf8f9-6223-4332-d71d-0b3415592528"
   },
   "outputs": [
    {
     "name": "stdout",
     "output_type": "stream",
     "text": [
      "número 4 no está en la lista\n"
     ]
    }
   ],
   "source": [
    "# Ejemplo 2\n",
    "\n",
    "lista1 = [1, 2, 3]\n",
    "numero_a_buscar = 4\n",
    "\n",
    "if numero_a_buscar not in lista1:\n",
    "  print(f'número {numero_a_buscar} no está en la lista')\n",
    "else:\n",
    "  print(f'número {numero_a_buscar} sí está en la lista')"
   ]
  },
  {
   "cell_type": "markdown",
   "metadata": {
    "colab_type": "text",
    "id": "9wwyIhkFjaKy"
   },
   "source": [
    "**EJERCICIOS**. Piense cuál será el output del siguiente código:\n",
    "\n",
    "```\n",
    "c = True\n",
    "d = False\n",
    "c = c and d\n",
    "c = not c or d\n",
    "print(c)\n",
    "```\n",
    "\n",
    "¿es True? ¿False? ¿por qué?\n",
    "\n",
    "(Ayuda: revise la precedencia de operaciones de Python aquí: http://www.mathcs.emory.edu/~valerie/courses/fall10/155/resources/op_precedence.html)"
   ]
  },
  {
   "cell_type": "markdown",
   "metadata": {
    "colab_type": "text",
    "id": "_I5vJujLwcSp"
   },
   "source": [
    "**TAREAS**\n",
    "\n",
    "1. Escriba código que le permita identificar cuando un número es múltiplo de 5. En caso de serlo, verifique si este número es par. Genere una respuesta (\"print\") para cada uno de los diferentes casos posibles.\n",
    "\n",
    "\n",
    "\n",
    "\n"
   ]
  },
  {
   "cell_type": "code",
   "execution_count": 0,
   "metadata": {
    "colab": {},
    "colab_type": "code",
    "collapsed": true,
    "id": "_hNXC3JF7oHH"
   },
   "outputs": [],
   "source": [
    "# ingresar códigos aquí"
   ]
  },
  {
   "cell_type": "markdown",
   "metadata": {
    "colab_type": "text",
    "id": "VjokuhuTmPBK"
   },
   "source": [
    "2. Escriba código que le permita determinar si un día determinado (1: lunes; 2: martes; ... 7: domingo) es laboral (lunes a viernes) o es \"fin de semana\" (sabado o domingo). Imprima el resultado.\n"
   ]
  },
  {
   "cell_type": "code",
   "execution_count": 0,
   "metadata": {
    "colab": {},
    "colab_type": "code",
    "collapsed": true,
    "id": "5YZ5El311ih4"
   },
   "outputs": [],
   "source": [
    "# ingresar códigos aquí"
   ]
  },
  {
   "cell_type": "markdown",
   "metadata": {
    "colab_type": "text",
    "id": "_j1M0GZ3lxrZ"
   },
   "source": [
    "3. David posee  un auto cuyo valor es de 1000. Dado que donde vive abunda la gente imprudente, está considerando asegurar su auto contra cualquier accidente; para ello, en base a información histórica, ha determinado que hay un X % de probabilidades de que nunca le pase nada, pero el restante (100 - X) % implica que su auto quede severamente dañado, quedando con un valor residual de 40. Genere un código que le permita establecer, dado un X, la prima que David estaría dispuesto a pagar (la prima se paga en ambos escenarios, y no se paga nada mas -- o sea, asuma que el deducible es 0). David es averso al riesgo (su función de utilidad está descrita por U(w) = √ w )\n",
    "\n",
    "4. ¿Qué hará David si le venden una póliza con cobertura completa, por una prima de $100? Escriba un código que permita responder esta pregunta para distintos valores de X."
   ]
  },
  {
   "cell_type": "code",
   "execution_count": 0,
   "metadata": {
    "colab": {},
    "colab_type": "code",
    "collapsed": true,
    "id": "djEAWx60v9-W"
   },
   "outputs": [],
   "source": [
    "# ingresar códigos aquí"
   ]
  },
  {
   "cell_type": "markdown",
   "metadata": {
    "colab_type": "text",
    "id": "KNReeJKS5AfP"
   },
   "source": [
    "### for Loop\n",
    "\n",
    "En general, un bucle es una estructura de control que permite repetir un conjunto de instrucciones. Así, usando un bucle *for*, puedes ejecutar un bloque de instrucciones un número prederminado de veces (iteraciones).\n",
    "\n",
    "```\n",
    "for variable in elemento iterable (lista, cadena, range, etc.):\n",
    "    acciones a realizar con \"variable\"\n",
    "```\n",
    "\n"
   ]
  },
  {
   "cell_type": "code",
   "execution_count": 0,
   "metadata": {
    "colab": {
     "base_uri": "https://localhost:8080/",
     "height": 104
    },
    "colab_type": "code",
    "collapsed": false,
    "id": "jm9l1K7emvJ-",
    "outputId": "4d9b76a6-4ea8-4ae7-ccfe-ed4a864a7aaf"
   },
   "outputs": [
    {
     "name": "stdout",
     "output_type": "stream",
     "text": [
      "El cuadrado de 5 es 25\n",
      "El cuadrado de 6 es 36\n",
      "El cuadrado de 7 es 49\n",
      "El cuadrado de 8 es 64\n",
      "El cuadrado de 9 es 81\n"
     ]
    }
   ],
   "source": [
    "#Ejemplo 1: Usando loops para calcular cuadrado de componentes de una lista\n",
    "milista = range(5,10)\n",
    "for numero in milista:\n",
    "    print(f\"El cuadrado de {numero} es {numero ** 2}\")"
   ]
  },
  {
   "cell_type": "code",
   "execution_count": 0,
   "metadata": {
    "colab": {
     "base_uri": "https://localhost:8080/",
     "height": 121
    },
    "colab_type": "code",
    "collapsed": false,
    "id": "Tt_ZshSg8Iau",
    "outputId": "61160b2b-98a4-435b-8b15-7cf3e8f24d34"
   },
   "outputs": [
    {
     "name": "stdout",
     "output_type": "stream",
     "text": [
      "Escriba una palabraHola\n",
      "Dame una H\n",
      "Dame una o\n",
      "Dame una l\n",
      "Dame una a\n",
      "¡Hola!\n"
     ]
    }
   ],
   "source": [
    "#Ejemplo 2: Usando loops para separar caracteres de una palabra\n",
    "palabra = str(input(\"Escriba una palabra\"))\n",
    "for i in palabra:\n",
    "    print(f\"Dame una {i}\")\n",
    "print(f\"¡{palabra}!\")"
   ]
  },
  {
   "cell_type": "markdown",
   "metadata": {
    "colab_type": "text",
    "id": "uZwdGwFW9BS_"
   },
   "source": [
    "**TAREAS**\n",
    "\n",
    "1. Determine cuántos múltiplos de 5 hay entre los números 26 y 155 (ambos incluidos).  Imprima su resultado."
   ]
  },
  {
   "cell_type": "code",
   "execution_count": 0,
   "metadata": {
    "colab": {},
    "colab_type": "code",
    "collapsed": true,
    "id": "EsCi73Q0iN7K"
   },
   "outputs": [],
   "source": [
    "# Ingrese codigo aqui\n"
   ]
  },
  {
   "cell_type": "markdown",
   "metadata": {
    "colab_type": "text",
    "id": "Bsf9fsduiL7s"
   },
   "source": [
    "2. Escriba código que le permita analizar si los números entre 11 y 29 (ambos incluídos) son primos o no. En caso de no ser un número primo, su código debe imprimir al menos 1 operación con la que podemos llegar al número (por ej, \"10 no es primo porque 2 * 5 = 10\"). Si el número es primo, también debe decirlo. (por ej, \"11 es un número primo\").\n"
   ]
  },
  {
   "cell_type": "code",
   "execution_count": 0,
   "metadata": {
    "colab": {},
    "colab_type": "code",
    "collapsed": true,
    "id": "IJa_CU6viOji"
   },
   "outputs": [],
   "source": [
    "# Ingrese codigo aqui\n"
   ]
  },
  {
   "cell_type": "markdown",
   "metadata": {
    "colab_type": "text",
    "id": "skYmJCoeiMUg"
   },
   "source": [
    "3. Escriba código que le permita verificar si el dígito verificador de una lista de ruts es correcto o no. Si el DV es incorrecto, debe decirlo (por ej: \"para el RUT 16074984, el digito verificador correcto es 9, no K\").\n",
    "\n",
    "Siga el algoritmo utilizado en el Laboratorio 1, y la lista de RUTs que se entrega a continuación (\"lista_ruts\"):"
   ]
  },
  {
   "cell_type": "code",
   "execution_count": 0,
   "metadata": {
    "colab": {
     "base_uri": "https://localhost:8080/",
     "height": 54
    },
    "colab_type": "code",
    "collapsed": false,
    "id": "_N2mPje2_m7M",
    "outputId": "e01fc48f-80d8-4460-aeb5-0b65a03bf3c9"
   },
   "outputs": [
    {
     "name": "stdout",
     "output_type": "stream",
     "text": [
      "['19687778-5', '19637146-0', '19686747-2', '19323288-5', '19084143-0', '19812499-1', '19672978-3', '19406965-K', '19081554-9', '19636496-1', '20343985-7', '19687486-4', '97607-5', '25058210-6', '19688592-6', '19605127-1', '19443065-8']\n"
     ]
    }
   ],
   "source": [
    "# Carga de datos desde web --> más adelante se entenderá qué hace este código\n",
    "\n",
    "import pandas as pd\n",
    "data_url = 'https://github.com/calvarad/eae253b/blob/master/Laboratorios/Lab2_20190320/ruts.xlsx?raw=true'\n",
    "df1 = pd.read_excel(data_url)\n",
    "\n",
    "lista_ruts = list(df1['rut_ingresado'])\n",
    "\n",
    "print(lista_ruts)\n",
    "\n",
    "\n",
    "# Ingrese codigo aqui\n"
   ]
  },
  {
   "cell_type": "markdown",
   "metadata": {
    "colab_type": "text",
    "id": "aZoWbPNkm3pK"
   },
   "source": [
    "<hr/>\n",
    "<center> <h1>Fin del laboratorio.</h1> </center>\n",
    " **Recuerde compartir el Notebook con ayudantes (arybertt@uc.cl, pagonzalez20@uc.cl) y profesor (cealvara@gmail.com)**."
   ]
  }
 ],
 "metadata": {
  "anaconda-cloud": {},
  "colab": {
   "collapsed_sections": [],
   "name": "Lab2_20190320",
   "provenance": [],
   "toc_visible": true,
   "version": "0.3.2"
  },
  "kernelspec": {
   "display_name": "Python [default]",
   "language": "python",
   "name": "python3"
  },
  "language_info": {
   "codemirror_mode": {
    "name": "ipython",
    "version": 3
   },
   "file_extension": ".py",
   "mimetype": "text/x-python",
   "name": "python",
   "nbconvert_exporter": "python",
   "pygments_lexer": "ipython3",
   "version": "3.5.5"
  }
 },
 "nbformat": 4,
 "nbformat_minor": 0
}
