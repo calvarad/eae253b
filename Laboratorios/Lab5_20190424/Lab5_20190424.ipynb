{
 "cells": [
  {
   "cell_type": "markdown",
   "metadata": {
    "colab_type": "text",
    "id": "LC15HlaVwPHd"
   },
   "source": [
    "# Laboratorio 5. EAE253b\n",
    "<hr/>\n",
    "\n",
    "**Antes de comenzar:**\n",
    "\n",
    "- **DEBE trabajar en su equipo local.**\n",
    "\n",
    "- Laboratorio debe ser realizado **de forma individual**. Obviamente, se pueden discutir ideas, pero cualquier intercambio de códigos **no está permitido**.\n",
    "\n",
    "- Sólo se evaluarán secciones \"**TAREAS**\"; pero se recomienda realizar secciones **EJERCICIOS**\n",
    "\n",
    "**Instrucciones de entrega:**\n",
    "\n",
    "- Debe entregar este laboratorio por WebCurso, en buzón de tareas. Descargar archivo \".ipynb\" a su equipo y luego subirlo a WebCurso.\n",
    "\n",
    "- **Debe trabajar en su equipo local.**\n",
    "\n",
    "- NO es necesario compartir el notebook por Colab Research. Solo subir su archivo \".ipynb\" local.\n",
    "\n",
    "- Plazo máximo de entrega: **Viernes 3 de mayo, 11:55pm.**\n",
    "\n"
   ]
  },
  {
   "cell_type": "markdown",
   "metadata": {
    "colab_type": "text",
    "id": "skTOKBE4CWRt"
   },
   "source": [
    "<hr />"
   ]
  },
  {
   "cell_type": "markdown",
   "metadata": {
    "colab_type": "text",
    "id": "O4yMYl4eBfHn"
   },
   "source": [
    "***Como vieron en el laboratorio anterior, pandas es una librería de python destinada al análisis de datos. Esta vez, el laboratorio se basará en como filtrar datos a través de DataFrames de Pandas y, posteriormente, el uso de SQL para ser capaces de cargar solo los datos que necesitamos y en el formato que queremos.***"
   ]
  },
  {
   "cell_type": "markdown",
   "metadata": {
    "colab_type": "text",
    "id": "OxRXN_HmvJOy"
   },
   "source": [
    "## Seleccionando información con *Pandas*"
   ]
  },
  {
   "cell_type": "markdown",
   "metadata": {
    "colab_type": "text",
    "id": "y2NxNWhTCfS5"
   },
   "source": [
    "Cuando cargamos una base de datos a Pandas, se cargan **todos los datos en la memoría del computador**. Típicamente, las bases de datos las cargamos en un objeto llamado \"DataFrame\", que nos permite realizar operaciones típicas, como seleccionar registros que cumplen algún criterio, agrupar información de acuerdo a alguna variable categórica, y crear nuevas variables.\n",
    "\n",
    "Antes de partir, carguemos una base de datos de ejemplo. En este caso, trabajaremos con una base de datos que contiene información de \"Pokemones\"."
   ]
  },
  {
   "cell_type": "code",
   "execution_count": null,
   "metadata": {
    "colab": {
     "base_uri": "https://localhost:8080/",
     "height": 200
    },
    "colab_type": "code",
    "collapsed": false,
    "id": "7DMoXWl4wy_-",
    "outputId": "df485351-5af8-47e6-f91e-6ffcdad709d9",
    "scrolled": true
   },
   "outputs": [],
   "source": [
    "# Ejemplo 1:\n",
    "\n",
    "from IPython.display import display\n",
    "\n",
    "import pandas as pd\n",
    "\n",
    "\n",
    "data_path = 'https://github.com/pagonzalez20/archivos/blob/master/pokemon.dta?raw=true'\n",
    "df = pd.read_stata(data_path)\n",
    "df.head()"
   ]
  },
  {
   "cell_type": "markdown",
   "metadata": {
    "colab_type": "text",
    "id": "RQq2OSaxE1sJ"
   },
   "source": [
    "En Pandas, las siguientes dos sentencias (equivalentes) nos permiten filtrar los registros de acuerdo a cierto criterio. En este caso, por ejemplo, nos enfocaríamos en los registros donde los valores de la variable *\"a\"* son mayores que los valores de la variable *\"b\"*:\n",
    "\n",
    "```\n",
    "1.   df.query('a > b')\n",
    "2.   df[df.a > df.b]\n",
    "```\n"
   ]
  },
  {
   "cell_type": "markdown",
   "metadata": {},
   "source": [
    "#### Ejemplo 1. Busque aquellos Pokemones con \"ataque\" que duplique a su \"defensa\"."
   ]
  },
  {
   "cell_type": "code",
   "execution_count": null,
   "metadata": {
    "colab": {
     "base_uri": "https://localhost:8080/",
     "height": 200
    },
    "colab_type": "code",
    "collapsed": false,
    "id": "4uTqkhi3JeUC",
    "outputId": "a6330350-4e21-4e41-e8ac-350c392dfbf6"
   },
   "outputs": [],
   "source": [
    "df_ataque_mayor_defensa = df.query('Ataque > 2 * Defensa')\n",
    "\n",
    "display(df_ataque_mayor_defensa)"
   ]
  },
  {
   "cell_type": "markdown",
   "metadata": {},
   "source": [
    "#### Ejercicio. Busque aquellos Pokemones de la sexta generación de tipo \"Agua\""
   ]
  },
  {
   "cell_type": "code",
   "execution_count": null,
   "metadata": {
    "collapsed": true
   },
   "outputs": [],
   "source": [
    "# Ingrese su codigo aquí\n"
   ]
  },
  {
   "cell_type": "markdown",
   "metadata": {
    "colab_type": "text",
    "id": "sRH60JTzJVhg"
   },
   "source": [
    "#### Ejemplo 2. Muestre en un gráfico circular el porcentaje de legendarios que pertenecen a cada generación.\n",
    "\n",
    "Como se ha visto en clases, Python también nos permite realizar acciones un poco más complejas a través de varias etapas... Por ejemplo, si quisieramos graficar el porcentaje de Pokemones legendarios pertenecientes a cada generación, podríamos hacerlo de la siguiente manera:"
   ]
  },
  {
   "cell_type": "code",
   "execution_count": null,
   "metadata": {
    "collapsed": false
   },
   "outputs": [],
   "source": [
    "# Primero, queremos crear una variable \"dummy\" (0,1) que nos permita saber cuáles Pokemones son legendarios \n",
    "# (valor 1) y cuáles no (valor 0)\n",
    "\n",
    "df['dLegendario'] = df['Legendario'] == \"Si\"\n",
    "\n",
    "# Luego, queremos contar el número de legendarios por generación. Para esto, crearemos un nuevo DataFrame, \n",
    "# con la información agrupada por la variable \"Generacion\"\n",
    "\n",
    "data_por_generacion = df.groupby(by='Generacion').sum()\n",
    "\n",
    "data_por_generacion.head()"
   ]
  },
  {
   "cell_type": "code",
   "execution_count": null,
   "metadata": {
    "collapsed": false
   },
   "outputs": [],
   "source": [
    "# El problema del objeto \"data_por_generacion\" es que \"suma\" todas las columnas, \n",
    "# pero a nosotros nos interesa solo la última columna.\n",
    "\n",
    "# Seleccionemos entonces sólo la columna que nos interesa\n",
    "df_legendarios = data_por_generacion[['dLegendario']]\n",
    "display(df_legendarios)\n"
   ]
  },
  {
   "cell_type": "code",
   "execution_count": null,
   "metadata": {
    "collapsed": false
   },
   "outputs": [],
   "source": [
    "%matplotlib inline\n",
    "\n",
    "# ahora podemos graficar y formatear el gráfico\n",
    "\n",
    "df_legendarios.plot(kind='pie', \n",
    "                    autopct='%1.0f%%', \n",
    "                    x = \"Generacion\", \n",
    "                    y = \"dLegendario\",\n",
    "                    legend=True,\n",
    "                    shadow=True,\n",
    "                    fontsize=14,\n",
    "                    figsize=(7,7))"
   ]
  },
  {
   "cell_type": "markdown",
   "metadata": {},
   "source": [
    "#### Ejercicio. Busque el % de Pokemones que hay según tipo (Agua, Fuego, etc)"
   ]
  },
  {
   "cell_type": "code",
   "execution_count": null,
   "metadata": {
    "collapsed": true
   },
   "outputs": [],
   "source": [
    "# Ingrese su código aquí."
   ]
  },
  {
   "cell_type": "markdown",
   "metadata": {
    "colab_type": "text",
    "id": "P99ET-qmI131"
   },
   "source": [
    "### TAREA 1\n",
    "\n",
    "1. Busque a aquellos pokemones de la primera generación que sean Pikachu o tengan una defensa menor a 50, un ataque mayor o igual a 100 y que tengan por lo menos el triple de HP que de Velocidad.\n",
    "\n",
    "\n"
   ]
  },
  {
   "cell_type": "code",
   "execution_count": null,
   "metadata": {
    "colab": {
     "base_uri": "https://localhost:8080/",
     "height": 109
    },
    "colab_type": "code",
    "collapsed": false,
    "id": "muYUOdBHIzQ7",
    "outputId": "c8d59860-4d7e-44b9-fbd9-3341c0322717"
   },
   "outputs": [],
   "source": [
    "#Ingrese su código aquí."
   ]
  },
  {
   "cell_type": "markdown",
   "metadata": {},
   "source": [
    "2. Calcule el Ataque promedio de los Pokemones, por Generación. ¿Cuál es la generación con mayor ataque promedio?"
   ]
  },
  {
   "cell_type": "code",
   "execution_count": null,
   "metadata": {
    "collapsed": true
   },
   "outputs": [],
   "source": [
    "#Ingrese su código aquí."
   ]
  },
  {
   "cell_type": "markdown",
   "metadata": {},
   "source": [
    "3. Calcule el Ataque promedio de los Pokemones, por Generación y por Tipo. ¿Cuál es la generación/tipo con mayor ataque promedio?"
   ]
  },
  {
   "cell_type": "code",
   "execution_count": null,
   "metadata": {
    "collapsed": true
   },
   "outputs": [],
   "source": [
    "#Ingrese su código aquí."
   ]
  },
  {
   "cell_type": "markdown",
   "metadata": {
    "colab_type": "text",
    "id": "TVdkFyRvIzrS"
   },
   "source": [
    "## Usando SQL"
   ]
  },
  {
   "cell_type": "markdown",
   "metadata": {
    "colab_type": "text",
    "id": "v2wtc2J3NaK7"
   },
   "source": [
    "Como se mencionó anteriormente, cuando cargamos datos en Pandas, se cargan **todos** los datos en la \"memoria\" del computador. Esto puede ser eficiente cuando trabajamos con pocos datos, sin embargo, deja de ser factible cuando necesitamos analizar bases de datos de mayor tamaño (puesto a que no \"caben\" en la RAM).\n",
    "\n",
    "Para los ejercicios siguientes, usaremos una base de datos de Migraciones, donde se detallan las visas entregadas a extranjeros en Chile. La base de datos se puede descargar desde aquí: \n",
    "\n",
    "https://www.dropbox.com/s/w63hgphvgm79h1u/db.zip?dl=0\n",
    "\n",
    "(Datos originales provienen de [datachile](https://en.datachile.io/about/data))\n",
    "\n",
    "Para lo que sigue, descargaremos la base de datos a nuestro equipo y trabajaremos desde allí."
   ]
  },
  {
   "cell_type": "markdown",
   "metadata": {},
   "source": [
    "A continuación importamos la librería sqlite3, que nos permite realizar consultas mediante el lenguaje SQL y nos conectamos a la base de datos ya cargada"
   ]
  },
  {
   "cell_type": "code",
   "execution_count": null,
   "metadata": {
    "colab": {
     "base_uri": "https://localhost:8080/",
     "height": 35
    },
    "colab_type": "code",
    "collapsed": false,
    "id": "tcnvprPxX4cm",
    "outputId": "56483114-dc30-429b-a3ae-e2a1b490f061"
   },
   "outputs": [],
   "source": [
    "from IPython.display import display\n",
    "\n",
    "import pandas as pd\n",
    "import sqlite3\n",
    "\n",
    "# INGRESAR SU PROPIA RUTA, DONDE DESCARGARON LA BASE\n",
    "\n",
    "data_path = r'C:\\Users\\carlo\\Lab5_20190424\\db.db' \n",
    "\n",
    "conn = sqlite3.connect(data_path)\n",
    "cursor = conn.cursor()\n"
   ]
  },
  {
   "cell_type": "code",
   "execution_count": null,
   "metadata": {
    "colab": {
     "base_uri": "https://localhost:8080/",
     "height": 230
    },
    "colab_type": "code",
    "collapsed": false,
    "id": "Ndp5VH8dYU82",
    "outputId": "6e2be585-2f9b-4e47-9cec-a992ad860999"
   },
   "outputs": [],
   "source": [
    "# Esta es una forma de inspeccionar qué tablas contiene la base de datos\n",
    "\n",
    "query = 'SELECT tbl_name FROM sqlite_master where type=\"table\"'\n",
    "\n",
    "df = pd.read_sql(query, conn)\n",
    "\n",
    "display(df)"
   ]
  },
  {
   "cell_type": "markdown",
   "metadata": {
    "colab_type": "text",
    "id": "h-69OuWYPaKd"
   },
   "source": [
    "SQL nos permite obtener **los datos que queremos, en el formato que queremos**, sin cargar toda la información a la memoria RAM del computador.\n",
    "\n",
    "Así, mientras que con Pandas cargabamos todos los datos a la memoria, SQL nos permite realizar consultas que, cada una de ellas, representa una nueva \"lectura\" de la base de datos (desde el disco duro). Esto último, si bien puede ser algo más lento, nos permite trabajar con bases de datos más grandes.\n",
    "\n"
   ]
  },
  {
   "cell_type": "markdown",
   "metadata": {},
   "source": [
    "### Ejemplo 1. \n",
    "\n",
    "**¿Que debemos hacer si es que queremos obtener las solicitudes de visa que fueron realizadas el año 2006, por menores de edad?**\n",
    "\n",
    "A continuación se evaluaran 2 opciones diferentes. En la primera se cargan primero todos los datos a un DataFrame y luego filtramos a través de este, mientras que en la segunda hacemos uso del lenguaje SQL."
   ]
  },
  {
   "cell_type": "code",
   "execution_count": null,
   "metadata": {
    "colab": {
     "base_uri": "https://localhost:8080/",
     "height": 305
    },
    "colab_type": "code",
    "collapsed": false,
    "id": "PG7CNQVPRtre",
    "outputId": "be192cc7-99ed-456f-f15f-93aa338ef36a"
   },
   "outputs": [],
   "source": [
    "query_simple = 'SELECT * FROM Visas;'\n",
    "df = pd.read_sql(query_simple,conn)\n",
    "\n",
    "#luego de cargar todos los datos, filtramos lo que queremos\n",
    "df.query('(year == 2006) & (age < 18)')\n",
    "\n",
    "#notar que el DataFrame que obtenemos tiene 7588 filas y 18 columnas"
   ]
  },
  {
   "cell_type": "code",
   "execution_count": null,
   "metadata": {
    "colab": {
     "base_uri": "https://localhost:8080/",
     "height": 305
    },
    "colab_type": "code",
    "collapsed": false,
    "id": "fNgf2bBsTiCZ",
    "outputId": "27df47d5-a6bc-4c71-8fdb-608b12c593d2"
   },
   "outputs": [],
   "source": [
    "# segunda opcion: cargamos solo los datos que nos interesan\n",
    "\n",
    "query = 'SELECT * FROM Visas WHERE year = 2006 AND age < 18;'\n",
    "\n",
    "df = pd.read_sql(query, conn)\n",
    "df\n",
    "\n",
    "#notar que el DataFrame que obtenemos tiene 7588 filas y 18 columnas"
   ]
  },
  {
   "cell_type": "markdown",
   "metadata": {
    "colab_type": "text",
    "id": "eX_xn2V8VPsx"
   },
   "source": [
    "\n",
    "**Como se pudo ver, en este caso, dado el volumen de datos que contiene el archivo cargado, resulta mucho más conveniente la segunda opción (usar SQL)**\n",
    "\n",
    "Por ello, a continuación se verán y evaluarán casos básicos con este lenguaje.\n",
    "Para quien quiera practicar más SQL, les recomiendo el siguiente [sitio web](https://www.w3schools.com/sql/)"
   ]
  },
  {
   "cell_type": "markdown",
   "metadata": {
    "colab_type": "text",
    "id": "aIgmNNaxcGGw"
   },
   "source": [
    "#### Ejercicio 1\n",
    "Obtenga\n",
    "(a) El número de visas de la cual esta base de datos contiene información.\n",
    "(b) Separe dicho número por año."
   ]
  },
  {
   "cell_type": "code",
   "execution_count": null,
   "metadata": {
    "colab": {
     "base_uri": "https://localhost:8080/",
     "height": 52
    },
    "colab_type": "code",
    "collapsed": false,
    "id": "qeGZeMAAL0Ru",
    "outputId": "86df825a-f192-475b-e5aa-107cdfc6fed1"
   },
   "outputs": [],
   "source": [
    "#ingrese query en \"a\"\n",
    "a = ''\n",
    "df = pd.read_sql(a,conn)\n",
    "print(df)"
   ]
  },
  {
   "cell_type": "code",
   "execution_count": null,
   "metadata": {
    "colab": {
     "base_uri": "https://localhost:8080/",
     "height": 417
    },
    "colab_type": "code",
    "collapsed": false,
    "id": "o8oslafrN3FH",
    "outputId": "ec04f0c7-b32c-43f8-9de6-15ab6adc593f"
   },
   "outputs": [],
   "source": [
    "#ingrese query en \"b\"\n",
    "b = '''\n",
    "\n",
    "'''\n",
    "\n",
    "df = pd.read_sql(b,conn)\n",
    "df"
   ]
  },
  {
   "cell_type": "markdown",
   "metadata": {
    "colab_type": "text",
    "id": "-QzzFIdiOIHU"
   },
   "source": [
    "#### Ejercicio 2\n",
    "Calcule el promedio de edad de los solicitantes de visa por año. Recuerde que la edad es un número entero."
   ]
  },
  {
   "cell_type": "code",
   "execution_count": null,
   "metadata": {
    "colab": {
     "base_uri": "https://localhost:8080/",
     "height": 417
    },
    "colab_type": "code",
    "collapsed": false,
    "id": "06NwC99lOIvf",
    "outputId": "80658480-c908-4279-9a68-8b606de79972"
   },
   "outputs": [],
   "source": [
    "#ingrese query en \"a\"\n",
    "a = '''\n",
    "\n",
    "'''\n",
    "\n",
    "df = pd.read_sql(a,conn)\n",
    "df"
   ]
  },
  {
   "cell_type": "markdown",
   "metadata": {
    "colab_type": "text",
    "id": "BvAOLgDix-GH"
   },
   "source": [
    "### Tarea 2\n",
    "1. Realice una consulta que permita saber cuántas visas se han entregado según género y cuál es la edad promedio de las personas que las solicitan en cada grupo (hombre/mujer). Entregue sus resultados en una tabla.\n",
    "2. ¿Cuál es la nacionalidad de las personas a las que se les entregaron visas? Para responder esto, cuente cuántas visas se han otorgado según la nacionalidad del inmigrante.\n",
    "3. ¿Cuáles son las 5 nacionalidades con más visas?\n",
    "4. Cuente cuántas visas son otorgadas, según nivel de educación y genero (en una misma tabla). (*Ayuda: Las tablas \"Educacion\" y \"Sexo\" contienen el detalle de la codificación de las variables \"sex_id\" y \"studies_id\")*\n",
    "\n"
   ]
  },
  {
   "cell_type": "markdown",
   "metadata": {
    "colab_type": "text",
    "id": "aZoWbPNkm3pK"
   },
   "source": [
    "<hr/>\n",
    "<center> <h1>Fin del laboratorio.</h1> </center>\n",
    " **Recuerde NO compartir el Notebook. Sólo debe subir archivo .ipynb por WebCurso.**."
   ]
  }
 ],
 "metadata": {
  "anaconda-cloud": {},
  "colab": {
   "collapsed_sections": [],
   "name": "Lab5_20190424",
   "provenance": [],
   "version": "0.3.2"
  },
  "kernelspec": {
   "display_name": "Python [default]",
   "language": "python",
   "name": "python3"
  },
  "language_info": {
   "codemirror_mode": {
    "name": "ipython",
    "version": 3
   },
   "file_extension": ".py",
   "mimetype": "text/x-python",
   "name": "python",
   "nbconvert_exporter": "python",
   "pygments_lexer": "ipython3",
   "version": "3.5.5"
  }
 },
 "nbformat": 4,
 "nbformat_minor": 0
}
