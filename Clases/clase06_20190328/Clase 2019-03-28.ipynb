{
 "cells": [
  {
   "cell_type": "markdown",
   "metadata": {
    "colab_type": "text",
    "id": "MVNzjAp66GW2"
   },
   "source": [
    "# 2019-03-28 (Jueves)\n",
    "\n",
    "### Anuncios\n",
    "\n",
    "### Hoy:\n",
    "- Diccionarios\n",
    "- Funciones\n"
   ]
  },
  {
   "cell_type": "markdown",
   "metadata": {
    "colab_type": "text",
    "id": "_QNX8cbd6y9G"
   },
   "source": [
    "## Diccionarios\n",
    "\n",
    "Los diccionarios son estructuras de datos que están \"indexadas\" (o sea, tienen un \"índice\"). El identificador del índice se conoce comunmente como la \"llave\" (*key*). \n",
    "\n",
    "OJO: Las listas también son objetos indexados, pero el índice de las listas corresponde a la posición en la lista (0, 1, ... , n-1)\n",
    "\n",
    "Veamos un ejemplo:"
   ]
  },
  {
   "cell_type": "code",
   "execution_count": 0,
   "metadata": {
    "colab": {
     "base_uri": "https://localhost:8080/",
     "height": 55
    },
    "colab_type": "code",
    "collapsed": false,
    "executionInfo": {
     "elapsed": 782,
     "status": "ok",
     "timestamp": 1553635054377,
     "user": {
      "displayName": "Carlos Alvarado",
      "photoUrl": "https://lh5.googleusercontent.com/-gkHbwbmPyyY/AAAAAAAAAAI/AAAAAAAAApc/0ySoKQSuj2Y/s64/photo.jpg",
      "userId": "09331894842415108886"
     },
     "user_tz": 180
    },
    "id": "fddtavRi6y9G",
    "outputId": "4fe7f986-650d-4a1e-d4fc-72a7cd0a87b1"
   },
   "outputs": [
    {
     "name": "stdout",
     "output_type": "stream",
     "text": [
      "{'maria': 7, 'juan': 8, 'elisa': 8, 'diego': 4, 'pedro': 'hola', 49: 'hola2'}\n"
     ]
    }
   ],
   "source": [
    "d = {'maria': 7 , \n",
    "     'juan': 8, \n",
    "     'elisa': 8, \n",
    "     'diego': 4, \n",
    "     'pedro': 'hola',\n",
    "    49 : 'hola2'}\n",
    "\n",
    "print(d)\n"
   ]
  },
  {
   "cell_type": "markdown",
   "metadata": {
    "colab_type": "text",
    "id": "lFq0F1lV8Bep"
   },
   "source": [
    "En este caso, el índice del diccionario corresponde a nombres de personas. Podemos acceder directamente al valor asociado a cada llave."
   ]
  },
  {
   "cell_type": "code",
   "execution_count": 0,
   "metadata": {
    "colab": {},
    "colab_type": "code",
    "collapsed": true,
    "id": "d5KB3WXe6y9I"
   },
   "outputs": [],
   "source": [
    "d['2013-03-03'] = 10000"
   ]
  },
  {
   "cell_type": "code",
   "execution_count": 0,
   "metadata": {
    "colab": {
     "base_uri": "https://localhost:8080/",
     "height": 140
    },
    "colab_type": "code",
    "collapsed": false,
    "executionInfo": {
     "elapsed": 421,
     "status": "ok",
     "timestamp": 1553635162455,
     "user": {
      "displayName": "Carlos Alvarado",
      "photoUrl": "https://lh5.googleusercontent.com/-gkHbwbmPyyY/AAAAAAAAAAI/AAAAAAAAApc/0ySoKQSuj2Y/s64/photo.jpg",
      "userId": "09331894842415108886"
     },
     "user_tz": 180
    },
    "id": "7YXueQLv6y9K",
    "outputId": "855b3254-d51a-43af-8133-dce0964c5449"
   },
   "outputs": [
    {
     "data": {
      "text/plain": [
       "{49: 'hola2',\n",
       " 'diego': 4,\n",
       " 'elisa': 8,\n",
       " 'juan': 8,\n",
       " 'maria': 7,\n",
       " 'nico': 10,\n",
       " 'pedro': 'hola'}"
      ]
     },
     "execution_count": 8,
     "metadata": {
      "tags": []
     },
     "output_type": "execute_result"
    }
   ],
   "source": [
    "d"
   ]
  },
  {
   "cell_type": "code",
   "execution_count": 0,
   "metadata": {
    "colab": {
     "base_uri": "https://localhost:8080/",
     "height": 35
    },
    "colab_type": "code",
    "collapsed": false,
    "executionInfo": {
     "elapsed": 724,
     "status": "ok",
     "timestamp": 1553635249860,
     "user": {
      "displayName": "Carlos Alvarado",
      "photoUrl": "https://lh5.googleusercontent.com/-gkHbwbmPyyY/AAAAAAAAAAI/AAAAAAAAApc/0ySoKQSuj2Y/s64/photo.jpg",
      "userId": "09331894842415108886"
     },
     "user_tz": 180
    },
    "id": "67dyLIl36y9N",
    "outputId": "c8ba4de8-b5ec-48ac-e2e1-ba1df36703d7"
   },
   "outputs": [
    {
     "data": {
      "text/plain": [
       "'hola2'"
      ]
     },
     "execution_count": 9,
     "metadata": {
      "tags": []
     },
     "output_type": "execute_result"
    }
   ],
   "source": [
    "d[49]"
   ]
  },
  {
   "cell_type": "code",
   "execution_count": 0,
   "metadata": {
    "colab": {},
    "colab_type": "code",
    "collapsed": false,
    "id": "lZTAvpDd6y9R",
    "outputId": "1dfd3d7b-8bef-43ca-a5f9-5e6a83829211"
   },
   "outputs": [
    {
     "data": {
      "text/plain": [
       "5"
      ]
     },
     "execution_count": 35,
     "metadata": {
      "tags": []
     },
     "output_type": "execute_result"
    }
   ],
   "source": [
    "len(d)"
   ]
  },
  {
   "cell_type": "markdown",
   "metadata": {
    "colab_type": "text",
    "id": "7b-eII6x6y9U"
   },
   "source": [
    "La gran ventaja de usar diccionarios es que nos permite encontrar valores que no tienen un orden lógico, de una manera rápida"
   ]
  },
  {
   "cell_type": "markdown",
   "metadata": {
    "colab_type": "text",
    "id": "3gJKXi0a8gqB"
   },
   "source": [
    "Algunas propiedades de los diccionarios:\n",
    "- Cada llave en un diccionario se puede asociar a 1 solo objeto.\n",
    "- Un diccionario no tiene un orden natural. Las llaves se ordenan en cualquier orden.\n",
    "- Lo anterior implica que, al iterar sobre un diccionario, no está asegurado que el orden de iteración sea el mismo.\n",
    "- Las llaves deben ser objetos inmutables (las listas no sirven como llaves). Se recomienda usar números (int), texto o tuplas."
   ]
  },
  {
   "cell_type": "markdown",
   "metadata": {
    "colab_type": "text",
    "id": "l5UKmEz4EAy0"
   },
   "source": [
    "En general, si tratamos de acceder a una llave que no existe, por defecto nos arrojará un error:"
   ]
  },
  {
   "cell_type": "code",
   "execution_count": 0,
   "metadata": {
    "colab": {
     "base_uri": "https://localhost:8080/",
     "height": 164
    },
    "colab_type": "code",
    "collapsed": false,
    "executionInfo": {
     "elapsed": 835,
     "status": "error",
     "timestamp": 1553722317807,
     "user": {
      "displayName": "Carlos Alvarado",
      "photoUrl": "https://lh5.googleusercontent.com/-gkHbwbmPyyY/AAAAAAAAAAI/AAAAAAAAApc/0ySoKQSuj2Y/s64/photo.jpg",
      "userId": "09331894842415108886"
     },
     "user_tz": 180
    },
    "id": "v5FLQvqcEI6a",
    "outputId": "9eeb332c-b050-409e-bac5-1cde8e5f0e0f"
   },
   "outputs": [
    {
     "ename": "KeyError",
     "evalue": "ignored",
     "output_type": "error",
     "traceback": [
      "\u001b[0;31m---------------------------------------------------------------------------\u001b[0m",
      "\u001b[0;31mKeyError\u001b[0m                                  Traceback (most recent call last)",
      "\u001b[0;32m<ipython-input-21-0ef1365d03bb>\u001b[0m in \u001b[0;36m<module>\u001b[0;34m()\u001b[0m\n\u001b[0;32m----> 1\u001b[0;31m \u001b[0mdata\u001b[0m\u001b[0;34m[\u001b[0m\u001b[0;34m'carlos'\u001b[0m\u001b[0;34m]\u001b[0m\u001b[0;34m\u001b[0m\u001b[0;34m\u001b[0m\u001b[0m\n\u001b[0m",
      "\u001b[0;31mKeyError\u001b[0m: 'carlos'"
     ]
    }
   ],
   "source": [
    "d['carlos']"
   ]
  },
  {
   "cell_type": "markdown",
   "metadata": {
    "colab_type": "text",
    "id": "9wbmhWwuETB6"
   },
   "source": [
    "Si queremos evitar este problema, y \"retornar\" un valor predeterminado para los casos donde no exista la llave, podemos usar la función \"get\":"
   ]
  },
  {
   "cell_type": "code",
   "execution_count": 1,
   "metadata": {
    "colab": {
     "base_uri": "https://localhost:8080/",
     "height": 164
    },
    "colab_type": "code",
    "collapsed": false,
    "executionInfo": {
     "elapsed": 1056,
     "status": "error",
     "timestamp": 1553784165288,
     "user": {
      "displayName": "Carlos Alvarado",
      "photoUrl": "https://lh5.googleusercontent.com/-gkHbwbmPyyY/AAAAAAAAAAI/AAAAAAAAApc/0ySoKQSuj2Y/s64/photo.jpg",
      "userId": "09331894842415108886"
     },
     "user_tz": 180
    },
    "id": "dF7qo6uAEdWa",
    "outputId": "f9e2744d-302c-41fb-b0a5-adeb8136bd73"
   },
   "outputs": [
    {
     "ename": "NameError",
     "evalue": "ignored",
     "output_type": "error",
     "traceback": [
      "\u001b[0;31m---------------------------------------------------------------------------\u001b[0m",
      "\u001b[0;31mNameError\u001b[0m                                 Traceback (most recent call last)",
      "\u001b[0;32m<ipython-input-1-809975fb4772>\u001b[0m in \u001b[0;36m<module>\u001b[0;34m()\u001b[0m\n\u001b[0;32m----> 1\u001b[0;31m \u001b[0mprint\u001b[0m\u001b[0;34m(\u001b[0m\u001b[0mdata\u001b[0m\u001b[0;34m.\u001b[0m\u001b[0mget\u001b[0m\u001b[0;34m(\u001b[0m\u001b[0;34m'juan'\u001b[0m\u001b[0;34m)\u001b[0m\u001b[0;34m)\u001b[0m\u001b[0;34m\u001b[0m\u001b[0;34m\u001b[0m\u001b[0m\n\u001b[0m",
      "\u001b[0;31mNameError\u001b[0m: name 'data' is not defined"
     ]
    }
   ],
   "source": [
    "print(data.get('juan'))"
   ]
  },
  {
   "cell_type": "code",
   "execution_count": 0,
   "metadata": {
    "colab": {
     "base_uri": "https://localhost:8080/",
     "height": 34
    },
    "colab_type": "code",
    "collapsed": false,
    "executionInfo": {
     "elapsed": 656,
     "status": "ok",
     "timestamp": 1553722436481,
     "user": {
      "displayName": "Carlos Alvarado",
      "photoUrl": "https://lh5.googleusercontent.com/-gkHbwbmPyyY/AAAAAAAAAAI/AAAAAAAAApc/0ySoKQSuj2Y/s64/photo.jpg",
      "userId": "09331894842415108886"
     },
     "user_tz": 180
    },
    "id": "bXFsX19eEqdl",
    "outputId": "6766f94a-2f0a-4827-a314-bb5ae5715f87"
   },
   "outputs": [
    {
     "name": "stdout",
     "output_type": "stream",
     "text": [
      "None\n"
     ]
    }
   ],
   "source": [
    "print(d.get('carlos'))"
   ]
  },
  {
   "cell_type": "code",
   "execution_count": 0,
   "metadata": {
    "colab": {
     "base_uri": "https://localhost:8080/",
     "height": 34
    },
    "colab_type": "code",
    "collapsed": false,
    "executionInfo": {
     "elapsed": 733,
     "status": "ok",
     "timestamp": 1553722393460,
     "user": {
      "displayName": "Carlos Alvarado",
      "photoUrl": "https://lh5.googleusercontent.com/-gkHbwbmPyyY/AAAAAAAAAAI/AAAAAAAAApc/0ySoKQSuj2Y/s64/photo.jpg",
      "userId": "09331894842415108886"
     },
     "user_tz": 180
    },
    "id": "ljgQV7EPEiSH",
    "outputId": "ca3bda31-6eb3-42dd-e016-30af86d699aa"
   },
   "outputs": [
    {
     "data": {
      "text/plain": [
       "'no existe'"
      ]
     },
     "execution_count": 23,
     "metadata": {
      "tags": []
     },
     "output_type": "execute_result"
    }
   ],
   "source": [
    "print(d.get('carlos', 'no existe'))"
   ]
  },
  {
   "cell_type": "markdown",
   "metadata": {
    "colab_type": "text",
    "id": "I67mJrJB7GRI"
   },
   "source": [
    "# Ejercicio en clase\n",
    "\n",
    "Contemos el número de transacciones por fecha..."
   ]
  },
  {
   "cell_type": "code",
   "execution_count": 5,
   "metadata": {
    "colab": {
     "base_uri": "https://localhost:8080/",
     "height": 85
    },
    "colab_type": "code",
    "collapsed": false,
    "executionInfo": {
     "elapsed": 767,
     "status": "ok",
     "timestamp": 1553784296416,
     "user": {
      "displayName": "Carlos Alvarado",
      "photoUrl": "https://lh5.googleusercontent.com/-gkHbwbmPyyY/AAAAAAAAAAI/AAAAAAAAApc/0ySoKQSuj2Y/s64/photo.jpg",
      "userId": "09331894842415108886"
     },
     "user_tz": 180
    },
    "id": "UQ0f2U3a6GW5",
    "outputId": "9699b3c8-8200-4e13-f663-943e95cbb473"
   },
   "outputs": [
    {
     "name": "stdout",
     "output_type": "stream",
     "text": [
      "Encabezado:  b'id,chain,dept,category,company,brand,date,productsize,productmeasure,purchasequantity,purchaseamount\\n'\n",
      "\n",
      "86246,205,55,5555,107684070,32094,2012-03-02,16,OZ,2,10.38\n",
      "\n"
     ]
    }
   ],
   "source": [
    "#cargamos datos del ejercicio\n",
    "\n",
    "from urllib.request import urlopen\n",
    "\n",
    "url = 'https://github.com/calvarad/eae253b/blob/master/Clases/clase06_20190328/transactions_small.csv?raw=true'\n",
    "\n",
    "file = urlopen(url)\n",
    "\n",
    "print('Encabezado: ', file.readline())\n",
    "print()\n",
    "\n",
    "for line in file:\n",
    "    line = line.decode('utf-8')  # esta linea es para decodificar el archivo (al venir de internet, viene codificado..)\n",
    "    \n",
    "    id,chain,dept,category,company,brand,date,productsize,productmeasure,purchasequantity,purchaseamount = line.strip().split(',')\n",
    "\n",
    "    print(line)\n",
    "    break\n",
    "    \n",
    "    #qué hacemos ahora?\n"
   ]
  },
  {
   "cell_type": "markdown",
   "metadata": {
    "colab_type": "text",
    "id": "Qe8_0mKr6UHh"
   },
   "source": [
    "## Funciones\n",
    "\n",
    "En todo lenguaje de programación podemos definir funciones que toman inputs y entregan un output. Se puede pensar una función como una caja negra que toma los objetos que le pasamos, los transforma, analiza y procesa, y produce un nuevo output dado esas transformaciones, analisis y procesos."
   ]
  },
  {
   "cell_type": "code",
   "execution_count": 0,
   "metadata": {
    "colab": {},
    "colab_type": "code",
    "collapsed": true,
    "id": "BcZGwF306UHl"
   },
   "outputs": [],
   "source": [
    "def suma_uno(a):\n",
    "    '''\n",
    "    Esta función toma una elemento \"a\" y le suma 1\n",
    "    '''\n",
    "    \n",
    "    b = a + 1\n",
    "    \n",
    "    return b\n",
    "    "
   ]
  },
  {
   "cell_type": "markdown",
   "metadata": {
    "colab_type": "text",
    "id": "ys6iflJK6UHq"
   },
   "source": [
    "Ahora podemos usar nuestra funcion en cualquier parte"
   ]
  },
  {
   "cell_type": "code",
   "execution_count": 0,
   "metadata": {
    "colab": {},
    "colab_type": "code",
    "collapsed": false,
    "id": "SYAnq_un6UHs",
    "outputId": "0ce4ae18-66a2-4809-aa89-985dd23a5dbe"
   },
   "outputs": [
    {
     "name": "stdout",
     "output_type": "stream",
     "text": [
      "4\n"
     ]
    }
   ],
   "source": [
    "print(suma_uno(3))\n"
   ]
  },
  {
   "cell_type": "code",
   "execution_count": 0,
   "metadata": {
    "colab": {},
    "colab_type": "code",
    "collapsed": false,
    "id": "9tDR9VLX6UHx",
    "outputId": "8ee40419-e765-4876-9087-60651e907994"
   },
   "outputs": [
    {
     "name": "stdout",
     "output_type": "stream",
     "text": [
      "no\n"
     ]
    }
   ],
   "source": [
    "#que deberia pasar aqui?\n",
    "\n",
    "a = 3\n",
    "\n",
    "if suma_uno(a) == 4:\n",
    "    print('no')\n",
    "else: \n",
    "    print('si')\n"
   ]
  },
  {
   "cell_type": "code",
   "execution_count": 0,
   "metadata": {
    "colab": {},
    "colab_type": "code",
    "collapsed": false,
    "id": "V4_kM_Ly6UH5",
    "outputId": "3e464710-63bd-4b99-d857-90ce7b55c860"
   },
   "outputs": [
    {
     "name": "stdout",
     "output_type": "stream",
     "text": [
      "5\n"
     ]
    }
   ],
   "source": [
    "#que deberia pasar aqui?\n",
    "\n",
    "a = 2\n",
    "b = suma_uno(a) + a\n",
    "print(b)"
   ]
  },
  {
   "cell_type": "code",
   "execution_count": 0,
   "metadata": {
    "colab": {},
    "colab_type": "code",
    "collapsed": true,
    "id": "4hIQLwPg6UH_"
   },
   "outputs": [],
   "source": []
  },
  {
   "cell_type": "markdown",
   "metadata": {
    "colab_type": "text",
    "id": "srHtPyhM6UIC"
   },
   "source": [
    "Es importante que nuestras funciones estén bien documentadas y que sean lo más \"comprensivas\" posible, respecto a la variedad de situaciones en las que se pueden poner"
   ]
  },
  {
   "cell_type": "code",
   "execution_count": 0,
   "metadata": {
    "colab": {},
    "colab_type": "code",
    "collapsed": false,
    "id": "wQOm67zo6UID",
    "outputId": "d0579493-b5ff-4cc9-e2a3-57e090d1c251"
   },
   "outputs": [
    {
     "ename": "TypeError",
     "evalue": "Can't convert 'int' object to str implicitly",
     "output_type": "error",
     "traceback": [
      "\u001b[0;31m---------------------------------------------------------------------------\u001b[0m",
      "\u001b[0;31mTypeError\u001b[0m                                 Traceback (most recent call last)",
      "\u001b[0;32m<ipython-input-5-a0b072e768dc>\u001b[0m in \u001b[0;36m<module>\u001b[0;34m()\u001b[0m\n\u001b[0;32m----> 1\u001b[0;31m \u001b[0mprint\u001b[0m\u001b[1;33m(\u001b[0m\u001b[0msuma_uno\u001b[0m\u001b[1;33m(\u001b[0m\u001b[1;34m'1'\u001b[0m\u001b[1;33m)\u001b[0m\u001b[1;33m)\u001b[0m\u001b[1;33m\u001b[0m\u001b[0m\n\u001b[0m",
      "\u001b[0;32m<ipython-input-1-12a35140b976>\u001b[0m in \u001b[0;36msuma_uno\u001b[0;34m(a)\u001b[0m\n\u001b[1;32m      4\u001b[0m     '''\n\u001b[1;32m      5\u001b[0m \u001b[1;33m\u001b[0m\u001b[0m\n\u001b[0;32m----> 6\u001b[0;31m     \u001b[0mb\u001b[0m \u001b[1;33m=\u001b[0m \u001b[0ma\u001b[0m \u001b[1;33m+\u001b[0m \u001b[1;36m1\u001b[0m\u001b[1;33m\u001b[0m\u001b[0m\n\u001b[0m\u001b[1;32m      7\u001b[0m \u001b[1;33m\u001b[0m\u001b[0m\n\u001b[1;32m      8\u001b[0m     \u001b[1;32mreturn\u001b[0m \u001b[0mb\u001b[0m\u001b[1;33m\u001b[0m\u001b[0m\n",
      "\u001b[0;31mTypeError\u001b[0m: Can't convert 'int' object to str implicitly"
     ]
    }
   ],
   "source": [
    "print(suma_uno('1'))"
   ]
  },
  {
   "cell_type": "markdown",
   "metadata": {
    "colab_type": "text",
    "id": "NeAIXstH6UIG"
   },
   "source": [
    "La función anterior está mal definida, ya que arroja un error cuando se le entrega un input con tipo distinto a un tipo \"numerico\". \n",
    "\n",
    "Aquí hay varias opciones sobre qué hacer, lo mejor es siempre hacer explícita alguna restricción puntual de nuestras funciones"
   ]
  },
  {
   "cell_type": "code",
   "execution_count": 0,
   "metadata": {
    "colab": {},
    "colab_type": "code",
    "collapsed": true,
    "id": "yTqp4E5F6UIH"
   },
   "outputs": [],
   "source": [
    "def suma_uno_mejor(a):\n",
    "    '''\n",
    "    Input: \"a\", debe ser un número (int o float)\n",
    "    Return: entrega un número (int o float), None si no es numero\n",
    "    '''\n",
    "    \n",
    "    #primero, revisa el tipo de la variable \"a\"\n",
    "    if type(a) not in [int, float]:\n",
    "        print('Advertencia, input erroneo! Retornando \"None\"')\n",
    "        return None\n",
    "    \n",
    "    #si el tipo esta ok, procede\n",
    "    \n",
    "    return a + 1\n",
    "\n"
   ]
  },
  {
   "cell_type": "code",
   "execution_count": 0,
   "metadata": {
    "colab": {},
    "colab_type": "code",
    "collapsed": false,
    "id": "QLlsZTcU6UIK",
    "outputId": "a54e6557-207d-4c31-d109-d270ddfe4299"
   },
   "outputs": [
    {
     "name": "stdout",
     "output_type": "stream",
     "text": [
      "Advertencia, input erroneo! Retornando \"None\"\n",
      "None\n",
      "4\n",
      "4.3\n"
     ]
    }
   ],
   "source": [
    "print(suma_uno_mejor('3'))\n",
    "print(suma_uno_mejor(3))\n",
    "print(suma_uno_mejor(3.3))"
   ]
  },
  {
   "cell_type": "markdown",
   "metadata": {
    "colab_type": "text",
    "id": "4ad3P0496UIN"
   },
   "source": [
    "#### Parametros opcionales\n"
   ]
  },
  {
   "cell_type": "markdown",
   "metadata": {
    "colab_type": "text",
    "id": "vLbvkCub6UIO"
   },
   "source": [
    "Podemos definir funciones que tomen parametros opcionales, definiendo en la misma funcion cual sera el valor por defecto que tomará dicho parámetro cuando no definamos algún valor"
   ]
  },
  {
   "cell_type": "code",
   "execution_count": 0,
   "metadata": {
    "colab": {},
    "colab_type": "code",
    "collapsed": false,
    "id": "VcIJ0Fg06UIP",
    "outputId": "fd5cf525-f62f-4c3b-d904-09f8a9ea5d94"
   },
   "outputs": [
    {
     "name": "stdout",
     "output_type": "stream",
     "text": [
      "8\n",
      "5\n"
     ]
    }
   ],
   "source": [
    "def suma_delta(a, delta=1):\n",
    "    '''\n",
    "    Suma \"delta\" al número a. Si no entrega delta, se ocupa valor por defecto\n",
    "    '''\n",
    "    if type(a) not in (int, float):\n",
    "        print('Advertencia, input erroneo')\n",
    "        return None\n",
    "    \n",
    "    return a + delta\n",
    "\n",
    "print(suma_delta(4, 4))\n",
    "print(suma_delta(4))"
   ]
  },
  {
   "cell_type": "code",
   "execution_count": 0,
   "metadata": {
    "colab": {},
    "colab_type": "code",
    "collapsed": false,
    "id": "qnZ4ALmW6UIT",
    "outputId": "49e30d40-eca3-4b26-cb9f-778529382a6f"
   },
   "outputs": [
    {
     "ename": "TypeError",
     "evalue": "unsupported operand type(s) for +: 'int' and 'NoneType'",
     "output_type": "error",
     "traceback": [
      "\u001b[0;31m---------------------------------------------------------------------------\u001b[0m",
      "\u001b[0;31mTypeError\u001b[0m                                 Traceback (most recent call last)",
      "\u001b[0;32m<ipython-input-11-2c5be2379ec1>\u001b[0m in \u001b[0;36m<module>\u001b[0;34m()\u001b[0m\n\u001b[1;32m      1\u001b[0m \u001b[1;31m# que pasara aqui?\u001b[0m\u001b[1;33m\u001b[0m\u001b[1;33m\u001b[0m\u001b[0m\n\u001b[0;32m----> 2\u001b[0;31m \u001b[0mprint\u001b[0m\u001b[1;33m(\u001b[0m\u001b[0msuma_delta\u001b[0m\u001b[1;33m(\u001b[0m\u001b[1;36m4\u001b[0m\u001b[1;33m,\u001b[0m \u001b[1;32mNone\u001b[0m\u001b[1;33m)\u001b[0m\u001b[1;33m)\u001b[0m\u001b[1;33m\u001b[0m\u001b[0m\n\u001b[0m",
      "\u001b[0;32m<ipython-input-8-359ed725e529>\u001b[0m in \u001b[0;36msuma_delta\u001b[0;34m(a, delta)\u001b[0m\n\u001b[1;32m      7\u001b[0m         \u001b[1;32mreturn\u001b[0m \u001b[1;32mNone\u001b[0m\u001b[1;33m\u001b[0m\u001b[0m\n\u001b[1;32m      8\u001b[0m \u001b[1;33m\u001b[0m\u001b[0m\n\u001b[0;32m----> 9\u001b[0;31m     \u001b[1;32mreturn\u001b[0m \u001b[0ma\u001b[0m \u001b[1;33m+\u001b[0m \u001b[0mdelta\u001b[0m\u001b[1;33m\u001b[0m\u001b[0m\n\u001b[0m\u001b[1;32m     10\u001b[0m \u001b[1;33m\u001b[0m\u001b[0m\n\u001b[1;32m     11\u001b[0m \u001b[0mprint\u001b[0m\u001b[1;33m(\u001b[0m\u001b[0msuma_delta\u001b[0m\u001b[1;33m(\u001b[0m\u001b[1;36m4\u001b[0m\u001b[1;33m,\u001b[0m \u001b[1;36m4\u001b[0m\u001b[1;33m)\u001b[0m\u001b[1;33m)\u001b[0m\u001b[1;33m\u001b[0m\u001b[0m\n",
      "\u001b[0;31mTypeError\u001b[0m: unsupported operand type(s) for +: 'int' and 'NoneType'"
     ]
    }
   ],
   "source": [
    "# que pasara aqui?\n",
    "print(suma_delta(4, True))"
   ]
  }
 ],
 "metadata": {
  "anaconda-cloud": {},
  "colab": {
   "collapsed_sections": [],
   "name": "Clase 2019-03-28.ipynb",
   "provenance": [],
   "version": "0.3.2"
  },
  "kernelspec": {
   "display_name": "Python [default]",
   "language": "python",
   "name": "python3"
  },
  "language_info": {
   "codemirror_mode": {
    "name": "ipython",
    "version": 3
   },
   "file_extension": ".py",
   "mimetype": "text/x-python",
   "name": "python",
   "nbconvert_exporter": "python",
   "pygments_lexer": "ipython3",
   "version": "3.5.5"
  }
 },
 "nbformat": 4,
 "nbformat_minor": 0
}
