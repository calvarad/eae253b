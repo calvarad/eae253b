{
  "nbformat": 4,
  "nbformat_minor": 0,
  "metadata": {
    "colab": {
      "name": "Clase 2019-03-12.ipynb",
      "version": "0.3.2",
      "provenance": [],
      "collapsed_sections": []
    },
    "kernelspec": {
      "display_name": "Python [default]",
      "language": "python",
      "name": "python3"
    }
  },
  "cells": [
    {
      "metadata": {
        "id": "-m5M3IeLx79X",
        "colab_type": "text"
      },
      "cell_type": "markdown",
      "source": [
        "# 2019-03-12 (Martes)\n",
        "\n",
        "### Anuncios:\n",
        "\n",
        "- Calendario actualizado: https://github.com/calvarad/eae253b/blob/master/Documentos/PROGRAMA.md\n",
        "- Laboratorios se realizaran en la Sala 1 de computación, mismo horario (W:2)\n",
        "\n",
        "---"
      ]
    },
    {
      "metadata": {
        "id": "iqgkigYyxlyV",
        "colab_type": "text"
      },
      "cell_type": "markdown",
      "source": [
        "## Introducción: Objetos y Estructuras de datos\n",
        "\n",
        "Principal paradigma de programación: Programación Orientada a Objetos (Object Oriented Programming -- OOP)\n",
        "\n",
        "--> programador interactua con \"Objetos\", que le permiten desarrollar piezas de software más complejas para resolver alguna problemática puntual\n",
        "\n",
        "**Qué estructuras de datos conocen?**\n",
        "\n",
        "- Números (enteros, reales, complejos)\n",
        "- Vectores o matrices\n",
        "- Tabla / Base datos\n",
        "- Linea\n",
        "- Serie --> promedio, sd, etc (estadísticas)\n",
        "- Fechas?\n",
        "\n",
        "--> Objetos usualmente tienen \"**métodos**\" (funciones) disponibles, y \"**atributos**\" (valores), que pueden estar predefinidos o bien ser definidos por el programador.\n",
        "\n",
        "\n",
        "**Definiciones de objetos versus instancias**\n",
        "\n",
        "**Estructuras de datos universalmente usadas:**\n",
        "- Números y caracteres (int, float, string)\n",
        "- Listas o arreglos (*arrays*)\n",
        "- Pilas (*stacks*) o filas de espera (*queues*)\n",
        "- Diccionarios o hash-tables\n",
        "- Árboles o grafos\n",
        "\n",
        "**De mayor relevancia en análisis de datos estadístico/económico:**\n",
        "- Fechas\n",
        "- Vectores o matrices\n",
        "- Series o DataFrames\n"
      ]
    },
    {
      "metadata": {
        "id": "iIEsXSOLxF0A",
        "colab_type": "text"
      },
      "cell_type": "markdown",
      "source": [
        "## Introducción: Python\n",
        "\n",
        "![crecimientopython](https://zgab33vy595fw5zq-zippykid.netdna-ssl.com/wp-content/uploads/2017/09/growth_major_languages-1-1400x1200.png)\n",
        "\n",
        "Con R:\n",
        "![crecimientopython2](https://zgab33vy595fw5zq-zippykid.netdna-ssl.com/wp-content/uploads/2017/09/growth_smaller_tags-1-1400x1200.png)\n",
        "\n"
      ]
    },
    {
      "metadata": {
        "id": "GJrCm1PQxK5J",
        "colab_type": "text"
      },
      "cell_type": "markdown",
      "source": [
        "## Elementos básicos de programación"
      ]
    },
    {
      "metadata": {
        "id": "VziNsTglxO6g",
        "colab_type": "text"
      },
      "cell_type": "markdown",
      "source": [
        "### Primer programa"
      ]
    },
    {
      "metadata": {
        "id": "0zb5V16Wx79a",
        "colab_type": "code",
        "colab": {
          "base_uri": "https://localhost:8080/",
          "height": 50
        },
        "outputId": "cc89adac-bd83-4781-a03f-9c61d4e07bc9"
      },
      "cell_type": "code",
      "source": [
        "suma = 2 + 3\n",
        "print(suma)\n",
        "\n",
        "suma3 = 234 * 3\n",
        "suma4 = suma3 + 2\n",
        "\n",
        "suma3"
      ],
      "execution_count": 12,
      "outputs": [
        {
          "output_type": "stream",
          "text": [
            "5\n"
          ],
          "name": "stdout"
        },
        {
          "output_type": "execute_result",
          "data": {
            "text/plain": [
              "702"
            ]
          },
          "metadata": {
            "tags": []
          },
          "execution_count": 12
        }
      ]
    },
    {
      "metadata": {
        "id": "A8KXjRCEtUjU",
        "colab_type": "code",
        "colab": {
          "base_uri": "https://localhost:8080/",
          "height": 34
        },
        "outputId": "45c4c7a3-1b4f-4fb2-df4c-753e632460ef"
      },
      "cell_type": "code",
      "source": [
        "2"
      ],
      "execution_count": 9,
      "outputs": [
        {
          "output_type": "execute_result",
          "data": {
            "text/plain": [
              "2"
            ]
          },
          "metadata": {
            "tags": []
          },
          "execution_count": 9
        }
      ]
    },
    {
      "metadata": {
        "id": "sr91aj6tx79n",
        "colab_type": "text"
      },
      "cell_type": "markdown",
      "source": [
        "Notas: apóstrofe (') y comillas (\") se pueden usar indistintamente en casi cualquier contexto en Python. También es común usar triple apóstrofe o triple comillas para strings largos"
      ]
    },
    {
      "metadata": {
        "id": "oQ4th94kx79o",
        "colab_type": "code",
        "colab": {}
      },
      "cell_type": "code",
      "source": [
        "texto = 'Hello world!sssssssssssssssssssssssssssssssssssssssssssssssssssssssssssssssssssssssssssssssssssssssssssssssssssssssssssssssssssssssssssssssssssssssssssssssssssssssssssssssssssssssssssssssssssssssssssssssssssssssssssss'\n",
        "\n",
        "print(texto)"
      ],
      "execution_count": 0,
      "outputs": []
    },
    {
      "metadata": {
        "id": "wk8VJNa7x79w",
        "colab_type": "code",
        "colab": {}
      },
      "cell_type": "code",
      "source": [
        "print(\"\"\"    este es un string largo\n",
        "    \n",
        "                    ok\n",
        "\"\"\")"
      ],
      "execution_count": 0,
      "outputs": []
    },
    {
      "metadata": {
        "id": "DFeedbN5x793",
        "colab_type": "code",
        "colab": {
          "base_uri": "https://localhost:8080/",
          "height": 132
        },
        "outputId": "f29f3391-926e-4534-e098-644806c5bbf9"
      },
      "cell_type": "code",
      "source": [
        "print(' este es otro \\\n",
        "    string \\\n",
        "          largo \\\n",
        "      ')"
      ],
      "execution_count": 22,
      "outputs": [
        {
          "output_type": "error",
          "ename": "SyntaxError",
          "evalue": "ignored",
          "traceback": [
            "\u001b[0;36m  File \u001b[0;32m\"<ipython-input-22-46153f35e302>\"\u001b[0;36m, line \u001b[0;32m1\u001b[0m\n\u001b[0;31m    print(' este es otro\u001b[0m\n\u001b[0m                         ^\u001b[0m\n\u001b[0;31mSyntaxError\u001b[0m\u001b[0;31m:\u001b[0m EOL while scanning string literal\n"
          ]
        }
      ]
    },
    {
      "metadata": {
        "id": "q3KtLHWux796",
        "colab_type": "code",
        "colab": {}
      },
      "cell_type": "code",
      "source": [
        "print('aqui', 'imprimo', 'mucho', 'texto', sep='%', end='')\n",
        "print('pegado', end='')\n",
        "print('pero aca me salto')\n",
        "print('una linea')\n"
      ],
      "execution_count": 0,
      "outputs": []
    },
    {
      "metadata": {
        "id": "YvWyXg7mx799",
        "colab_type": "code",
        "colab": {}
      },
      "cell_type": "code",
      "source": [
        "'hola'"
      ],
      "execution_count": 0,
      "outputs": []
    },
    {
      "metadata": {
        "id": "DkX6SB2px7-A",
        "colab_type": "code",
        "colab": {}
      },
      "cell_type": "code",
      "source": [
        "_"
      ],
      "execution_count": 0,
      "outputs": []
    },
    {
      "metadata": {
        "id": "X-Vrta2ux7-D",
        "colab_type": "code",
        "colab": {}
      },
      "cell_type": "code",
      "source": [
        "help(print)"
      ],
      "execution_count": 0,
      "outputs": []
    },
    {
      "metadata": {
        "id": "Kk-ZeIIvx7-I",
        "colab_type": "text"
      },
      "cell_type": "markdown",
      "source": [
        "### Variables, tipos de datos y expresiones\n",
        "\n",
        "##### Variables\n",
        "Python, como muchos otros lenguajes de programación, nos permite **asignar** datos o valores a entidades llamadas \"variables\", dándole así un nombre al dato o valor de interés. Por ejemplo:\n",
        "\n"
      ]
    },
    {
      "metadata": {
        "id": "1Uo9RkBUx7-J",
        "colab_type": "code",
        "colab": {
          "base_uri": "https://localhost:8080/",
          "height": 35
        },
        "outputId": "b45b878e-75e5-4f4c-cf6b-877c56bae63b"
      },
      "cell_type": "code",
      "source": [
        "a = 2\n",
        "\n",
        "print(a)"
      ],
      "execution_count": 13,
      "outputs": [
        {
          "output_type": "stream",
          "text": [
            "2\n"
          ],
          "name": "stdout"
        }
      ]
    },
    {
      "metadata": {
        "id": "do9YNZuIx7-L",
        "colab_type": "code",
        "colab": {
          "base_uri": "https://localhost:8080/",
          "height": 35
        },
        "outputId": "616449ac-d955-4943-b44d-14677be972a4"
      },
      "cell_type": "code",
      "source": [
        "a + 3"
      ],
      "execution_count": 14,
      "outputs": [
        {
          "output_type": "execute_result",
          "data": {
            "text/plain": [
              "5"
            ]
          },
          "metadata": {
            "tags": []
          },
          "execution_count": 14
        }
      ]
    },
    {
      "metadata": {
        "id": "sHqkuXanx7-P",
        "colab_type": "code",
        "colab": {
          "base_uri": "https://localhost:8080/",
          "height": 35
        },
        "outputId": "56c31edc-6250-4639-f193-eff511ca5cab"
      },
      "cell_type": "code",
      "source": [
        "a / 3"
      ],
      "execution_count": 15,
      "outputs": [
        {
          "output_type": "execute_result",
          "data": {
            "text/plain": [
              "0.6666666666666666"
            ]
          },
          "metadata": {
            "tags": []
          },
          "execution_count": 15
        }
      ]
    },
    {
      "metadata": {
        "id": "us9a4O5evEt1",
        "colab_type": "code",
        "colab": {
          "base_uri": "https://localhost:8080/",
          "height": 35
        },
        "outputId": "52fb7465-caa3-4f43-eba2-83762b6647fc"
      },
      "cell_type": "code",
      "source": [
        "44 // 15"
      ],
      "execution_count": 21,
      "outputs": [
        {
          "output_type": "execute_result",
          "data": {
            "text/plain": [
              "2"
            ]
          },
          "metadata": {
            "tags": []
          },
          "execution_count": 21
        }
      ]
    },
    {
      "metadata": {
        "id": "oyjr2NZEx7-Q",
        "colab_type": "text"
      },
      "cell_type": "markdown",
      "source": [
        "##### Tipos de datos\n",
        "Los tipos de datos básicos que encontramos en Python son:\n",
        "\n",
        "- números (int o float)\n",
        "- texto (str)\n",
        "- booleanos (True o False)\n",
        "- nada (None)\n"
      ]
    },
    {
      "metadata": {
        "id": "2L-u9I8Ox7-R",
        "colab_type": "code",
        "colab": {}
      },
      "cell_type": "code",
      "source": [
        "#sfsdfsdf \n",
        "#lsidjfsl\n",
        "\n",
        "a = 2        \n",
        "b = 'texto 1'\n",
        "c = \"texto 2\"\n",
        "a = 'gato'\n",
        "print(b + c)\n",
        "\n",
        "a"
      ],
      "execution_count": 0,
      "outputs": []
    },
    {
      "metadata": {
        "id": "oJbbiPmgx7-U",
        "colab_type": "code",
        "colab": {}
      },
      "cell_type": "code",
      "source": [
        "print(a == 2)\n",
        "\n",
        "z = a == 2\n",
        "print(z)"
      ],
      "execution_count": 0,
      "outputs": []
    },
    {
      "metadata": {
        "id": "g84oAELXx7-Y",
        "colab_type": "code",
        "colab": {}
      },
      "cell_type": "code",
      "source": [
        "print(0.5 == 1 - 0.5)"
      ],
      "execution_count": 0,
      "outputs": []
    },
    {
      "metadata": {
        "id": "GWZwY6LHx7-a",
        "colab_type": "text"
      },
      "cell_type": "markdown",
      "source": [
        "*Importante tener en mente posibles problemas derivados de la precisión computacional...*"
      ]
    },
    {
      "metadata": {
        "id": "3cBvovahx7-d",
        "colab_type": "code",
        "outputId": "fa36b909-fc1e-417d-fa6e-62a2024cefc6",
        "colab": {
          "base_uri": "https://localhost:8080/",
          "height": 34
        }
      },
      "cell_type": "code",
      "source": [
        "print(0.1 == 1 - 0.9)"
      ],
      "execution_count": 0,
      "outputs": [
        {
          "output_type": "stream",
          "text": [
            "False\n"
          ],
          "name": "stdout"
        }
      ]
    },
    {
      "metadata": {
        "id": "6ync3Uz9x7-h",
        "colab_type": "code",
        "outputId": "d7695545-583c-41a2-8e56-e7a3aff03b0a",
        "colab": {
          "base_uri": "https://localhost:8080/",
          "height": 35
        }
      },
      "cell_type": "code",
      "source": [
        "eval(\"1 - 0.9\")"
      ],
      "execution_count": 0,
      "outputs": [
        {
          "output_type": "execute_result",
          "data": {
            "text/plain": [
              "0.09999999999999998"
            ]
          },
          "metadata": {
            "tags": []
          },
          "execution_count": 1
        }
      ]
    },
    {
      "metadata": {
        "id": "jItGX4IQx7-j",
        "colab_type": "code",
        "outputId": "6786ba8f-0a1b-4658-eaa4-be852f1c56a2",
        "colab": {
          "base_uri": "https://localhost:8080/",
          "height": 54
        }
      },
      "cell_type": "code",
      "source": [
        "import sys\n",
        "sys.float_info"
      ],
      "execution_count": 0,
      "outputs": [
        {
          "output_type": "execute_result",
          "data": {
            "text/plain": [
              "sys.float_info(max=1.7976931348623157e+308, max_exp=1024, max_10_exp=308, min=2.2250738585072014e-308, min_exp=-1021, min_10_exp=-307, dig=15, mant_dig=53, epsilon=2.220446049250313e-16, radix=2, rounds=1)"
            ]
          },
          "metadata": {
            "tags": []
          },
          "execution_count": 14
        }
      ]
    },
    {
      "metadata": {
        "id": "v0WrYZ_znxUL",
        "colab_type": "text"
      },
      "cell_type": "markdown",
      "source": [
        "Otro ejemplo:"
      ]
    },
    {
      "metadata": {
        "id": "_sRR6BXUnRoF",
        "colab_type": "code",
        "outputId": "c00ef389-96de-4439-ae3d-37272e44355a",
        "colab": {
          "base_uri": "https://localhost:8080/",
          "height": 35
        }
      },
      "cell_type": "code",
      "source": [
        "bigN1 = 10 * (2**50)\n",
        "\n",
        "divideN = bigN1 / 77\n",
        "\n",
        "bigN2 = divideN * 77\n",
        "\n",
        "print(abs(bigN1-bigN2))"
      ],
      "execution_count": 0,
      "outputs": [
        {
          "output_type": "stream",
          "text": [
            "2.0\n"
          ],
          "name": "stdout"
        }
      ]
    },
    {
      "metadata": {
        "id": "C3mbx25Ex7-m",
        "colab_type": "text"
      },
      "cell_type": "markdown",
      "source": [
        "##### Algunas funciones útiles\n",
        "- %whos\n",
        "- type()\n",
        "- dir()\n"
      ]
    },
    {
      "metadata": {
        "id": "2wVV70ksx7-m",
        "colab_type": "code",
        "colab": {}
      },
      "cell_type": "code",
      "source": [
        "%whos"
      ],
      "execution_count": 0,
      "outputs": []
    },
    {
      "metadata": {
        "id": "Sn1Ux6OHx7-p",
        "colab_type": "code",
        "colab": {}
      },
      "cell_type": "code",
      "source": [
        "dir(a)"
      ],
      "execution_count": 0,
      "outputs": []
    },
    {
      "metadata": {
        "id": "thfdIc_Ix7-q",
        "colab_type": "code",
        "colab": {}
      },
      "cell_type": "code",
      "source": [
        "'hola como estas'.split('a')"
      ],
      "execution_count": 0,
      "outputs": []
    },
    {
      "metadata": {
        "id": "5r3u0sAZx7-u",
        "colab_type": "code",
        "colab": {}
      },
      "cell_type": "code",
      "source": [
        "type(a)"
      ],
      "execution_count": 0,
      "outputs": []
    },
    {
      "metadata": {
        "id": "OdtdKqmyx7-w",
        "colab_type": "code",
        "colab": {}
      },
      "cell_type": "code",
      "source": [
        "a = 'casa'"
      ],
      "execution_count": 0,
      "outputs": []
    },
    {
      "metadata": {
        "id": "P2TxTfNTx7_A",
        "colab_type": "text"
      },
      "cell_type": "markdown",
      "source": [
        "##### Expresiones"
      ]
    },
    {
      "metadata": {
        "id": "Slwh1hfTx7_A",
        "colab_type": "text"
      },
      "cell_type": "markdown",
      "source": [
        "- Operaciones matemáticas usuales: +, -, *, /\n",
        "- Otras operaciones matematicas: // (division de enteros),  % (modulo), ** exponente\n",
        "- Operadores relacionales: >, <, >=, <=, ==, !=\n",
        "- Otros operadores de comparacion: \"is\" y \"is not\"\n",
        "- Operadores logicos: \"and\", \"or\", \"not\"\n",
        "- Operadores de membresía: \"in\", \"not in\"\n",
        "\n",
        "--> Importancia expresiones booleanas: se usan con fines de \"control\" del codigo (proxima clase)"
      ]
    },
    {
      "metadata": {
        "id": "9RBKny_tx7_B",
        "colab_type": "code",
        "colab": {}
      },
      "cell_type": "code",
      "source": [
        "3 + 2"
      ],
      "execution_count": 0,
      "outputs": []
    },
    {
      "metadata": {
        "id": "F5assxhKx7_C",
        "colab_type": "code",
        "colab": {}
      },
      "cell_type": "code",
      "source": [
        "4 // 3"
      ],
      "execution_count": 0,
      "outputs": []
    },
    {
      "metadata": {
        "id": "-KofLOBYx7_E",
        "colab_type": "code",
        "colab": {}
      },
      "cell_type": "code",
      "source": [
        "2 % 2"
      ],
      "execution_count": 0,
      "outputs": []
    },
    {
      "metadata": {
        "id": "8Vd4qGSbx7_F",
        "colab_type": "code",
        "colab": {}
      },
      "cell_type": "code",
      "source": [
        "3 ** 2"
      ],
      "execution_count": 0,
      "outputs": []
    },
    {
      "metadata": {
        "id": "rXdcJlImx7_J",
        "colab_type": "text"
      },
      "cell_type": "markdown",
      "source": [
        "### Control de flujo. If, elif, else\n",
        "\n",
        "Aqui se empieza a poner un poco más entretenida la programación, ya que podemos instruir al computador que evalue ciertos escenarios y realice operaciones de manera condicional:\n"
      ]
    },
    {
      "metadata": {
        "id": "2xFP4G_jx7_K",
        "colab_type": "code",
        "colab": {}
      },
      "cell_type": "code",
      "source": [
        "numero = 8\n",
        "\n",
        "if numero % 2 == 0:\n",
        "    print('numero es par')\n",
        "else:\n",
        "    print('numero es impar')"
      ],
      "execution_count": 0,
      "outputs": []
    },
    {
      "metadata": {
        "id": "7kOnYRNFx7_M",
        "colab_type": "code",
        "colab": {}
      },
      "cell_type": "code",
      "source": [
        "coeficiente = 4\n",
        "\n",
        "if coeficiente >= 2:\n",
        "    print('coeficiente es significativo e igual a {}'.format(coeficiente))"
      ],
      "execution_count": 0,
      "outputs": []
    },
    {
      "metadata": {
        "id": "IMCDnq53x7_Q",
        "colab_type": "text"
      },
      "cell_type": "markdown",
      "source": [
        "*if/elif* funciona de forma secuencial, ejecutando el codigo de la primera condicion verdadera:"
      ]
    },
    {
      "metadata": {
        "id": "56zMV1Csx7_R",
        "colab_type": "code",
        "colab": {}
      },
      "cell_type": "code",
      "source": [
        "coeficiente = 8\n",
        "\n",
        "if coeficiente >= 2:\n",
        "    print('coeficiente es significativo e igual a {}'.format(coeficiente))\n",
        "elif coeficiente >= 3:\n",
        "    print('coeficiente es muy significativo e igual a {}'.format(coeficiente))"
      ],
      "execution_count": 0,
      "outputs": []
    },
    {
      "metadata": {
        "id": "ifcybL5tx7_T",
        "colab_type": "text"
      },
      "cell_type": "markdown",
      "source": [
        "Es importante ser lo más comprensivo posible con la evaluación de condiciones... una mala gestión de dichas condiciones puede llevar a errores"
      ]
    },
    {
      "metadata": {
        "id": "hLqh6HmPx7_T",
        "colab_type": "code",
        "colab": {}
      },
      "cell_type": "code",
      "source": [
        "t_stat = 2\n",
        "\n",
        "if t_stat > 2: \n",
        "    print('significativo')\n",
        "elif t_stat < 2: \n",
        "    print('no significativo')"
      ],
      "execution_count": 0,
      "outputs": []
    },
    {
      "metadata": {
        "id": "XwDHalUkx7_U",
        "colab_type": "text"
      },
      "cell_type": "markdown",
      "source": [
        "Una buena práctica es siempre hacerse cargo explicitamente de todas las opciones posibles. Existe 1 excepción a esta regla, la veremos cuando aprendamos más sobre funciones."
      ]
    },
    {
      "metadata": {
        "id": "M1rSaB9Hx7_V",
        "colab_type": "text"
      },
      "cell_type": "markdown",
      "source": [
        "### Operaciones básicas sobre strings\n",
        "\n",
        "Estas son algunas funciones básicas (\"métodos\") que podemos realizar sobre strings (en el transcurso del curso veremos más):"
      ]
    },
    {
      "metadata": {
        "id": "UushQntmx7_V",
        "colab_type": "code",
        "outputId": "c164dfb6-38a3-40e3-e849-cd4b05e165af",
        "colab": {
          "base_uri": "https://localhost:8080/",
          "height": 68
        }
      },
      "cell_type": "code",
      "source": [
        "texto = 'Hola como estas?'\n",
        "\n",
        "#convertir a mayusculas\n",
        "texto_mayusc = texto.upper()\n",
        "print(texto_mayusc)\n",
        "\n",
        "#convertir a minusculas\n",
        "print(texto.lower())\n",
        "\n",
        "#reemplazar\n",
        "print(texto.replace('como', 'cómo'))"
      ],
      "execution_count": 0,
      "outputs": [
        {
          "output_type": "stream",
          "text": [
            "HOLA COMO ESTAS?\n",
            "hola como estas?\n",
            "Hola cómo estas?\n"
          ],
          "name": "stdout"
        }
      ]
    },
    {
      "metadata": {
        "id": "TUosssORx7_Y",
        "colab_type": "code",
        "outputId": "33087ef3-5030-46c2-bad7-c9c617d290c2",
        "colab": {
          "base_uri": "https://localhost:8080/",
          "height": 119
        }
      },
      "cell_type": "code",
      "source": [
        "#comienza con?\n",
        "print(texto.startswith(\"Hello\"))\n",
        "\n",
        "#termina con?\n",
        "print(texto.endswith(\"?\"))\n",
        "\n",
        "#busca posicion de caracteres dentro de texto\n",
        "print(texto.index('la'))\n",
        "\n",
        "#formatear texto\n",
        "texto_base = '{} y {} \\nsalieron al campo\\n'\n",
        "\n",
        "print(texto_base)\n",
        "\n"
      ],
      "execution_count": 0,
      "outputs": [
        {
          "output_type": "stream",
          "text": [
            "False\n",
            "True\n",
            "2\n",
            "{} y {} \n",
            "salieron al campo\n",
            "\n"
          ],
          "name": "stdout"
        }
      ]
    },
    {
      "metadata": {
        "id": "H9dT0jtcungk",
        "colab_type": "text"
      },
      "cell_type": "markdown",
      "source": [
        "podemos crear texto dinámicamente:"
      ]
    },
    {
      "metadata": {
        "id": "a4uEQG7TulAA",
        "colab_type": "code",
        "colab": {}
      },
      "cell_type": "code",
      "source": [
        "print(texto_base.format('juan', 'diego'))\n",
        "print(texto_base.format('maria', 'lucia'))"
      ],
      "execution_count": 0,
      "outputs": []
    },
    {
      "metadata": {
        "id": "pIyH1L1-x7_c",
        "colab_type": "code",
        "colab": {}
      },
      "cell_type": "code",
      "source": [
        "#dividir texto (listas --> proxima clase)\n",
        "\n",
        "print(texto_base.split())\n",
        "print(texto_base.format('juan', 'diego').split())\n"
      ],
      "execution_count": 0,
      "outputs": []
    },
    {
      "metadata": {
        "id": "YXBHZpQQx7_j",
        "colab_type": "text"
      },
      "cell_type": "markdown",
      "source": [
        "Acá hay una lista más completa de todos los \"metodos\" que tiene el tipo de datos \"string\", y otras funciones adicionales que podemos aplicar a strings.\n",
        "\n",
        "https://www.programiz.com/python-programming/methods/string\n"
      ]
    }
  ]
}