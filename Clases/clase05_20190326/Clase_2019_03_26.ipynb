{
  "nbformat": 4,
  "nbformat_minor": 0,
  "metadata": {
    "colab": {
      "name": "Clase 2019-03-26.ipynb",
      "version": "0.3.2",
      "provenance": [],
      "collapsed_sections": []
    },
    "kernelspec": {
      "display_name": "Python 3",
      "language": "python",
      "name": "python3"
    }
  },
  "cells": [
    {
      "metadata": {
        "id": "MVNzjAp66GW2",
        "colab_type": "text"
      },
      "cell_type": "markdown",
      "source": [
        "# 2019-03-26 (Martes)\n",
        "\n",
        "### Anuncios\n",
        "\n",
        "### Hoy:\n",
        "- Intro computacion\n",
        "- Diccionarios"
      ]
    },
    {
      "metadata": {
        "id": "_QNX8cbd6y9G",
        "colab_type": "text"
      },
      "cell_type": "markdown",
      "source": [
        "## Diccionarios\n",
        "\n",
        "Los diccionarios son estructuras de datos que están \"indexadas\" (o sea, tienen un \"índice\"). El identificador del índice se conoce comunmente como la \"llave\" (*key*). \n",
        "\n",
        "OJO: Las listas también son objetos indexados, pero el índice de las listas corresponde a la posición en la lista (0, 1, ... , n-1)\n",
        "\n",
        "Veamos un ejemplo:"
      ]
    },
    {
      "metadata": {
        "id": "fddtavRi6y9G",
        "colab_type": "code",
        "outputId": "4fe7f986-650d-4a1e-d4fc-72a7cd0a87b1",
        "colab": {
          "base_uri": "https://localhost:8080/",
          "height": 55
        }
      },
      "cell_type": "code",
      "source": [
        "d = {'maria': 7 , \n",
        "     'juan': 8, \n",
        "     'elisa': 8, \n",
        "     'diego': 4, \n",
        "     'pedro': 'hola',\n",
        "    49 : 'hola2'}\n",
        "\n",
        "print(d)\n"
      ],
      "execution_count": 0,
      "outputs": [
        {
          "output_type": "stream",
          "text": [
            "{'maria': 7, 'juan': 8, 'elisa': 8, 'diego': 4, 'pedro': 'hola', 49: 'hola2'}\n"
          ],
          "name": "stdout"
        }
      ]
    },
    {
      "metadata": {
        "id": "lFq0F1lV8Bep",
        "colab_type": "text"
      },
      "cell_type": "markdown",
      "source": [
        "En este caso, el índice del diccionario corresponde a nombres de personas. Podemos acceder directamente al valor asociado a cada llave."
      ]
    },
    {
      "metadata": {
        "id": "d5KB3WXe6y9I",
        "colab_type": "code",
        "colab": {}
      },
      "cell_type": "code",
      "source": [
        "d['2013-03-03'] = 10000"
      ],
      "execution_count": 0,
      "outputs": []
    },
    {
      "metadata": {
        "id": "7YXueQLv6y9K",
        "colab_type": "code",
        "outputId": "855b3254-d51a-43af-8133-dce0964c5449",
        "colab": {
          "base_uri": "https://localhost:8080/",
          "height": 140
        }
      },
      "cell_type": "code",
      "source": [
        "d"
      ],
      "execution_count": 0,
      "outputs": [
        {
          "output_type": "execute_result",
          "data": {
            "text/plain": [
              "{49: 'hola2',\n",
              " 'diego': 4,\n",
              " 'elisa': 8,\n",
              " 'juan': 8,\n",
              " 'maria': 7,\n",
              " 'nico': 10,\n",
              " 'pedro': 'hola'}"
            ]
          },
          "metadata": {
            "tags": []
          },
          "execution_count": 8
        }
      ]
    },
    {
      "metadata": {
        "id": "67dyLIl36y9N",
        "colab_type": "code",
        "outputId": "c8ba4de8-b5ec-48ac-e2e1-ba1df36703d7",
        "colab": {
          "base_uri": "https://localhost:8080/",
          "height": 35
        }
      },
      "cell_type": "code",
      "source": [
        "d[49]"
      ],
      "execution_count": 0,
      "outputs": [
        {
          "output_type": "execute_result",
          "data": {
            "text/plain": [
              "'hola2'"
            ]
          },
          "metadata": {
            "tags": []
          },
          "execution_count": 9
        }
      ]
    },
    {
      "metadata": {
        "id": "lZTAvpDd6y9R",
        "colab_type": "code",
        "outputId": "1dfd3d7b-8bef-43ca-a5f9-5e6a83829211",
        "colab": {}
      },
      "cell_type": "code",
      "source": [
        "len(d)"
      ],
      "execution_count": 0,
      "outputs": [
        {
          "output_type": "execute_result",
          "data": {
            "text/plain": [
              "5"
            ]
          },
          "metadata": {
            "tags": []
          },
          "execution_count": 35
        }
      ]
    },
    {
      "metadata": {
        "id": "7b-eII6x6y9U",
        "colab_type": "text"
      },
      "cell_type": "markdown",
      "source": [
        "La gran ventaja de usar diccionarios es que nos permite encontrar valores que no tienen un orden lógico, de una manera rápida"
      ]
    },
    {
      "metadata": {
        "id": "pncsDU8Z6y9V",
        "colab_type": "code",
        "colab": {}
      },
      "cell_type": "code",
      "source": [
        "# busqueda de datos con listas:\n",
        "\n",
        "data = [('juan', 5), ('maria', 6), ('pedro', 3), ('sofia', 7)]\n",
        "\n",
        "#cual es la nota de pedro?\n",
        "\n",
        "nom_buscado = 'pedro'\n",
        "\n",
        "for nombre, nota in data:\n",
        "    if nombre == nom_buscado:\n",
        "        print(nota)\n",
        "        "
      ],
      "execution_count": 0,
      "outputs": []
    },
    {
      "metadata": {
        "id": "qjLFsLX26y9X",
        "colab_type": "code",
        "colab": {}
      },
      "cell_type": "code",
      "source": [
        "# busqueda con diccionarios\n",
        "\n",
        "data = {'juan': 5, 'maria': 6, 'pedro': 3, 'sofia': 7}\n",
        "\n",
        "print(data[nom_buscado])"
      ],
      "execution_count": 0,
      "outputs": []
    },
    {
      "metadata": {
        "id": "3gJKXi0a8gqB",
        "colab_type": "text"
      },
      "cell_type": "markdown",
      "source": [
        "Algunas propiedades de los diccionarios:\n",
        "- Cada llave en un diccionario se puede asociar a 1 solo objeto.\n",
        "- Un diccionario no tiene un orden natural. Las llaves se ordenan en cualquier orden.\n",
        "- Lo anterior implica que, al iterar sobre un diccionario, no está asegurado que el orden de iteración sea el mismo.\n",
        "- Las llaves deben ser objetos inmutables (las listas no sirven como llaves). Se recomienda usar números (int), texto o tuplas."
      ]
    },
    {
      "metadata": {
        "id": "QoEOnfPm6y9b",
        "colab_type": "code",
        "outputId": "7235ad20-ca35-4493-de56-a202b82440e8",
        "colab": {
          "base_uri": "https://localhost:8080/",
          "height": 198
        }
      },
      "cell_type": "code",
      "source": [
        "# cuidado con ocupar floats...\n",
        "\n",
        "diccionario = {}\n",
        "\n",
        "llave = 1 - 0.9\n",
        "\n",
        "diccionario[llave] = 'datos valiosos'\n",
        "\n",
        "print(diccionario[0.1])"
      ],
      "execution_count": 0,
      "outputs": [
        {
          "output_type": "error",
          "ename": "KeyError",
          "evalue": "ignored",
          "traceback": [
            "\u001b[0;31m---------------------------------------------------------------------------\u001b[0m",
            "\u001b[0;31mKeyError\u001b[0m                                  Traceback (most recent call last)",
            "\u001b[0;32m<ipython-input-5-c78b2578d114>\u001b[0m in \u001b[0;36m<module>\u001b[0;34m()\u001b[0m\n\u001b[1;32m      6\u001b[0m \u001b[0mdiccionario\u001b[0m\u001b[0;34m[\u001b[0m\u001b[0mllave\u001b[0m\u001b[0;34m]\u001b[0m \u001b[0;34m=\u001b[0m \u001b[0;34m'datos valiosos'\u001b[0m\u001b[0;34m\u001b[0m\u001b[0;34m\u001b[0m\u001b[0m\n\u001b[1;32m      7\u001b[0m \u001b[0;34m\u001b[0m\u001b[0m\n\u001b[0;32m----> 8\u001b[0;31m \u001b[0mprint\u001b[0m\u001b[0;34m(\u001b[0m\u001b[0mdiccionario\u001b[0m\u001b[0;34m[\u001b[0m\u001b[0;36m0.1\u001b[0m\u001b[0;34m]\u001b[0m\u001b[0;34m)\u001b[0m\u001b[0;34m\u001b[0m\u001b[0;34m\u001b[0m\u001b[0m\n\u001b[0m",
            "\u001b[0;31mKeyError\u001b[0m: 0.1"
          ]
        }
      ]
    }
  ]
}