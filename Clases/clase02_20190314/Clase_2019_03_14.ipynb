{
  "nbformat": 4,
  "nbformat_minor": 0,
  "metadata": {
    "colab": {
      "name": "Clase 2019-03-14.ipynb",
      "version": "0.3.2",
      "provenance": [],
      "collapsed_sections": []
    },
    "kernelspec": {
      "display_name": "Python 3",
      "language": "python",
      "name": "python3"
    }
  },
  "cells": [
    {
      "metadata": {
        "id": "09w5GvIEINrs",
        "colab_type": "text"
      },
      "cell_type": "markdown",
      "source": [
        "# 2019-03-14 (Jueves)\n",
        "\n",
        "## Hoy:\n",
        "\n",
        "- Listas\n",
        "- Sentencias de control (\"if\", \"for\", \"while\")\n",
        "--- \n",
        "\n",
        "\n"
      ]
    },
    {
      "metadata": {
        "id": "eAtn8Qt_z0uK",
        "colab_type": "text"
      },
      "cell_type": "markdown",
      "source": [
        "## Listas\n",
        "\n",
        "Objetos relativamente simples creados para almacenar información de forma secuencial (0, 1, 2, ... ).\n"
      ]
    },
    {
      "metadata": {
        "id": "lEedmm5Mz1h-",
        "colab_type": "code",
        "colab": {
          "base_uri": "https://localhost:8080/",
          "height": 34
        },
        "outputId": "3f79d738-c6c1-4cef-ed7e-659c1620420b"
      },
      "cell_type": "code",
      "source": [
        "# ejemplos:\n",
        "\n",
        "# creacion\n",
        "\n",
        "lista1 = [0, 1, 2]\n",
        "print(lista1)"
      ],
      "execution_count": 10,
      "outputs": [
        {
          "output_type": "stream",
          "text": [
            "[0, 1, 2]\n"
          ],
          "name": "stdout"
        }
      ]
    },
    {
      "metadata": {
        "id": "9dia_xnI26nJ",
        "colab_type": "code",
        "colab": {
          "base_uri": "https://localhost:8080/",
          "height": 34
        },
        "outputId": "4c51195b-8897-4a8f-e30a-b15ce3e0a770"
      },
      "cell_type": "code",
      "source": [
        "# append\n",
        "lista1.append(3)\n",
        "print(lista1)\n"
      ],
      "execution_count": 11,
      "outputs": [
        {
          "output_type": "stream",
          "text": [
            "[0, 1, 2, 3]\n"
          ],
          "name": "stdout"
        }
      ]
    },
    {
      "metadata": {
        "id": "q3ImLqyk26jC",
        "colab_type": "code",
        "colab": {
          "base_uri": "https://localhost:8080/",
          "height": 34
        },
        "outputId": "c6fb56d6-b9a5-436d-dbef-c97799cb38e8"
      },
      "cell_type": "code",
      "source": [
        "# acceder valores puntuales\n",
        "\n",
        "lista1[3]"
      ],
      "execution_count": 13,
      "outputs": [
        {
          "output_type": "execute_result",
          "data": {
            "text/plain": [
              "3"
            ]
          },
          "metadata": {
            "tags": []
          },
          "execution_count": 13
        }
      ]
    },
    {
      "metadata": {
        "id": "I3Z33pkC26ep",
        "colab_type": "code",
        "colab": {
          "base_uri": "https://localhost:8080/",
          "height": 51
        },
        "outputId": "ba0a683d-9636-4b35-ccc9-100e11911920"
      },
      "cell_type": "code",
      "source": [
        "# concatenar listas\n",
        "\n",
        "lista2 = ['a', 'b', 'c']\n",
        "\n",
        "lista_nueva = lista1 + lista2\n",
        "print(lista_nueva)\n",
        "\n",
        "lista1.extend(lista2)\n",
        "\n",
        "print(lista1)"
      ],
      "execution_count": 17,
      "outputs": [
        {
          "output_type": "stream",
          "text": [
            "[0, 1, 2, 3, 'a', 'b', 'c', 'a', 'b', 'c', 'a', 'b', 'c']\n",
            "None\n"
          ],
          "name": "stdout"
        }
      ]
    },
    {
      "metadata": {
        "id": "NKD3zuyS26aS",
        "colab_type": "code",
        "colab": {
          "base_uri": "https://localhost:8080/",
          "height": 51
        },
        "outputId": "1601d8ef-6e6f-486b-bcde-f839f277ca71"
      },
      "cell_type": "code",
      "source": [
        "# eliminar ultimo\n",
        "\n",
        "print(lista2)\n",
        "lista2.pop(0)\n"
      ],
      "execution_count": 21,
      "outputs": [
        {
          "output_type": "stream",
          "text": [
            "['a', 'b']\n"
          ],
          "name": "stdout"
        },
        {
          "output_type": "execute_result",
          "data": {
            "text/plain": [
              "'a'"
            ]
          },
          "metadata": {
            "tags": []
          },
          "execution_count": 21
        }
      ]
    },
    {
      "metadata": {
        "id": "dkBxSG9B6JMG",
        "colab_type": "code",
        "colab": {
          "base_uri": "https://localhost:8080/",
          "height": 34
        },
        "outputId": "40f02f9d-6771-49ed-8250-b85e6bc60863"
      },
      "cell_type": "code",
      "source": [
        "print(lista2)"
      ],
      "execution_count": 22,
      "outputs": [
        {
          "output_type": "stream",
          "text": [
            "['b']\n"
          ],
          "name": "stdout"
        }
      ]
    },
    {
      "metadata": {
        "id": "TquxtfIi26UR",
        "colab_type": "code",
        "colab": {
          "base_uri": "https://localhost:8080/",
          "height": 54
        },
        "outputId": "dae16e29-3bb5-4821-fe6b-adbdce0e559b"
      },
      "cell_type": "code",
      "source": [
        "# insertar en posicion arbitraria\n",
        "\n",
        "lista1.insert(10, 'hola')\n",
        "print(lista1)"
      ],
      "execution_count": 26,
      "outputs": [
        {
          "output_type": "stream",
          "text": [
            "[0, 1, 2, 3, 'a', 'b', 'hola', 'hola', 'c', 'a', 'hola', 'b', 'c', 'a', 'b', 'c']\n"
          ],
          "name": "stdout"
        }
      ]
    },
    {
      "metadata": {
        "id": "vPMyMafj2502",
        "colab_type": "code",
        "colab": {
          "base_uri": "https://localhost:8080/",
          "height": 34
        },
        "outputId": "566a5e08-ad91-41eb-e1ef-bfbb00dc93ef"
      },
      "cell_type": "code",
      "source": [
        "# acceder a rangos de valores (slicing)\n",
        "lista1[3:9:2]\n"
      ],
      "execution_count": 30,
      "outputs": [
        {
          "output_type": "execute_result",
          "data": {
            "text/plain": [
              "[3, 'b', 'hola']"
            ]
          },
          "metadata": {
            "tags": []
          },
          "execution_count": 30
        }
      ]
    },
    {
      "metadata": {
        "id": "zfvu2dgZJSS7",
        "colab_type": "text"
      },
      "cell_type": "markdown",
      "source": [
        "\n",
        "¿por qué parten en 0? La posición de cada elemento representa la distancia al primer elemento (por eso el primer elemento está en la posición \"0\")\n",
        "\n",
        "Las listas son muy eficientes en estas situaciones:\n",
        "\n",
        "- Ingresar nuevos registros (*.append(elem)*)\n",
        "- Acceder al registro de una posición puntual (usando el índice 0, 1, 2, etc)\n",
        "- Eliminar el último valor de la lista, de forma muy rápida (*.pop()*)\n",
        "- Concatenar listas (*.extend(list2)*)\n",
        "\n",
        "\n",
        "No son muy eficientes en estas situaciones:\n",
        "- Ingresar registros en alguna posición arbitraria (*.insert(index, elem)*)\n",
        "- Eliminar el registro de alguna posición arbitraria (*.pop(index)*)\n",
        "- Buscar los mínimos o máximos dentro de una lista de registros (*.min() ; .max()*)\n",
        "- Ordenar (o mantener ordenados) los registros (*.sort()*)\n",
        "\n",
        "\n",
        "En general, ocupamos las listas para guardar otros objetos (por ej, números o textos), de un mismo tipo, pero en Python podemos mezclar objetos de distintos tipos en una misma lista."
      ]
    },
    {
      "metadata": {
        "id": "HsjgsqEaMVOJ",
        "colab_type": "code",
        "outputId": "936e2d6f-4797-45ee-a181-8fc77b8c3187",
        "colab": {
          "base_uri": "https://localhost:8080/",
          "height": 106
        }
      },
      "cell_type": "code",
      "source": [
        "# ejemplos\n",
        "\n",
        "N = 1000\n",
        "lista1 = list(range(N))\n",
        "lista2 = list(range(N))\n",
        "lista3 = list(range(N))\n",
        "\n",
        "a = %timeit -o lista1.append(100); lista1[-1] = 10\n",
        "\n",
        "b = %timeit -o lista2.insert(N // 2, 100); lista2[-1] = 10  #inserto en la mitad\n",
        "\n",
        "c = %timeit -o lista3.insert(N, 100); lista3[-1] = 10 #inserto casi al final"
      ],
      "execution_count": 31,
      "outputs": [
        {
          "output_type": "stream",
          "text": [
            "The slowest run took 6.00 times longer than the fastest. This could mean that an intermediate result is being cached.\n",
            "10000000 loops, best of 3: 178 ns per loop\n",
            "100000 loops, best of 3: 126 µs per loop\n",
            "100000 loops, best of 3: 125 µs per loop\n"
          ],
          "name": "stdout"
        }
      ]
    },
    {
      "metadata": {
        "id": "Dma0vZlsczap",
        "colab_type": "code",
        "outputId": "36238f99-dda1-4993-878c-ca22f5820c99",
        "colab": {
          "base_uri": "https://localhost:8080/",
          "height": 121
        }
      },
      "cell_type": "code",
      "source": [
        "print('tiempos append:', a.best, a.worst)\n",
        "print('tiempos insertar en la mitad:', b.best, b.worst)\n",
        "print('tiempos insertar casi al final:', c.best, c.worst)\n",
        "\n",
        "print()\n",
        "\n",
        "print('insertar en la mitad es', int(b.best / a.worst), 'veces mas lento que append')\n",
        "print('insertar casi al final es', int(c.best / a.worst), 'veces mas lento que append')"
      ],
      "execution_count": 32,
      "outputs": [
        {
          "output_type": "stream",
          "text": [
            "tiempos append: 1.7753261299999394e-07 1.0660000953066628e-06\n",
            "tiempos insertar en la mitad: 0.0001258461420499998 0.00028055000114999987\n",
            "tiempos insertar casi al final: 0.00012510196132000146 0.0002807524968200005\n",
            "\n",
            "insertar en la mitad es 118 veces mas lento que append\n",
            "insertar casi al final es 117 veces mas lento que append\n"
          ],
          "name": "stdout"
        }
      ]
    },
    {
      "metadata": {
        "id": "_uUmM_aiJN_D",
        "colab_type": "text"
      },
      "cell_type": "markdown",
      "source": [
        "## Sentencias de control: if, for, while\n",
        "\n",
        "Las sentencias de control permiten al programador controlar cómo y qué lineas de códigos se ejecutarán, de acuerdo a las condiciones que se vayan dando en el programa.\n",
        "\n",
        "Existen dos grandes tipos de sentencias de control:\n",
        "- Sentencias condicionales (if): permiten ejecutar código de manera condicional (si algo ocurre, se ejecuta cierto código; si ocurre otra cosa, se ejecuta otro código)\n",
        "- Sentencias iterativas (for, while): permiten ejecutar códigos de manera repetitiva, un número determinado (o indeterminado) de veces.\n",
        "\n",
        "Existen otras sentencias de control que permiten realizar acciones cuando no existe certeza de que ciertas piezas de código se ejecutarán o fallarán (retornarán algún tipo de error). Veremos esto más adelante."
      ]
    },
    {
      "metadata": {
        "id": "rXdcJlImx7_J",
        "colab_type": "text"
      },
      "cell_type": "markdown",
      "source": [
        "### If, elif, else\n",
        "\n",
        "Aqui se empieza a poner un poco más entretenida la programación, ya que podemos instruir al computador que evalue ciertos escenarios y realice operaciones de manera condicional:\n"
      ]
    },
    {
      "metadata": {
        "id": "2xFP4G_jx7_K",
        "colab_type": "code",
        "colab": {
          "base_uri": "https://localhost:8080/",
          "height": 34
        },
        "outputId": "2d34d6f3-c99c-4d0b-e7b8-475503b762a0"
      },
      "cell_type": "code",
      "source": [
        "numero = 2\n",
        "\n",
        "if numero > 10: \n",
        "    print('numero es mayor que 10')\n",
        "elif numero < 4:\n",
        "    print('numero es menor que 4')\n",
        "elif numero < 3:\n",
        "    print('numero es menor que 3')\n",
        "else: \n",
        "    print('numero es menor que 10')"
      ],
      "execution_count": 38,
      "outputs": [
        {
          "output_type": "stream",
          "text": [
            "numero es menor que 4\n"
          ],
          "name": "stdout"
        }
      ]
    },
    {
      "metadata": {
        "id": "7kOnYRNFx7_M",
        "colab_type": "code",
        "colab": {}
      },
      "cell_type": "code",
      "source": [
        "coeficiente = 4\n",
        "\n",
        "if coeficiente >= 2:\n",
        "    print('coeficiente es significativo e igual a {}'.format(coeficiente))"
      ],
      "execution_count": 0,
      "outputs": []
    },
    {
      "metadata": {
        "id": "IMCDnq53x7_Q",
        "colab_type": "text"
      },
      "cell_type": "markdown",
      "source": [
        "*if/elif* funciona de forma secuencial, ejecutando el codigo de la primera condicion verdadera:"
      ]
    },
    {
      "metadata": {
        "id": "56zMV1Csx7_R",
        "colab_type": "code",
        "colab": {}
      },
      "cell_type": "code",
      "source": [
        "coeficiente = 8\n",
        "\n",
        "if coeficiente >= 2:\n",
        "    print('coeficiente es significativo e igual a {}'.format(coeficiente))\n",
        "elif coeficiente >= 3:\n",
        "    print('coeficiente es muy significativo e igual a {}'.format(coeficiente))"
      ],
      "execution_count": 0,
      "outputs": []
    },
    {
      "metadata": {
        "id": "ifcybL5tx7_T",
        "colab_type": "text"
      },
      "cell_type": "markdown",
      "source": [
        "Es importante ser lo más comprensivo posible con la evaluación de condiciones... una mala gestión de dichas condiciones puede llevar a errores"
      ]
    },
    {
      "metadata": {
        "id": "hLqh6HmPx7_T",
        "colab_type": "code",
        "colab": {}
      },
      "cell_type": "code",
      "source": [
        "t_stat = 2\n",
        "\n",
        "if t_stat > 2: \n",
        "    print('significativo')\n",
        "elif t_stat < 2: \n",
        "    print('no significativo')"
      ],
      "execution_count": 0,
      "outputs": []
    },
    {
      "metadata": {
        "id": "W1u2OdNPCKIX",
        "colab_type": "code",
        "colab": {}
      },
      "cell_type": "code",
      "source": [
        "# condiciones sobre conjuntos\n",
        "numero = 10\n",
        "\n",
        "if numero in [4, 5, 6, 7, 3]:\n",
        "  print('si esta')"
      ],
      "execution_count": 0,
      "outputs": []
    },
    {
      "metadata": {
        "id": "tuflGrKAC-Zc",
        "colab_type": "code",
        "colab": {
          "base_uri": "https://localhost:8080/",
          "height": 34
        },
        "outputId": "b40a40a1-5738-46a5-d258-8c4b61eeea67"
      },
      "cell_type": "code",
      "source": [
        "numero = 6\n",
        "\n",
        "lista = [4, 5, 6, 7, 3, 6]\n",
        "\n",
        "lista.index(numero)\n"
      ],
      "execution_count": 47,
      "outputs": [
        {
          "output_type": "execute_result",
          "data": {
            "text/plain": [
              "6"
            ]
          },
          "metadata": {
            "tags": []
          },
          "execution_count": 47
        }
      ]
    },
    {
      "metadata": {
        "id": "YzcuWkAuINrv",
        "colab_type": "text"
      },
      "cell_type": "markdown",
      "source": [
        "### Ejercicio 1. Escriba un programa que determine si un número es par o impar\n",
        "\n"
      ]
    },
    {
      "metadata": {
        "id": "Je3Fz3-8kpiQ",
        "colab_type": "code",
        "colab": {
          "base_uri": "https://localhost:8080/",
          "height": 34
        },
        "outputId": "fb60aa1b-8ca8-497e-f5de-ac4c1ea98bea"
      },
      "cell_type": "code",
      "source": [
        "# ingrese codigo aqui\n",
        "\n",
        "numero = 9\n",
        "\n",
        "if numero % 2 == 0:\n",
        "  print('es par')\n",
        "else:\n",
        "  print('es impar')"
      ],
      "execution_count": 52,
      "outputs": [
        {
          "output_type": "stream",
          "text": [
            "es impar\n"
          ],
          "name": "stdout"
        }
      ]
    },
    {
      "metadata": {
        "id": "szlkow2_INrx",
        "colab_type": "text"
      },
      "cell_type": "markdown",
      "source": [
        "---\n",
        "\n",
        "### Procesos iterativos: for\n",
        "\n",
        "La instrucción *for* nos permite indicarle al computador que queremos ejecutar multiples veces una cierta sección de nuestro código. La sintaxis más simple sería algo asi:"
      ]
    },
    {
      "metadata": {
        "id": "Bg_dG665INry",
        "colab_type": "code",
        "outputId": "9ac74854-7b06-4c58-8d41-6e3bc5543025",
        "colab": {}
      },
      "cell_type": "code",
      "source": [
        "lista_numeros = [1, 2, 3]\n",
        "\n",
        "for numero in lista_numeros:\n",
        "    print('el numero es', numero)"
      ],
      "execution_count": 0,
      "outputs": [
        {
          "output_type": "stream",
          "text": [
            "el numero es 1\n",
            "el numero es 2\n",
            "el numero es 3\n"
          ],
          "name": "stdout"
        }
      ]
    },
    {
      "metadata": {
        "id": "13TvSEuXINr9",
        "colab_type": "text"
      },
      "cell_type": "markdown",
      "source": [
        "Otro uso común de la instrucción \"for\" es para iterar sobre un rango de valores:"
      ]
    },
    {
      "metadata": {
        "id": "CVqW00HnINr-",
        "colab_type": "code",
        "outputId": "5c0e864c-f1ac-4fea-961c-f7e60e8c8372",
        "colab": {}
      },
      "cell_type": "code",
      "source": [
        "for i in range(5):\n",
        "    print(i)"
      ],
      "execution_count": 0,
      "outputs": [
        {
          "output_type": "stream",
          "text": [
            "0\n",
            "1\n",
            "2\n",
            "3\n",
            "4\n"
          ],
          "name": "stdout"
        }
      ]
    },
    {
      "metadata": {
        "id": "-jeT4zIeINsB",
        "colab_type": "text"
      },
      "cell_type": "markdown",
      "source": [
        "La función range() es una función de Python que nos permite crear rangos de números con distintos criterios *(start, stop, step)*."
      ]
    },
    {
      "metadata": {
        "id": "U9gSbmsrINsF",
        "colab_type": "code",
        "outputId": "29082669-f213-4d1e-9629-b907999ff6fc",
        "colab": {}
      },
      "cell_type": "code",
      "source": [
        "for i in range(3, 10, 2):\n",
        "    print(i)"
      ],
      "execution_count": 0,
      "outputs": [
        {
          "output_type": "stream",
          "text": [
            "3\n",
            "5\n",
            "7\n",
            "9\n"
          ],
          "name": "stdout"
        }
      ]
    },
    {
      "metadata": {
        "id": "Gr__VT6NINsJ",
        "colab_type": "text"
      },
      "cell_type": "markdown",
      "source": [
        "Notar que los rangos en Python comienzan en 0. Esta es una particularidad de Python (distinto de R, por ejemplo), donde el índice de comienzo es generalmente la posición \"0\"."
      ]
    },
    {
      "metadata": {
        "id": "unE5V6xkINsK",
        "colab_type": "text"
      },
      "cell_type": "markdown",
      "source": [
        "La clase pasada vimos otro uso de la instrucción *for*, cuando leimos las lineas de un archivo de texto."
      ]
    },
    {
      "metadata": {
        "id": "vztjXVgDINsK",
        "colab_type": "text"
      },
      "cell_type": "markdown",
      "source": [
        "Otra característica interesante de Python es que nos permite asignar múltiples valores en una sola instrucción. Por ejemplo:"
      ]
    },
    {
      "metadata": {
        "id": "bBQ3LUx_INsL",
        "colab_type": "code",
        "outputId": "7f6d0b55-de18-4d82-a9c2-52d0093a8b9c",
        "colab": {}
      },
      "cell_type": "code",
      "source": [
        "n, m, p = 1, 2, 3\n",
        "\n",
        "print(m)"
      ],
      "execution_count": 0,
      "outputs": [
        {
          "output_type": "stream",
          "text": [
            "2\n"
          ],
          "name": "stdout"
        }
      ]
    },
    {
      "metadata": {
        "id": "H_klL7LQINsO",
        "colab_type": "text"
      },
      "cell_type": "markdown",
      "source": [
        "¿Por qué esto es relevante? Este tipo de sintaxis se utiliza mucho en instrucciones \"for\", para \"unpack\" (desempacar?) valores contenidos en algun objeto de datos:"
      ]
    },
    {
      "metadata": {
        "id": "KhhoLbkZINsO",
        "colab_type": "code",
        "outputId": "eb523e37-6e6e-4ee0-8bdf-b63ee7722b53",
        "colab": {}
      },
      "cell_type": "code",
      "source": [
        "data = [(2010, 10), (2011, 7), (2012, 40), (2013, 48)]\n",
        "\n",
        "for anio, valor in data:\n",
        "    print(anio, valor)"
      ],
      "execution_count": 0,
      "outputs": [
        {
          "output_type": "stream",
          "text": [
            "2010 10\n",
            "2011 7\n",
            "2012 40\n",
            "2013 48\n"
          ],
          "name": "stdout"
        }
      ]
    },
    {
      "metadata": {
        "id": "UgFqPA1YINsS",
        "colab_type": "text"
      },
      "cell_type": "markdown",
      "source": [
        "¿qué pasa si tratamos de unpack valores que no calzan con el número de elementos que estamos haciendo mención?"
      ]
    },
    {
      "metadata": {
        "id": "u2nHbpFWINsS",
        "colab_type": "code",
        "outputId": "109dc278-44a9-4221-807c-6c40c010e67c",
        "colab": {}
      },
      "cell_type": "code",
      "source": [
        "for anio, valor1, valor2 in data:\n",
        "    print(anio, valor1, valor2)"
      ],
      "execution_count": 0,
      "outputs": [
        {
          "output_type": "error",
          "ename": "ValueError",
          "evalue": "not enough values to unpack (expected 3, got 2)",
          "traceback": [
            "\u001b[1;31m---------------------------------------------------------------------------\u001b[0m",
            "\u001b[1;31mValueError\u001b[0m                                Traceback (most recent call last)",
            "\u001b[1;32m<ipython-input-19-13f629ad8d8a>\u001b[0m in \u001b[0;36m<module>\u001b[1;34m()\u001b[0m\n\u001b[1;32m----> 1\u001b[1;33m \u001b[1;32mfor\u001b[0m \u001b[0manio\u001b[0m\u001b[1;33m,\u001b[0m \u001b[0mvalor1\u001b[0m\u001b[1;33m,\u001b[0m \u001b[0mvalor2\u001b[0m \u001b[1;32min\u001b[0m \u001b[0mdata\u001b[0m\u001b[1;33m:\u001b[0m\u001b[1;33m\u001b[0m\u001b[0m\n\u001b[0m\u001b[0;32m      2\u001b[0m     \u001b[0mprint\u001b[0m\u001b[1;33m(\u001b[0m\u001b[0manio\u001b[0m\u001b[1;33m,\u001b[0m \u001b[0mvalor1\u001b[0m\u001b[1;33m,\u001b[0m \u001b[0mvalor2\u001b[0m\u001b[1;33m)\u001b[0m\u001b[1;33m\u001b[0m\u001b[0m\n",
            "\u001b[1;31mValueError\u001b[0m: not enough values to unpack (expected 3, got 2)"
          ]
        }
      ]
    },
    {
      "metadata": {
        "id": "h5NIGjHSINsW",
        "colab_type": "text"
      },
      "cell_type": "markdown",
      "source": [
        "### Instrucciones adicionales para instrucciones iterativas: break y continue\n",
        "\n",
        "*break*: permite terminar una iteración  \n",
        "*continue*: permite continuar con la siguiente iteracion, sin ejecutar el resto del código dentro del loop"
      ]
    },
    {
      "metadata": {
        "id": "c1lumVn4INsW",
        "colab_type": "code",
        "outputId": "44b9460c-c210-46c3-acd1-312f7317f934",
        "colab": {}
      },
      "cell_type": "code",
      "source": [
        "for num in range(1, 20):\n",
        "    print(num % 10)\n",
        "    \n",
        "    #me salto todos los impares\n",
        "    if num % 2:\n",
        "        continue\n",
        "    \n",
        "    #si aparece un numero divisible por 10, termino de iterar\n",
        "    if not num % 10:\n",
        "        break\n",
        "        \n",
        "    print(num)"
      ],
      "execution_count": 0,
      "outputs": [
        {
          "output_type": "stream",
          "text": [
            "1\n",
            "2\n",
            "2\n",
            "3\n",
            "4\n",
            "4\n",
            "5\n",
            "6\n",
            "6\n",
            "7\n",
            "8\n",
            "8\n",
            "9\n",
            "0\n"
          ],
          "name": "stdout"
        }
      ]
    },
    {
      "metadata": {
        "id": "JWvX2YTNINsZ",
        "colab_type": "text"
      },
      "cell_type": "markdown",
      "source": [
        "### Procesos iterativos: while\n",
        "\n",
        "*while* es una instrucción similar a *for*, con la diferencia de que ejecuta el código hasta que cierta condicion (o condiciones) se cumplan. La sintaxis más simple sería:"
      ]
    },
    {
      "metadata": {
        "id": "87p8XnyCINsZ",
        "colab_type": "code",
        "outputId": "dcd194ec-bb14-4216-fec6-1f6f75bbaf6f",
        "colab": {}
      },
      "cell_type": "code",
      "source": [
        "max_num = 10\n",
        "\n",
        "iter_num = 0\n",
        "while iter_num < max_num:\n",
        "    print('esta es la iteración', iter_num)\n",
        "    iter_num += 1"
      ],
      "execution_count": 0,
      "outputs": [
        {
          "output_type": "stream",
          "text": [
            "esta es la iteración 0\n",
            "esta es la iteración 1\n",
            "esta es la iteración 2\n",
            "esta es la iteración 3\n",
            "esta es la iteración 4\n",
            "esta es la iteración 5\n",
            "esta es la iteración 6\n",
            "esta es la iteración 7\n",
            "esta es la iteración 8\n",
            "esta es la iteración 9\n"
          ],
          "name": "stdout"
        }
      ]
    },
    {
      "metadata": {
        "id": "jDmipKs9INsc",
        "colab_type": "text"
      },
      "cell_type": "markdown",
      "source": [
        "De cierta forma, *while* o *for* son redudantes, en el sentido de que podemos realizar casi las mismas operaciones con uno o con el otro (combinado con instrucciones *break* o *continue*). Sin embargo, la mayoría de los lenguajes de programación consideran ambas instrucciones, ya que en ciertas situaciones se entiende mejor el código si se utiliza uno versus el otro. Además, puede llevar a código más elegante."
      ]
    },
    {
      "metadata": {
        "scrolled": true,
        "id": "v88Pd2GLINsc",
        "colab_type": "code",
        "outputId": "42014097-5e41-406c-f159-150edb180a59",
        "colab": {}
      },
      "cell_type": "code",
      "source": [
        "#aqui seria mejor ocupar *while*\n",
        "for i in range(100000000000000000):\n",
        "    X = 10 / (i + 1) \n",
        "    print(X)\n",
        "    if X < 0.5:\n",
        "        break"
      ],
      "execution_count": 0,
      "outputs": [
        {
          "output_type": "stream",
          "text": [
            "10.0\n",
            "5.0\n",
            "3.3333333333333335\n",
            "2.5\n",
            "2.0\n",
            "1.6666666666666667\n",
            "1.4285714285714286\n",
            "1.25\n",
            "1.1111111111111112\n",
            "1.0\n",
            "0.9090909090909091\n",
            "0.8333333333333334\n",
            "0.7692307692307693\n",
            "0.7142857142857143\n",
            "0.6666666666666666\n",
            "0.625\n",
            "0.5882352941176471\n",
            "0.5555555555555556\n",
            "0.5263157894736842\n",
            "0.5\n",
            "0.47619047619047616\n"
          ],
          "name": "stdout"
        }
      ]
    },
    {
      "metadata": {
        "id": "siAXXvzrINsf",
        "colab_type": "code",
        "outputId": "270c3b49-e260-4a87-8b5d-fc57dd08eb06",
        "colab": {}
      },
      "cell_type": "code",
      "source": [
        "N = 1\n",
        "X = 10 / N\n",
        "while X >= 0.5:\n",
        "    print(X)\n",
        "    N += 1\n",
        "    X = 10 / N "
      ],
      "execution_count": 0,
      "outputs": [
        {
          "output_type": "stream",
          "text": [
            "10.0\n",
            "5.0\n",
            "3.3333333333333335\n",
            "2.5\n",
            "2.0\n",
            "1.6666666666666667\n",
            "1.4285714285714286\n",
            "1.25\n",
            "1.1111111111111112\n",
            "1.0\n",
            "0.9090909090909091\n",
            "0.8333333333333334\n",
            "0.7692307692307693\n",
            "0.7142857142857143\n",
            "0.6666666666666666\n",
            "0.625\n",
            "0.5882352941176471\n",
            "0.5555555555555556\n",
            "0.5263157894736842\n",
            "0.5\n"
          ],
          "name": "stdout"
        }
      ]
    },
    {
      "metadata": {
        "id": "avhQKQh-INsj",
        "colab_type": "text"
      },
      "cell_type": "markdown",
      "source": [
        "Otra sintaxis típica usando \"while\":"
      ]
    },
    {
      "metadata": {
        "id": "091B1PleINsk",
        "colab_type": "code",
        "colab": {}
      },
      "cell_type": "code",
      "source": [
        "while True:\n",
        "    #corre codigo para siempre\n",
        "    \n",
        "    if cond1:\n",
        "        break\n",
        "    \n",
        "    if cond2:\n",
        "        break\n",
        "        \n",
        "    if not cond3:\n",
        "        break\n",
        "        "
      ],
      "execution_count": 0,
      "outputs": []
    },
    {
      "metadata": {
        "id": "IZfLQdKeINsq",
        "colab_type": "text"
      },
      "cell_type": "markdown",
      "source": [
        "### Detour: Sintaxis \"pythonica\"\n",
        "\n",
        "En muchos documentos sobre Python encontrarán referencias al concepto \"pythonic\", que se refiere a un estilo particular de escribir códigos en Python.\n",
        "\n",
        "En general, el estilo \"pythonico\" se asocia a un estilo \"simplificador\" y \"elegante\" de escribir códigos.\n",
        "\n",
        "[Guia de estilo resumida](http://www.cs.bu.edu/courses/cs108/guides/style.html)  \n",
        "[Guia de estilo larga](https://www.python.org/dev/peps/pep-0008/)\n",
        "\n",
        "Veamos un ejemplo con \"if\":\n"
      ]
    },
    {
      "metadata": {
        "id": "vb1D9ijzINsr",
        "colab_type": "code",
        "outputId": "beab5400-0085-4670-f1ef-4737f568445e",
        "colab": {}
      },
      "cell_type": "code",
      "source": [
        "numero = 10\n",
        "\n",
        "es_impar = numero % 2\n",
        "\n",
        "print(es_impar)\n",
        "\n",
        "if es_impar == 1:\n",
        "    print('{} es impar'.format(numero))\n",
        "else:\n",
        "    print('{} es par'.format(numero))"
      ],
      "execution_count": 0,
      "outputs": [
        {
          "output_type": "stream",
          "text": [
            "0\n",
            "10 es par\n"
          ],
          "name": "stdout"
        }
      ]
    },
    {
      "metadata": {
        "id": "dJw6Ok7mINst",
        "colab_type": "text"
      },
      "cell_type": "markdown",
      "source": [
        "Si bien lo anterior no está mal, se dice que no es \"pythonico\". La forma \"pythonica\" de escribir este codigo sería:"
      ]
    },
    {
      "metadata": {
        "id": "lVsUKMk6INsu",
        "colab_type": "code",
        "outputId": "e6d938f6-4846-4946-ac44-fdb088370410",
        "colab": {}
      },
      "cell_type": "code",
      "source": [
        "numero = 10\n",
        "es_impar = numero % 2\n",
        "\n",
        "if es_impar:\n",
        "    print('{} es impar'.format(numero))\n",
        "else:\n",
        "    print('{} es par'.format(numero))    "
      ],
      "execution_count": 0,
      "outputs": [
        {
          "output_type": "stream",
          "text": [
            "10 es par\n"
          ],
          "name": "stdout"
        }
      ]
    },
    {
      "metadata": {
        "id": "e_5T73mXINsw",
        "colab_type": "text"
      },
      "cell_type": "markdown",
      "source": [
        "Ojo que, en general, se considera *True* al valor 1, y *False* al valor 0, aunque esto no es cierto en todos los lenguajes de programación.\n",
        "\n",
        "Python va más allá, y considera cualquier valor no vacío, no nulo o distinto de 0 como \"verdadero\""
      ]
    },
    {
      "metadata": {
        "id": "FUFxOWGoINsx",
        "colab_type": "code",
        "outputId": "f74f0f57-a01f-46aa-92a4-dbb941103ef7",
        "colab": {}
      },
      "cell_type": "code",
      "source": [
        "num = 8\n",
        "\n",
        "if num:\n",
        "    print(num, 'es verdadero')\n",
        "    \n",
        "    \n",
        "num = -10\n",
        "\n",
        "if num:\n",
        "    print(num, 'es verdadero')\n",
        "    \n",
        "num = 'string'\n",
        "\n",
        "if num:\n",
        "    print(num, 'es verdadero')\n",
        "    \n"
      ],
      "execution_count": 0,
      "outputs": [
        {
          "output_type": "stream",
          "text": [
            "8 es verdadero\n",
            "-10 es verdadero\n",
            "string es verdadero\n"
          ],
          "name": "stdout"
        }
      ]
    }
  ]
}