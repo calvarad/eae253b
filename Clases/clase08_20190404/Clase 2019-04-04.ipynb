{
 "cells": [
  {
   "cell_type": "markdown",
   "metadata": {},
   "source": [
    "# 2019-04-04 (Jueves)\n",
    "\n",
    "### Anuncios\n",
    "- Lab3 se entrega el sabado 2pm. \n",
    "\n",
    "### Hoy:\n",
    "- Soluciones labs 1 y 2\n",
    "- Programación orientada a objetos\n"
   ]
  },
  {
   "cell_type": "markdown",
   "metadata": {},
   "source": [
    "### Programación orientada a objetos\n",
    "\n",
    "Creemos un objeto...\n"
   ]
  },
  {
   "cell_type": "code",
   "execution_count": 83,
   "metadata": {
    "collapsed": false
   },
   "outputs": [],
   "source": [
    "class Mesa():\n",
    "    def __init__(self, l, an, al, npatas):\n",
    "        self.largo = l\n",
    "        self.ancho = an\n",
    "        self.alto = al\n",
    "        self.material = 'madera' \n",
    "        self.num_patas = npatas\n",
    "    \n",
    "    def cortar_pata(self, n_cortar=1):\n",
    "        self.num_patas = self.num_patas - n_cortar\n",
    "    \n",
    "    def __repr__(self):    \n",
    "        texto = 'mesa con {} patas'.format(self.num_patas)\n",
    "        \n",
    "        return texto\n",
    "    "
   ]
  },
  {
   "cell_type": "code",
   "execution_count": 84,
   "metadata": {
    "collapsed": false
   },
   "outputs": [],
   "source": [
    "m = Mesa(3, 1, 1, 4)"
   ]
  },
  {
   "cell_type": "code",
   "execution_count": 85,
   "metadata": {
    "collapsed": false
   },
   "outputs": [
    {
     "data": {
      "text/plain": [
       "mesa con 4 patas"
      ]
     },
     "execution_count": 85,
     "metadata": {},
     "output_type": "execute_result"
    }
   ],
   "source": [
    "m"
   ]
  },
  {
   "cell_type": "code",
   "execution_count": 88,
   "metadata": {
    "collapsed": true
   },
   "outputs": [],
   "source": [
    "m.cortar_pata(2)"
   ]
  },
  {
   "cell_type": "code",
   "execution_count": 89,
   "metadata": {
    "collapsed": false
   },
   "outputs": [
    {
     "data": {
      "text/plain": [
       "mesa con 1 patas"
      ]
     },
     "execution_count": 89,
     "metadata": {},
     "output_type": "execute_result"
    }
   ],
   "source": [
    "m"
   ]
  },
  {
   "cell_type": "code",
   "execution_count": null,
   "metadata": {
    "collapsed": true
   },
   "outputs": [],
   "source": []
  },
  {
   "cell_type": "markdown",
   "metadata": {},
   "source": [
    "### Ejercicio\n",
    "\n",
    "¿cómo podemos modelar un libro de órdenes de una bolsa de valores?"
   ]
  },
  {
   "cell_type": "code",
   "execution_count": 101,
   "metadata": {
    "collapsed": true
   },
   "outputs": [],
   "source": [
    "class Libro():\n",
    "    def __init__(self):\n",
    "        self.compras = []\n",
    "        self.ventas = []\n",
    "    \n",
    "    def ingresar_orden(self, tipo_orden, id_accion, precio, cantidad):\n",
    "        if tipo_orden == 'compra':\n",
    "            self.compras.append((id_accion, precio, cantidad))\n",
    "        elif tipo_orden == 'vende':\n",
    "            self.ventas.append((id_accion, precio, cantidad))\n",
    "        \n",
    "    def __repr__(self):\n",
    "        return 'compras: {} \\n ventas: {}'.format(self.compras, self.ventas)"
   ]
  },
  {
   "cell_type": "code",
   "execution_count": 102,
   "metadata": {
    "collapsed": true
   },
   "outputs": [],
   "source": [
    "l = Libro()"
   ]
  },
  {
   "cell_type": "code",
   "execution_count": 103,
   "metadata": {
    "collapsed": false
   },
   "outputs": [
    {
     "data": {
      "text/plain": [
       "compras: [] \n",
       " ventas: []"
      ]
     },
     "execution_count": 103,
     "metadata": {},
     "output_type": "execute_result"
    }
   ],
   "source": [
    "l"
   ]
  },
  {
   "cell_type": "code",
   "execution_count": 104,
   "metadata": {
    "collapsed": false
   },
   "outputs": [],
   "source": [
    "l.ingresar_orden('compra', 'IBM', 100, 500)"
   ]
  },
  {
   "cell_type": "code",
   "execution_count": 105,
   "metadata": {
    "collapsed": false
   },
   "outputs": [
    {
     "data": {
      "text/plain": [
       "compras: [('IBM', 100, 500)] \n",
       " ventas: []"
      ]
     },
     "execution_count": 105,
     "metadata": {},
     "output_type": "execute_result"
    }
   ],
   "source": [
    "l"
   ]
  },
  {
   "cell_type": "code",
   "execution_count": 108,
   "metadata": {
    "collapsed": true
   },
   "outputs": [],
   "source": [
    "l.ingresar_orden('vende', 'IBM', 250, 1500)"
   ]
  },
  {
   "cell_type": "code",
   "execution_count": 109,
   "metadata": {
    "collapsed": false
   },
   "outputs": [
    {
     "data": {
      "text/plain": [
       "compras: [('IBM', 100, 500)] \n",
       " ventas: [('IBM', 150, 1500), ('IBM', 250, 1500)]"
      ]
     },
     "execution_count": 109,
     "metadata": {},
     "output_type": "execute_result"
    }
   ],
   "source": [
    "l"
   ]
  },
  {
   "cell_type": "code",
   "execution_count": null,
   "metadata": {
    "collapsed": true
   },
   "outputs": [],
   "source": []
  },
  {
   "cell_type": "code",
   "execution_count": null,
   "metadata": {
    "collapsed": true
   },
   "outputs": [],
   "source": []
  },
  {
   "cell_type": "code",
   "execution_count": null,
   "metadata": {
    "collapsed": true
   },
   "outputs": [],
   "source": [
    "#backup mesa"
   ]
  },
  {
   "cell_type": "code",
   "execution_count": null,
   "metadata": {
    "collapsed": true
   },
   "outputs": [],
   "source": [
    "    def __init__(self, npatas):\n",
    "        self.patas = npatas\n",
    "    \n",
    "    def remove_leg(self):\n",
    "        self.patas = self.patas - 1\n",
    "        \n",
    "    def __repr__(self):\n",
    "        texto = 'Mesa con {} patas'.format(self.patas)\n",
    "        return texto"
   ]
  },
  {
   "cell_type": "code",
   "execution_count": null,
   "metadata": {
    "collapsed": true
   },
   "outputs": [],
   "source": [
    "#backup libro"
   ]
  },
  {
   "cell_type": "code",
   "execution_count": null,
   "metadata": {
    "collapsed": true
   },
   "outputs": [],
   "source": [
    "    def __init__(self):\n",
    "        self.compras = []\n",
    "        self.ventas = []\n",
    "    \n",
    "    def add_order(self, tipo_orden, ticker, precio, cantidad):\n",
    "        if tipo_orden == 'comprar':\n",
    "            self.compras.append((ticker, precio, cantidad))\n",
    "        elif tipo_orden == 'vender':\n",
    "            self.ventas.append((ticker, precio, cantidad))\n",
    "        else:\n",
    "            print('operacion no soportada')\n",
    "    \n",
    "    def __repr__(self):\n",
    "        texto = 'compras : {} \\n ventas : {}'.format(self.compras, self.ventas)\n",
    "        return texto\n",
    "    "
   ]
  }
 ],
 "metadata": {
  "anaconda-cloud": {},
  "kernelspec": {
   "display_name": "Python [conda env:Anaconda3]",
   "language": "python",
   "name": "conda-env-Anaconda3-py"
  },
  "language_info": {
   "codemirror_mode": {
    "name": "ipython",
    "version": 3
   },
   "file_extension": ".py",
   "mimetype": "text/x-python",
   "name": "python",
   "nbconvert_exporter": "python",
   "pygments_lexer": "ipython3",
   "version": "3.5.5"
  }
 },
 "nbformat": 4,
 "nbformat_minor": 2
}
