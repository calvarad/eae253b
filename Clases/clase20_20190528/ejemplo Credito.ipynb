{
 "cells": [
  {
   "cell_type": "code",
   "execution_count": null,
   "metadata": {},
   "outputs": [],
   "source": [
    "def bisiesto(year):\n",
    "    if year % 4 ==0 and year % 100 != 0 or year % 400 == 0:\n",
    "        return True\n",
    "    else:\n",
    "        return False\n",
    "        "
   ]
  },
  {
   "cell_type": "code",
   "execution_count": 131,
   "metadata": {},
   "outputs": [
    {
     "name": "stdout",
     "output_type": "stream",
     "text": [
      "Credito por 1500, a tasa 0.03, en 24 cuotas\n",
      "--> cuota: 88.57112392345476\n",
      "\n"
     ]
    }
   ],
   "source": [
    "class Credito():\n",
    "    def __init__(self, monto_credito, tasa_mes, meses):\n",
    "        self.monto_inicial_credito = monto_credito\n",
    "        self.tasa_mes = tasa_mes\n",
    "        self.meses = meses\n",
    "        self.deuda_actual = monto_credito\n",
    "        self.tasa_anual = self.anualiza_tasa()\n",
    "        self.cuota_mes = self.calcula_cuota()\n",
    "        self.monto_total_credito = meses * self.cuota_mes\n",
    "        \n",
    "    def anualiza_tasa(self):\n",
    "        ta = (1+self.tasa_mes) ** (12) - 1\n",
    "        return ta\n",
    "    \n",
    "    def calcula_cuota(self):        \n",
    "        monto = self.monto_inicial_credito\n",
    "        tasa = self.tasa_mes\n",
    "        meses = self.meses\n",
    "        \n",
    "        cuota = (monto * tasa) / (1 - 1/(1+tasa)**meses)\n",
    "        return cuota\n",
    "        \n",
    "    def paga_cuota(self):\n",
    "        return True\n",
    "    \n",
    "    \n",
    "    def __repr__(self):\n",
    "        str_out = 'Credito por {}, a tasa {}, en {} cuotas\\n'.format(\n",
    "                self.monto_inicial_credito, self.tasa_mes, self.meses) + \\\n",
    "            '--> cuota: {}\\n'.format(self.cuota_mes)\n",
    "            \n",
    "        return str_out\n",
    "    \n",
    "c = Credito(1500, 0.03, 24)\n",
    "print(c)"
   ]
  },
  {
   "cell_type": "code",
   "execution_count": 57,
   "metadata": {},
   "outputs": [
    {
     "data": {
      "text/plain": [
       "1.1296"
      ]
     },
     "execution_count": 57,
     "metadata": {},
     "output_type": "execute_result"
    }
   ],
   "source": [
    "24 * 70.6 / 1500"
   ]
  },
  {
   "cell_type": "code",
   "execution_count": 122,
   "metadata": {},
   "outputs": [
    {
     "name": "stdout",
     "output_type": "stream",
     "text": [
      "88.57112392345476 2.5797414734987414 85.99138244995602 2.0321522242738865e-12\n"
     ]
    },
    {
     "data": {
      "text/plain": [
       "True"
      ]
     },
     "execution_count": 122,
     "metadata": {},
     "output_type": "execute_result"
    }
   ],
   "source": [
    "c.paga_cuota()"
   ]
  },
  {
   "cell_type": "code",
   "execution_count": null,
   "metadata": {},
   "outputs": [],
   "source": [
    "def magic(num1, num2 = 2):\n",
    "    \n",
    "    if num1 % num2 == 0:\n",
    "        return False\n",
    "    \n",
    "    if num2 + 1 == num1:\n",
    "        return True\n",
    "    \n",
    "    return magic(num1, num2+1)\n",
    "\n",
    "magic(5)"
   ]
  },
  {
   "cell_type": "code",
   "execution_count": null,
   "metadata": {
    "collapsed": true
   },
   "outputs": [],
   "source": []
  },
  {
   "cell_type": "code",
   "execution_count": 132,
   "metadata": {
    "collapsed": true
   },
   "outputs": [],
   "source": [
    "L = [('2515', 3000000, 0.012, 5), \n",
    "     ('0349', 5330000, 0.015, 9),\n",
    "    ('1527', 255500000, 0.007, 1),\n",
    "    ('8873', 100000, 0.016, 14),\n",
    "    ('2515', 88880000, 0.011, 23)]\n"
   ]
  },
  {
   "cell_type": "code",
   "execution_count": 133,
   "metadata": {},
   "outputs": [
    {
     "name": "stdout",
     "output_type": "stream",
     "text": [
      "621771.7608300428 36000.0 585771.7608300428 2414228.239169957\n",
      "621771.7608300428 28970.738870039488 592801.0219600033 1821427.2172099538\n",
      "621771.7608300428 21857.126606519447 599914.6342235233 1221512.5829864305\n",
      "637520.3585985416 79950.0 557570.3585985416 4772429.6414014585\n",
      "637520.3585985416 71586.44462102187 565933.9139775197 4206495.727423939\n",
      "637520.3585985416 63097.43591135908 574422.9226871826 3632072.8047367563\n",
      "257288500.00000525 1788500.0 255500000.00000525 -5.245208740234375e-06\n",
      "error: deuda ya pagada\n",
      "error: deuda ya pagada\n",
      "8029.45471821759 1600.0 6429.45471821759 93570.54528178241\n",
      "8029.45471821759 1497.1287245085186 6532.325993709072 87038.21928807333\n",
      "8029.45471821759 1392.6115086091734 6636.843209608417 80401.37607846492\n",
      "4394881.594985394 977680.0 3417201.594985394 85462798.4050146\n",
      "4394881.594985394 940090.7824551606 3454790.812530233 82008007.59248437\n",
      "4394881.594985394 902088.083517328 3492793.511468066 78515214.0810163\n",
      "[2883730.0, 1042145.0946707305, 988435.2575438158]\n"
     ]
    }
   ],
   "source": [
    "interes_total = [0, 0, 0]\n",
    "for id_cliente, monto, tasa, meses in L:\n",
    "    c = Credito(monto, tasa, meses)\n",
    "    for i in range(3):\n",
    "        amort, interes = c.paga_cuota()\n",
    "        interes_total[i] += interes\n",
    "\n",
    "print(interes_total)"
   ]
  },
  {
   "cell_type": "code",
   "execution_count": null,
   "metadata": {
    "collapsed": true
   },
   "outputs": [],
   "source": []
  }
 ],
 "metadata": {
  "anaconda-cloud": {},
  "kernelspec": {
   "display_name": "Python [default]",
   "language": "python",
   "name": "python3"
  },
  "language_info": {
   "codemirror_mode": {
    "name": "ipython",
    "version": 3
   },
   "file_extension": ".py",
   "mimetype": "text/x-python",
   "name": "python",
   "nbconvert_exporter": "python",
   "pygments_lexer": "ipython3",
   "version": "3.6.6"
  }
 },
 "nbformat": 4,
 "nbformat_minor": 2
}
