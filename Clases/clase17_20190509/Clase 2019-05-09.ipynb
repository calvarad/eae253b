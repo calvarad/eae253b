{
 "cells": [
  {
   "cell_type": "markdown",
   "metadata": {},
   "source": [
    "# 2019-05-09 (jueves)\n",
    "\n",
    "---\n",
    "\n",
    "#### Hoy:\n",
    "\n",
    "- Recursión\n",
    "- Binary Search Tree\n"
   ]
  },
  {
   "cell_type": "markdown",
   "metadata": {},
   "source": [
    "### Recursión\n",
    "\n",
    "Ya vimos en clases anteriores el uso de *for* y *while* para realizar operaciones iterativas, que se realizarían hasta que agotar una lista inicial (*for*) o hasta que se cumpla una condición (*while*). \n",
    "\n",
    "**Recursión** es una técnica que también nos permite instruir al computador realizar \"repeticiones\", pero esta vez sin definir tan explicitamente cuándo acaban la repeticiones. Veamos un ejemplo:"
   ]
  },
  {
   "cell_type": "code",
   "execution_count": 7,
   "metadata": {
    "collapsed": true
   },
   "outputs": [],
   "source": [
    "def factorial(n):\n",
    "    '''\n",
    "    Entrega el resultado de n!\n",
    "    '''\n",
    "    resultado = 1\n",
    "    \n",
    "    for i in range(1, n+1):\n",
    "        resultado = resultado * i\n",
    "        \n",
    "    return resultado"
   ]
  },
  {
   "cell_type": "code",
   "execution_count": 9,
   "metadata": {},
   "outputs": [
    {
     "data": {
      "text/plain": [
       "24"
      ]
     },
     "execution_count": 9,
     "metadata": {},
     "output_type": "execute_result"
    }
   ],
   "source": [
    "factorial(4)"
   ]
  },
  {
   "cell_type": "code",
   "execution_count": 10,
   "metadata": {
    "collapsed": true
   },
   "outputs": [],
   "source": [
    "def factorial_recursivo(n):\n",
    "    '''\n",
    "    Entrega el resultado de n!\n",
    "    '''\n",
    "    if n == 0:\n",
    "        return 1\n",
    "    \n",
    "    resultado = n * factorial_recursivo(n - 1)\n",
    "    \n",
    "    return resultado"
   ]
  },
  {
   "cell_type": "code",
   "execution_count": 12,
   "metadata": {},
   "outputs": [
    {
     "data": {
      "text/plain": [
       "24"
      ]
     },
     "execution_count": 12,
     "metadata": {},
     "output_type": "execute_result"
    }
   ],
   "source": [
    "factorial_recursivo(4)"
   ]
  },
  {
   "cell_type": "code",
   "execution_count": null,
   "metadata": {
    "collapsed": true
   },
   "outputs": [],
   "source": []
  },
  {
   "cell_type": "code",
   "execution_count": null,
   "metadata": {
    "collapsed": true
   },
   "outputs": [],
   "source": []
  },
  {
   "cell_type": "code",
   "execution_count": null,
   "metadata": {
    "collapsed": true
   },
   "outputs": [],
   "source": []
  },
  {
   "cell_type": "markdown",
   "metadata": {},
   "source": [
    "#### Ejercicio en clase:\n",
    "\n",
    "Complete las funciones del objeto Tree que se describe a continuación"
   ]
  },
  {
   "cell_type": "code",
   "execution_count": 1,
   "metadata": {},
   "outputs": [
    {
     "data": {
      "text/plain": [
       "30\n",
       "    10\n",
       "        20\n",
       "            15\n",
       "            25\n",
       "    40\n",
       "        35\n",
       "        46\n",
       "            41\n",
       "                44\n",
       "            460"
      ]
     },
     "execution_count": 1,
     "metadata": {},
     "output_type": "execute_result"
    }
   ],
   "source": [
    "class Tree():\n",
    "\n",
    "    def __init__(self, data):\n",
    "\n",
    "        self.left = None\n",
    "        self.right = None\n",
    "        self.data = data\n",
    "\n",
    "    def insert(self, data):\n",
    "        \n",
    "        #datos menores a self.data, los insertamos a la izquierda\n",
    "        if data < self.data:\n",
    "            if self.left is None:\n",
    "                self.left = Tree(data)\n",
    "            else:\n",
    "                self.left.insert(data)\n",
    "        \n",
    "        #datos mayores a self.data, los insertamos a la derecha\n",
    "        elif data > self.data:\n",
    "            if self.right is None:\n",
    "                self.right = Tree(data)\n",
    "            else:\n",
    "                self.right.insert(data)\n",
    "\n",
    "    def total(self):\n",
    "        '''\n",
    "        devuelve el total (suma) de los valores de los nodos del arbol\n",
    "        '''\n",
    "        #COMPLETAR\n",
    "        \n",
    "        total = None\n",
    "        \n",
    "        return total\n",
    "        \n",
    "       \n",
    "    def sort_print(self):\n",
    "        '''\n",
    "        Imprime los valores del árbol\n",
    "        '''\n",
    "        #COMPLETAR\n",
    "        \n",
    "        return None\n",
    "    \n",
    "    def sorted_list(self):\n",
    "        '''\n",
    "        Entrega la lista de valores del árbol de forma ordenada\n",
    "        \n",
    "        Hint: al ser un Binary Search Tree, los valores \n",
    "        del arból quedan ordenados si se hace un búsqueda DFS \"ordenada\"\n",
    "        (Inorder Traversal (Left-Root-Right))\n",
    "\n",
    "        '''\n",
    "        #COMPLETAR\n",
    "        \n",
    "        out = []\n",
    "        \n",
    "        return out\n",
    "\n",
    "    def find_end_nodes(self):\n",
    "        '''\n",
    "        devuelve los valores de los nodos \"finales\"\n",
    "        '''\n",
    "        \n",
    "        finals = []\n",
    "        \n",
    "        #COMPLETAR\n",
    "        \n",
    "        return finals\n",
    "    \n",
    "    def print_tree(self, tabs=\"\"):\n",
    "        '''\n",
    "        funcion auxiliar para imprimir el arbol\n",
    "        '''\n",
    "        s = \"{}{}\".format(tabs, self.data)\n",
    "        \n",
    "        if self.left is not None:\n",
    "            s += \"\\n\" + self.left.print_tree(tabs+\"    \")\n",
    "        \n",
    "        if self.right is not None:\n",
    "            s += \"\\n\" + self.right.print_tree(tabs+\"    \")\n",
    "    \n",
    "        return s\n",
    "    \n",
    "    def __repr__(self):\n",
    "        return self.print_tree()\n",
    "\n",
    "t1 = Tree(30)\n",
    "\n",
    "t1.insert(10)\n",
    "\n",
    "t1.insert(20)\n",
    "\n",
    "t1.insert(40)\n",
    "\n",
    "t1.insert(35)\n",
    "\n",
    "t1.insert(25)\n",
    "\n",
    "t1.insert(15)\n",
    "\n",
    "t1.insert(46)\n",
    "\n",
    "t1.insert(460)\n",
    "\n",
    "t1.insert(41)\n",
    "\n",
    "t1.insert(44)\n",
    "\n",
    "t1"
   ]
  },
  {
   "cell_type": "code",
   "execution_count": 4,
   "metadata": {},
   "outputs": [
    {
     "data": {
      "text/plain": [
       "[15, 25, 35, 44, 460]"
      ]
     },
     "execution_count": 4,
     "metadata": {},
     "output_type": "execute_result"
    }
   ],
   "source": [
    "t1.find_end_nodes()"
   ]
  },
  {
   "cell_type": "code",
   "execution_count": null,
   "metadata": {
    "collapsed": true
   },
   "outputs": [],
   "source": []
  }
 ],
 "metadata": {
  "kernelspec": {
   "display_name": "Python 3",
   "language": "python",
   "name": "python3"
  },
  "language_info": {
   "codemirror_mode": {
    "name": "ipython",
    "version": 3
   },
   "file_extension": ".py",
   "mimetype": "text/x-python",
   "name": "python",
   "nbconvert_exporter": "python",
   "pygments_lexer": "ipython3",
   "version": "3.6.6"
  }
 },
 "nbformat": 4,
 "nbformat_minor": 2
}
