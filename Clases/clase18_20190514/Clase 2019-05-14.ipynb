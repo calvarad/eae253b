{
 "cells": [
  {
   "cell_type": "markdown",
   "metadata": {},
   "source": [
    "# 2019-05-14 (martes)\n",
    "\n",
    "---\n",
    "\n",
    "#### Hoy:\n",
    "\n",
    "- Recursión\n",
    "- Teoria de grafos\n"
   ]
  },
  {
   "cell_type": "markdown",
   "metadata": {},
   "source": [
    "### Recursión\n",
    "\n",
    "Ya vimos en clases anteriores el uso de *for* y *while* para realizar operaciones iterativas, que se realizarían hasta que agotar una lista inicial (*for*) o hasta que se cumpla una condición (*while*). \n",
    "\n",
    "**Recursión** es una técnica que también nos permite instruir al computador realizar \"repeticiones\", pero esta vez sin definir tan explicitamente cuándo acaban la repeticiones. Veamos un ejemplo:"
   ]
  },
  {
   "cell_type": "code",
   "execution_count": 13,
   "metadata": {
    "collapsed": true
   },
   "outputs": [],
   "source": [
    "def factorial(n):\n",
    "    '''\n",
    "    Entrega el resultado de n!\n",
    "    '''\n",
    "    resultado = 1\n",
    "    \n",
    "    for i in range(1, n+1):\n",
    "        resultado = resultado * i\n",
    "        \n",
    "    return resultado"
   ]
  },
  {
   "cell_type": "code",
   "execution_count": 14,
   "metadata": {
    "collapsed": false
   },
   "outputs": [
    {
     "name": "stdout",
     "output_type": "stream",
     "text": [
      "Help on function factorial in module __main__:\n",
      "\n",
      "factorial(n)\n",
      "    Entrega el resultado de n!\n",
      "\n"
     ]
    }
   ],
   "source": [
    "help(factorial)"
   ]
  },
  {
   "cell_type": "code",
   "execution_count": null,
   "metadata": {
    "collapsed": false
   },
   "outputs": [],
   "source": [
    "factorial(4)"
   ]
  },
  {
   "cell_type": "code",
   "execution_count": 26,
   "metadata": {
    "collapsed": true
   },
   "outputs": [],
   "source": [
    "def factorial_recursivo(n):\n",
    "    '''\n",
    "    Entrega el resultado de n!\n",
    "    '''\n",
    "    print('estoy empezando en n =', n)\n",
    "\n",
    "    if n == 0:\n",
    "        resultado = 1\n",
    "        return resultado\n",
    "    \n",
    "    resultado = n * factorial_recursivo(n - 1)\n",
    "\n",
    "    \n",
    "    return resultado"
   ]
  },
  {
   "cell_type": "code",
   "execution_count": 27,
   "metadata": {
    "collapsed": false
   },
   "outputs": [
    {
     "name": "stdout",
     "output_type": "stream",
     "text": [
      "estoy empezando en n = 3\n",
      "estoy empezando en n = 2\n",
      "estoy empezando en n = 1\n",
      "estoy empezando en n = 0\n"
     ]
    },
    {
     "data": {
      "text/plain": [
       "6"
      ]
     },
     "execution_count": 27,
     "metadata": {},
     "output_type": "execute_result"
    }
   ],
   "source": [
    "factorial_recursivo(3)"
   ]
  },
  {
   "cell_type": "code",
   "execution_count": null,
   "metadata": {
    "collapsed": true
   },
   "outputs": [],
   "source": []
  },
  {
   "cell_type": "code",
   "execution_count": 33,
   "metadata": {
    "collapsed": true
   },
   "outputs": [],
   "source": [
    "class Lista:\n",
    "    def __init__(self, value):\n",
    "        self.inicio = value\n",
    "        self.resto_de_lista = None\n",
    "    \n",
    "    def pegar_valor(self, valor):\n",
    "        if self.resto_de_lista is None:\n",
    "            self.resto_de_lista = Lista(valor)\n",
    "        else:\n",
    "            self.resto_de_lista.pegar_valor(valor)\n",
    "            \n",
    "    def __repr__(self):\n",
    "        return '{}-{}'.format(self.inicio, self.resto_de_lista)\n",
    "#por completar"
   ]
  },
  {
   "cell_type": "code",
   "execution_count": 34,
   "metadata": {
    "collapsed": false
   },
   "outputs": [
    {
     "data": {
      "text/plain": [
       "6-3-8-None"
      ]
     },
     "execution_count": 34,
     "metadata": {},
     "output_type": "execute_result"
    }
   ],
   "source": [
    "s = Lista(6)\n",
    "\n",
    "s.pegar_valor(3)\n",
    "\n",
    "s.pegar_valor(8)\n",
    "\n",
    "s"
   ]
  },
  {
   "cell_type": "code",
   "execution_count": 10,
   "metadata": {
    "collapsed": false
   },
   "outputs": [
    {
     "data": {
      "text/plain": [
       "2-3-None"
      ]
     },
     "execution_count": 10,
     "metadata": {},
     "output_type": "execute_result"
    }
   ],
   "source": [
    "s.insert(3)\n",
    "s"
   ]
  },
  {
   "cell_type": "code",
   "execution_count": 12,
   "metadata": {
    "collapsed": false
   },
   "outputs": [
    {
     "data": {
      "text/plain": [
       "2-3-10-10-None"
      ]
     },
     "execution_count": 12,
     "metadata": {},
     "output_type": "execute_result"
    }
   ],
   "source": [
    "s.insert(10)\n",
    "s"
   ]
  },
  {
   "cell_type": "markdown",
   "metadata": {},
   "source": [
    "#### Ejercicio en clase:\n",
    "\n",
    "Complete las funciones del objeto Tree que se describe a continuación"
   ]
  },
  {
   "cell_type": "code",
   "execution_count": 28,
   "metadata": {
    "collapsed": false
   },
   "outputs": [
    {
     "data": {
      "text/plain": [
       "3\n",
       "    2\n",
       "        -10\n",
       "    5\n",
       "        4\n",
       "        7"
      ]
     },
     "execution_count": 28,
     "metadata": {},
     "output_type": "execute_result"
    }
   ],
   "source": [
    "class Tree():\n",
    "\n",
    "    def __init__(self, data):\n",
    "\n",
    "        self.left = None\n",
    "        self.right = None\n",
    "        self.data = data\n",
    "        \n",
    "\n",
    "    def insert(self, datonuevo):\n",
    "        \n",
    "        #datos menores a self.data, los insertamos a la izquierda\n",
    "        if datonuevo < self.data:\n",
    "            if self.left is None:\n",
    "                self.left = Tree(datonuevo)\n",
    "            else:\n",
    "                self.left.insert(datonuevo)\n",
    "        \n",
    "        #datos mayores a self.data, los insertamos a la derecha\n",
    "        elif datonuevo > self.data:\n",
    "            if self.right is None:\n",
    "                self.right = Tree(datonuevo)\n",
    "            else:\n",
    "                self.right.insert(datonuevo)\n",
    "            \n",
    "    def total(self):\n",
    "        '''\n",
    "        devuelve el total (suma) de valores del arbol\n",
    "        '''\n",
    "        if self.left is None:\n",
    "            izq = 0\n",
    "        else:\n",
    "            izq = self.left.total()\n",
    "            \n",
    "        if self.right is None:\n",
    "            der = 0\n",
    "        else:\n",
    "            der = self.right.total()\n",
    "            \n",
    "        total = self.data + izq + der\n",
    "        \n",
    "        return total\n",
    "   \n",
    "    \n",
    "    def sort_print(self):\n",
    "        out = ''\n",
    "        \n",
    "        if self.left:\n",
    "            out += '/' + self.left.sort_print()\n",
    "        \n",
    "        out += '/' + str(self.data)\n",
    "        \n",
    "        if self.right:\n",
    "            out += '/' + self.right.sort_print()\n",
    "        \n",
    "        return out\n",
    "    \n",
    "    def sorted_list(self):\n",
    "        out = []\n",
    "        \n",
    "        if self.left:\n",
    "            out.extend(self.left.sorted_list())\n",
    "        \n",
    "        out.append(self.data)\n",
    "        \n",
    "        if self.right:\n",
    "            out.extend(self.right.sorted_list())\n",
    "        \n",
    "        return out\n",
    "\n",
    "    def find_end_nodes(self):\n",
    "        '''\n",
    "        devuelve los valores de los nodos \"finales\"\n",
    "        '''\n",
    "        \n",
    "        finals = []\n",
    "        \n",
    "        #llegue a un nodo \"final\"\n",
    "        if self.left is None and self.right is None:\n",
    "            finals.append(self.data)\n",
    "            return finals\n",
    "        \n",
    "        if self.left is not None:\n",
    "            finals_izq = self.left.find_end_nodes()\n",
    "            finals.extend(finals_izq)\n",
    "            \n",
    "        if self.right is not None:\n",
    "            finals_der = self.right.find_end_nodes()\n",
    "            finals.extend(finals_der)\n",
    "        \n",
    "        return finals\n",
    "    \n",
    "    def print_tree(self, tabs=\"\"):\n",
    "        '''\n",
    "        funcion auxiliar para imprimir el arbol\n",
    "        '''\n",
    "        s = \"{}{}\".format(tabs, self.data)\n",
    "        \n",
    "        if self.left is not None:\n",
    "            s += \"\\n\" + self.left.print_tree(tabs+\"    \")\n",
    "        \n",
    "        if self.right is not None:\n",
    "            s += \"\\n\" + self.right.print_tree(tabs+\"    \")\n",
    "    \n",
    "        return s\n",
    "    \n",
    "    def __repr__(self):\n",
    "        return self.print_tree()\n",
    "\n",
    "t1 = Tree(3)\n",
    "\n",
    "t1.insert(5)\n",
    "\n",
    "t1.insert(7)\n",
    "\n",
    "t1.insert(2)\n",
    "\n",
    "t1.insert(4)\n",
    "\n",
    "t1.insert(-10)\n",
    "t1"
   ]
  },
  {
   "cell_type": "code",
   "execution_count": 29,
   "metadata": {
    "collapsed": false
   },
   "outputs": [
    {
     "data": {
      "text/plain": [
       "'///-10/2/3///4/5//7'"
      ]
     },
     "execution_count": 29,
     "metadata": {},
     "output_type": "execute_result"
    }
   ],
   "source": [
    "t1.sort_print()"
   ]
  },
  {
   "cell_type": "markdown",
   "metadata": {
    "collapsed": true
   },
   "source": [
    "### Teoria de grafos\n",
    "\n",
    "La teoria de grafos es la rama de la matemática que estudia los Grafos. Los Grafos son estructuras matemáticas (\"estructuras de datos\") pensadas para modelar relaciones entre objetos. Típicamente, los objetos son llamados \"nodos\" o \"vértices\" y los tipos de relaciones se describen mediante \"conexiones\", \"links\" o \"edges\". \n",
    "\n",
    "En Python, ocuparemos la librería **networkx** para trabajar con Grafos. Veamos algunos ejemplos:\n"
   ]
  },
  {
   "cell_type": "code",
   "execution_count": 14,
   "metadata": {
    "collapsed": false
   },
   "outputs": [
    {
     "name": "stderr",
     "output_type": "stream",
     "text": [
      "C:\\Anaconda3\\lib\\site-packages\\networkx\\drawing\\nx_pylab.py:126: MatplotlibDeprecationWarning: pyplot.hold is deprecated.\n",
      "    Future behavior will be consistent with the long-time default:\n",
      "    plot commands add elements without first clearing the\n",
      "    Axes and/or Figure.\n",
      "  b = plt.ishold()\n",
      "C:\\Anaconda3\\lib\\site-packages\\networkx\\drawing\\nx_pylab.py:522: MatplotlibDeprecationWarning: The is_string_like function was deprecated in version 2.1.\n",
      "  if not cb.is_string_like(edge_color) \\\n",
      "C:\\Anaconda3\\lib\\site-packages\\networkx\\drawing\\nx_pylab.py:543: MatplotlibDeprecationWarning: The is_string_like function was deprecated in version 2.1.\n",
      "  if cb.is_string_like(edge_color) or len(edge_color) == 1:\n",
      "C:\\Anaconda3\\lib\\site-packages\\networkx\\drawing\\nx_pylab.py:138: MatplotlibDeprecationWarning: pyplot.hold is deprecated.\n",
      "    Future behavior will be consistent with the long-time default:\n",
      "    plot commands add elements without first clearing the\n",
      "    Axes and/or Figure.\n",
      "  plt.hold(b)\n",
      "C:\\Anaconda3\\lib\\site-packages\\matplotlib\\__init__.py:911: MatplotlibDeprecationWarning: axes.hold is deprecated. Please remove it from your matplotlibrc and/or style files.\n",
      "  mplDeprecation)\n",
      "C:\\Anaconda3\\lib\\site-packages\\matplotlib\\rcsetup.py:156: MatplotlibDeprecationWarning: axes.hold is deprecated, will be removed in 3.0\n",
      "  mplDeprecation)\n"
     ]
    },
    {
     "data": {
      "image/png": "[encoded data removed]",
      "text/plain": [
       "<Figure size 432x288 with 1 Axes>"
      ]
     },
     "metadata": {},
     "output_type": "display_data"
    }
   ],
   "source": [
    "import networkx as nx\n",
    "import matplotlib.pyplot as plt\n",
    "\n",
    "G = nx.Graph()\n",
    "\n",
    "G.add_node(1)\n",
    "G.add_node(5)\n",
    "G.add_node(7)\n",
    "G.add_edge(1, 5, weight=3)\n",
    "\n",
    "\n",
    "nx.draw(G)\n",
    "plt.show()"
   ]
  },
  {
   "cell_type": "code",
   "execution_count": null,
   "metadata": {
    "collapsed": true
   },
   "outputs": [],
   "source": []
  }
 ],
 "metadata": {
  "anaconda-cloud": {},
  "kernelspec": {
   "display_name": "Python [default]",
   "language": "python",
   "name": "python3"
  },
  "language_info": {
   "codemirror_mode": {
    "name": "ipython",
    "version": 3
   },
   "file_extension": ".py",
   "mimetype": "text/x-python",
   "name": "python",
   "nbconvert_exporter": "python",
   "pygments_lexer": "ipython3",
   "version": "3.5.5"
  }
 },
 "nbformat": 4,
 "nbformat_minor": 2
}
