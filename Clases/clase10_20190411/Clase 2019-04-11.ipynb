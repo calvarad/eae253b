{
 "cells": [
  {
   "cell_type": "markdown",
   "metadata": {},
   "source": [
    "# 2019-04-11 (jueves)\n",
    "\n",
    "### Anuncios:\n",
    "- Jueves 18 de abril no hay clase\n",
    "- Prox miercoles (17) comienza lab4 (entrega viernes 26 de abril)\n",
    "- Miercoles 24 de abril comienza lab5 (entrega viernes 3 de mayo)\n",
    "- Miércoles 1 de mayo es feriado\n",
    "\n",
    "\n",
    "### Hoy:\n",
    "\n",
    "- Fechas"
   ]
  },
  {
   "cell_type": "code",
   "execution_count": 2,
   "metadata": {
    "collapsed": false
   },
   "outputs": [
    {
     "data": {
      "text/plain": [
       "datetime.timedelta(0, 10, 1836)"
      ]
     },
     "execution_count": 2,
     "metadata": {},
     "output_type": "execute_result"
    }
   ],
   "source": [
    "import datetime\n",
    "import time\n",
    "\n",
    "d1 = datetime.datetime.now()\n",
    "\n",
    "time.sleep(10)\n",
    "\n",
    "d2 = datetime.datetime.now()\n",
    "\n",
    "d2 - d1"
   ]
  },
  {
   "cell_type": "code",
   "execution_count": null,
   "metadata": {
    "collapsed": true
   },
   "outputs": [],
   "source": []
  }
 ],
 "metadata": {
  "anaconda-cloud": {},
  "kernelspec": {
   "display_name": "Python [conda env:Anaconda3]",
   "language": "python",
   "name": "conda-env-Anaconda3-py"
  },
  "language_info": {
   "codemirror_mode": {
    "name": "ipython",
    "version": 3
   },
   "file_extension": ".py",
   "mimetype": "text/x-python",
   "name": "python",
   "nbconvert_exporter": "python",
   "pygments_lexer": "ipython3",
   "version": "3.5.5"
  }
 },
 "nbformat": 4,
 "nbformat_minor": 2
}
