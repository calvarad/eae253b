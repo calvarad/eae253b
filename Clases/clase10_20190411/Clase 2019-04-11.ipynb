{
 "cells": [
  {
   "cell_type": "markdown",
   "metadata": {},
   "source": [
    "# 2019-04-11 (jueves)\n",
    "\n",
    "### Anuncios:\n",
    "- Jueves 18 de abril no hay clase\n",
    "- Prox miercoles (17) comienza lab4 (entrega viernes 26 de abril)\n",
    "- Miercoles 24 de abril comienza lab5 (entrega viernes 3 de mayo)\n",
    "- Miércoles 1 de mayo es feriado\n",
    "\n",
    "\n",
    "### Hoy:\n",
    "\n",
    "- Fechas"
   ]
  },
  {
   "cell_type": "markdown",
   "metadata": {},
   "source": [
    "### Trabajar con fechas y tiempo\n",
    "\n",
    "Qué son las fechas? Básicamente, es una convención para medir el tiempo y determinar, de forma estandarizada, el \"cuándo\" de los sucesos a nuestro alrededor.\n",
    "\n",
    "Una fecha se entiende como un objeto que señala el día, mes y año de algún evento.\n",
    "\n",
    "Las fechas que comúnmente conocemos se basan en el calendario Gregoriano (https://en.m.wikipedia.org/wiki/Gregorian_calendar), el cual contiene reglas para ajustar el paso de los años con eventos astronómicos (rotación alrededor del sol), que son más específicas que las reglas del calendario usado anteriormente (Juliano - https://en.m.wikipedia.org/wiki/Julian_calendar).\n",
    "\n",
    "Cuando trabajamos con fechas en computadores, usualmente queremos realizar las siguientes operaciones:\n",
    "\n",
    "- Construcción de fechas\n",
    " - Transformar texto en fecha\n",
    " - Transformar componentes (dia, mes, año) en fecha\n",
    "\n",
    "\n",
    "- Transformación o extracción de información de fechas\n",
    " - Extraer componentes (dia, mes año)\n",
    " - Formatear fecha en texto (con alguna \"máscara\" particular)\n",
    " - Cambiar la frecuencia de la fecha (dia - semana - mes - trimestre)\n",
    "    \n",
    "\n",
    "- Cálculos entre fechas (duración o intervalos)\n",
    "\n",
    "\n",
    "Una lista de la codificación para crear \"máscaras\" se puede encontrar acá: http://strftime.org/"
   ]
  },
  {
   "cell_type": "markdown",
   "metadata": {},
   "source": [
    "#### Construcción de fechas\n"
   ]
  },
  {
   "cell_type": "code",
   "execution_count": 25,
   "metadata": {},
   "outputs": [
    {
     "name": "stdout",
     "output_type": "stream",
     "text": [
      "2005-01-17 00:00:00\n",
      "2005-06-01\n"
     ]
    }
   ],
   "source": [
    "import datetime as dt\n",
    "\n",
    "f1 = dt.datetime.strptime('2005-01-17', '%Y-%m-%d')\n",
    "print(f1)\n",
    "\n",
    "f2 = dt.date(2005, 6, 1)\n",
    "print(f2)"
   ]
  },
  {
   "cell_type": "markdown",
   "metadata": {},
   "source": [
    "En el caso de arriba, f1 es un objeto \"datetime\", mientras que f2 es un objeto \"date\". Convirtamos f1 en \"date\":"
   ]
  },
  {
   "cell_type": "code",
   "execution_count": 26,
   "metadata": {},
   "outputs": [
    {
     "name": "stdout",
     "output_type": "stream",
     "text": [
      "2005-01-17\n"
     ]
    }
   ],
   "source": [
    "f1 = f1.date()\n",
    "\n",
    "print(f1)"
   ]
  },
  {
   "cell_type": "markdown",
   "metadata": {},
   "source": [
    "#### Transformación o extracción de información de fechas\n",
    "\n",
    "Ahora que tenemos dos objetos \"date\", podemos extraer información de ellos:"
   ]
  },
  {
   "cell_type": "code",
   "execution_count": 27,
   "metadata": {},
   "outputs": [
    {
     "name": "stdout",
     "output_type": "stream",
     "text": [
      "El mes de la fecha \"2005-01-17\" es \"1\"\n"
     ]
    }
   ],
   "source": [
    "num_mes = f1.month\n",
    "\n",
    "print('El mes de la fecha \"{}\" es \"{}\"'.format(f1, num_mes))"
   ]
  },
  {
   "cell_type": "code",
   "execution_count": 28,
   "metadata": {},
   "outputs": [
    {
     "name": "stdout",
     "output_type": "stream",
     "text": [
      "El dia de la fecha \"2005-01-17\" es \"17\"\n"
     ]
    }
   ],
   "source": [
    "num_dia = f1.day\n",
    "\n",
    "print('El dia de la fecha \"{}\" es \"{}\"'.format(f1, num_dia))"
   ]
  },
  {
   "cell_type": "code",
   "execution_count": 29,
   "metadata": {},
   "outputs": [
    {
     "name": "stdout",
     "output_type": "stream",
     "text": [
      "El año de la fecha \"2005-01-17\" es \"2005\"\n"
     ]
    }
   ],
   "source": [
    "num_year = f1.year\n",
    "\n",
    "print('El año de la fecha \"{}\" es \"{}\"'.format(f1, num_year))"
   ]
  },
  {
   "cell_type": "markdown",
   "metadata": {},
   "source": [
    "Además, podemos calcular algunas otras cosas interesantes:"
   ]
  },
  {
   "cell_type": "code",
   "execution_count": 30,
   "metadata": {},
   "outputs": [
    {
     "name": "stdout",
     "output_type": "stream",
     "text": [
      "0\n",
      "(2005, 3, 1)\n"
     ]
    }
   ],
   "source": [
    "#número de la semana\n",
    "print(f1.weekday())\n",
    "\n",
    "#número de semana en el año\n",
    "print(f1.isocalendar())\n",
    "\n",
    "# isocalendar entrega (ISO year, ISO week number, ISO weekday)."
   ]
  },
  {
   "cell_type": "markdown",
   "metadata": {},
   "source": [
    "Además, podemos construir otros objetos. En particular, podemos calcular \"intervalos\" de tiempo (\"timedeltas\"):"
   ]
  },
  {
   "cell_type": "code",
   "execution_count": 31,
   "metadata": {},
   "outputs": [
    {
     "name": "stdout",
     "output_type": "stream",
     "text": [
      "135 days, 0:00:00\n"
     ]
    }
   ],
   "source": [
    "dias = f2 - f1\n",
    "print(dias)\n"
   ]
  },
  {
   "cell_type": "code",
   "execution_count": 33,
   "metadata": {},
   "outputs": [
    {
     "data": {
      "text/plain": [
       "datetime.timedelta(135)"
      ]
     },
     "execution_count": 33,
     "metadata": {},
     "output_type": "execute_result"
    }
   ],
   "source": [
    "dias"
   ]
  },
  {
   "cell_type": "code",
   "execution_count": 36,
   "metadata": {},
   "outputs": [
    {
     "data": {
      "text/plain": [
       "11664000.0"
      ]
     },
     "execution_count": 36,
     "metadata": {},
     "output_type": "execute_result"
    }
   ],
   "source": [
    "dias.total_seconds()"
   ]
  },
  {
   "cell_type": "code",
   "execution_count": 2,
   "metadata": {},
   "outputs": [
    {
     "data": {
      "text/plain": [
       "datetime.timedelta(0, 10, 1836)"
      ]
     },
     "execution_count": 2,
     "metadata": {},
     "output_type": "execute_result"
    }
   ],
   "source": [
    "import datetime\n",
    "import time\n",
    "\n",
    "d1 = datetime.datetime.now()\n",
    "\n",
    "time.sleep(10)\n",
    "\n",
    "d2 = datetime.datetime.now()\n",
    "\n",
    "d2 - d1"
   ]
  },
  {
   "cell_type": "code",
   "execution_count": null,
   "metadata": {
    "collapsed": true
   },
   "outputs": [],
   "source": []
  },
  {
   "cell_type": "markdown",
   "metadata": {},
   "source": [
    "#### Formatear de vuelta a string\n",
    "\n",
    "Una vez tenemos una variable \"fecha\", existen situaciones en las que queremos \"formatear\" esa fecha de vuelta en algún string específico (por motivos de presentación, generalmente)."
   ]
  },
  {
   "cell_type": "code",
   "execution_count": 37,
   "metadata": {},
   "outputs": [
    {
     "data": {
      "text/plain": [
       "datetime.date(2005, 1, 17)"
      ]
     },
     "execution_count": 37,
     "metadata": {},
     "output_type": "execute_result"
    }
   ],
   "source": [
    "f1"
   ]
  },
  {
   "cell_type": "code",
   "execution_count": 41,
   "metadata": {},
   "outputs": [
    {
     "name": "stdout",
     "output_type": "stream",
     "text": [
      "01-17\n",
      "17 del 01 de 2005\n",
      "Monday-January\n"
     ]
    }
   ],
   "source": [
    "str_f1 = f1.strftime(\"%m-%d\")\n",
    "\n",
    "print(str_f1)\n",
    "\n",
    "str_f2 = f1.strftime(\"%d del %m de %Y\")\n",
    "\n",
    "print(str_f2)\n",
    "\n",
    "str_f3 = f1.strftime(\"%A-%B\")\n",
    "\n",
    "print(str_f3)\n"
   ]
  },
  {
   "cell_type": "markdown",
   "metadata": {},
   "source": [
    "#### Ventaja de trabajar con \"fechas\"\n",
    "\n",
    "Como lo he mencionado antes, la gracia de trabajar con \"objetos\" es que podemos acceder a atributos (dia, mes, año) y métodos (isocalendar) predefinidos, y fácilmente. \n",
    "\n",
    "Además de lo anterior, el trabajar con objetos nos restringe el espectro de operaciones que podemos realizar con ellos. Por ejemplo, una \"suma\" de dos fechas no debería ser posible, ya que no existe el concepto \"suma\" de dos fechas."
   ]
  },
  {
   "cell_type": "code",
   "execution_count": 42,
   "metadata": {},
   "outputs": [
    {
     "ename": "TypeError",
     "evalue": "unsupported operand type(s) for +: 'datetime.date' and 'datetime.date'",
     "output_type": "error",
     "traceback": [
      "\u001b[1;31m---------------------------------------------------------------------------\u001b[0m",
      "\u001b[1;31mTypeError\u001b[0m                                 Traceback (most recent call last)",
      "\u001b[1;32m<ipython-input-42-ee7fe17522f2>\u001b[0m in \u001b[0;36m<module>\u001b[1;34m()\u001b[0m\n\u001b[1;32m----> 1\u001b[1;33m \u001b[0mf1\u001b[0m \u001b[1;33m+\u001b[0m \u001b[0mf2\u001b[0m\u001b[1;33m\u001b[0m\u001b[0m\n\u001b[0m",
      "\u001b[1;31mTypeError\u001b[0m: unsupported operand type(s) for +: 'datetime.date' and 'datetime.date'"
     ]
    }
   ],
   "source": [
    "f1 + f2"
   ]
  },
  {
   "cell_type": "markdown",
   "metadata": {},
   "source": [
    "Lo anterior no es cierto en otro software menos orientado a objetos, como Excel o Stata."
   ]
  },
  {
   "cell_type": "markdown",
   "metadata": {},
   "source": [
    "#### Ejercicios\n",
    "\n",
    "1. ¿cuántos días han transcurrido en el año?\n",
    "1. ¿cuántos minutos han pasado desde las 8am?\n",
    "1. ¿qué fecha será 40 semanas después de hoy?"
   ]
  },
  {
   "cell_type": "code",
   "execution_count": null,
   "metadata": {
    "collapsed": true
   },
   "outputs": [],
   "source": [
    "# ingresar codigo aqui"
   ]
  },
  {
   "cell_type": "code",
   "execution_count": null,
   "metadata": {
    "collapsed": true
   },
   "outputs": [],
   "source": []
  },
  {
   "cell_type": "code",
   "execution_count": null,
   "metadata": {
    "collapsed": true
   },
   "outputs": [],
   "source": []
  }
 ],
 "metadata": {
  "anaconda-cloud": {},
  "kernelspec": {
   "display_name": "Python 3",
   "language": "python",
   "name": "python3"
  },
  "language_info": {
   "codemirror_mode": {
    "name": "ipython",
    "version": 3
   },
   "file_extension": ".py",
   "mimetype": "text/x-python",
   "name": "python",
   "nbconvert_exporter": "python",
   "pygments_lexer": "ipython3",
   "version": "3.6.6"
  }
 },
 "nbformat": 4,
 "nbformat_minor": 2
}
