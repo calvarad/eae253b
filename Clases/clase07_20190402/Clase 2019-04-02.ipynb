{
 "cells": [
  {
   "cell_type": "markdown",
   "metadata": {},
   "source": [
    "# 2019-03-26 (Martes)\n",
    "\n",
    "### Anuncios\n",
    "- Lab3 se entrega el viernes\n",
    "\n",
    "### Hoy:\n",
    "- Cómo \"recorrer\" un diccionario\n",
    "- Funciones\n",
    "- \"Classes\" (OOP)"
   ]
  },
  {
   "cell_type": "markdown",
   "metadata": {},
   "source": [
    "### Introducción:\n",
    "\n",
    "Hoy, existe un gran número de información que hoy se comparte a través de [APIs](https://en.wikipedia.org/wiki/Application_programming_interface).\n",
    "\n",
    "Un ejemplo de ello es la información de [Twitter](https://developer.twitter.com/).\n",
    "\n",
    "En este notebook revisaremos cómo leer información en formato [JSON](https://en.wikipedia.org/wiki/JSON) (uno de los formatos más utilizados para transmisión de información a través de la Web), junto con aprender más sobre diccionarios y el uso de funciones en Python."
   ]
  },
  {
   "cell_type": "code",
   "execution_count": 40,
   "metadata": {
    "collapsed": false
   },
   "outputs": [],
   "source": [
    "#para cargar datos en formato \"json\", usamos la librería json de python\n",
    "import json\n",
    "\n",
    "from urllib.request import urlopen\n",
    "\n",
    "url = 'https://github.com/calvarad/eae253b/blob/master/Clases/clase07_20190402/data/djt-feb.json?raw=true'\n",
    "\n",
    "response = urlopen(url)\n",
    "\n",
    "str_response = response.read().decode('utf-8')\n",
    "\n",
    "data = json.loads(str_response)     \n",
    "\n",
    "# la función \"loads()\" de la librería json nos permite leer el archivo JSON \n",
    "# y pasar los datos a estructuras conocidas (listas, diccionarios, etc)"
   ]
  },
  {
   "cell_type": "markdown",
   "metadata": {},
   "source": [
    "El archivo que acabamos de cargar contiene una lista de tweets de Donald J. Trump. La información de cada Tweet está guardada en un diccionario."
   ]
  },
  {
   "cell_type": "code",
   "execution_count": 41,
   "metadata": {
    "collapsed": false
   },
   "outputs": [
    {
     "name": "stdout",
     "output_type": "stream",
     "text": [
      "{'entities': {'user_mentions': [], 'hashtags': [], 'symbols': [], 'urls': [{'url': 'https://t.co/KKHiBH554d', 'indices': [95, 118], 'display_url': 'donaldjtrump.com/press-releases…', 'expanded_url': 'https://www.donaldjtrump.com/press-releases/donald-j.-trump-demands-retraction-of-misleading-ads-produced-by-marco-rubi'}]}, 'lang': 'en', 'coordinates': None, 'is_quote_status': False, 'favorited': False, 'place': None, 'created_at': 'Mon Feb 29 22:59:29 +0000 2016', 'in_reply_to_user_id_str': None, 'source': '<a href=\"http://twitter.com/download/iphone\" rel=\"nofollow\">Twitter for iPhone</a>', 'in_reply_to_screen_name': None, 'text': \"Phony Rubio commercial. I could have settled, but won't out of principle! See student surveys. https://t.co/KKHiBH554d\", 'possibly_sensitive': False, 'in_reply_to_status_id': None, 'truncated': False, 'user': {'entities': {'url': {'urls': [{'url': 'https://t.co/mZB2hy4Wdz', 'indices': [0, 23], 'display_url': 'DonaldJTrump.com', 'expanded_url': 'http://www.DonaldJTrump.com'}]}, 'description': {'urls': [{'url': 'https://t.co/as4SAY5Ycm', 'indices': [46, 69], 'display_url': 'instagram.com/realdonaldtrum…', 'expanded_url': 'https://www.instagram.com/realdonaldtrump/'}, {'url': 'https://t.co/GZguNlvpzM', 'indices': [81, 104], 'display_url': 'm.facebook.com/DonaldTrump/', 'expanded_url': 'https://m.facebook.com/DonaldTrump/'}]}}, 'lang': 'en', 'friends_count': 41, 'profile_text_color': '333333', 'is_translator': False, 'default_profile': False, 'contributors_enabled': False, 'profile_image_url': 'http://pbs.twimg.com/profile_images/1980294624/DJT_Headshot_V2_normal.jpg', 'profile_image_url_https': 'https://pbs.twimg.com/profile_images/1980294624/DJT_Headshot_V2_normal.jpg', 'profile_sidebar_border_color': 'BDDCAD', 'is_translation_enabled': True, 'profile_link_color': '0D5B73', 'url': 'https://t.co/mZB2hy4Wdz', 'profile_banner_url': 'https://pbs.twimg.com/profile_banners/25073877/1462405914', 'notifications': False, 'protected': False, 'location': 'New York, NY', 'favourites_count': 92, 'followers_count': 9323920, 'time_zone': 'Eastern Time (US & Canada)', 'geo_enabled': True, 'screen_name': 'realDonaldTrump', 'listed_count': 34906, 'profile_background_image_url_https': 'https://pbs.twimg.com/profile_background_images/530021613/trump_scotland__43_of_70_cc.jpg', 'utc_offset': -14400, 'follow_request_sent': False, 'verified': True, 'has_extended_profile': False, 'description': '#MakeAmericaGreatAgain #Trump2016 #Instagram: https://t.co/as4SAY5Ycm #Facebook: https://t.co/GZguNlvpzM', 'name': 'Donald J. Trump', 'profile_background_color': '6D5C18', 'profile_use_background_image': True, 'profile_background_image_url': 'http://pbs.twimg.com/profile_background_images/530021613/trump_scotland__43_of_70_cc.jpg', 'following': False, 'id': 25073877, 'profile_sidebar_fill_color': 'C5CEC0', 'profile_background_tile': True, 'id_str': '25073877', 'created_at': 'Wed Mar 18 13:46:38 +0000 2009', 'statuses_count': 32378, 'default_profile_image': False}, 'in_reply_to_status_id_str': None, 'retweet_count': 2915, 'contributors': None, 'retweeted': False, 'favorite_count': 8249, 'id': 704440884029493248, 'id_str': '704440884029493248', 'geo': None, 'in_reply_to_user_id': None}\n"
     ]
    }
   ],
   "source": [
    "# \"data\" es una lista, donde cada elemento de la lista es un \"tweet\"\n",
    "\n",
    "primer_tweet = data[0]\n",
    "\n",
    "print(primer_tweet)"
   ]
  },
  {
   "cell_type": "markdown",
   "metadata": {},
   "source": [
    "¿cómo podriamos ver la información del diccionario un poco más \"ordenada\"? Hint: los diccionarios tienen una función llamada \"items()\", que nos permite iterar sobre los pares (key,val) del diccionario"
   ]
  },
  {
   "cell_type": "code",
   "execution_count": 20,
   "metadata": {
    "collapsed": false,
    "scrolled": true
   },
   "outputs": [
    {
     "name": "stdout",
     "output_type": "stream",
     "text": [
      "Llave: entities\n",
      "Valor: {'user_mentions': [], 'hashtags': [{'indices': [87, 92], 'text': 'MAGA'}], 'media': [{'id_str': '760293732457545728', 'type': 'photo', 'id': 760293732457545728, 'display_url': 'pic.twitter.com/RbuXfDZ5w9', 'media_url': 'http://pbs.twimg.com/media/Co0bHxgWgAAfEcg.jpg', 'sizes': {'thumb': {'h': 150, 'resize': 'crop', 'w': 150}, 'large': {'h': 1200, 'resize': 'fit', 'w': 1200}, 'small': {'h': 680, 'resize': 'fit', 'w': 680}, 'medium': {'h': 1200, 'resize': 'fit', 'w': 1200}}, 'expanded_url': 'http://twitter.com/realDonaldTrump/status/760293742381244416/photo/1', 'url': 'https://t.co/RbuXfDZ5w9', 'media_url_https': 'https://pbs.twimg.com/media/Co0bHxgWgAAfEcg.jpg', 'indices': [93, 116]}], 'symbols': [], 'urls': []}\n",
      "\n",
      "Llave: lang\n",
      "Valor: en\n",
      "\n",
      "Llave: coordinates\n",
      "Valor: None\n",
      "\n",
      "Llave: is_quote_status\n",
      "Valor: False\n",
      "\n",
      "Llave: favorited\n",
      "Valor: False\n",
      "\n",
      "Llave: place\n",
      "Valor: None\n",
      "\n",
      "Llave: created_at\n",
      "Valor: Tue Aug 02 01:58:48 +0000 2016\n",
      "\n",
      "Llave: retweeted\n",
      "Valor: False\n",
      "\n",
      "Llave: source\n",
      "Valor: <a href=\"http://twitter.com/download/iphone\" rel=\"nofollow\">Twitter for iPhone</a>\n",
      "\n",
      "Llave: in_reply_to_screen_name\n",
      "Valor: None\n",
      "\n",
      "Llave: text\n",
      "Valor: Just leaving Mechanicsburg, PA. Incredible crowd-- so enthusiastic! Will be back soon. #MAGA https://t.co/RbuXfDZ5w9\n",
      "\n",
      "Llave: possibly_sensitive\n",
      "Valor: False\n",
      "\n",
      "Llave: in_reply_to_status_id\n",
      "Valor: None\n",
      "\n",
      "Llave: truncated\n",
      "Valor: False\n",
      "\n",
      "Llave: user\n",
      "Valor: {'entities': {'url': {'urls': [{'url': 'https://t.co/mZB2hymxC9', 'indices': [0, 23], 'display_url': 'DonaldJTrump.com', 'expanded_url': 'http://www.DonaldJTrump.com'}]}, 'description': {'urls': []}}, 'lang': 'en', 'friends_count': 44, 'profile_text_color': '333333', 'profile_sidebar_border_color': 'BDDCAD', 'default_profile': False, 'default_profile_image': False, 'verified': True, 'is_translation_enabled': True, 'profile_link_color': '0D5B73', 'url': 'https://t.co/mZB2hymxC9', 'profile_background_image_url_https': 'https://pbs.twimg.com/profile_background_images/530021613/trump_scotland__43_of_70_cc.jpg', 'notifications': False, 'profile_background_color': '6D5C18', 'location': 'New York, NY', 'favourites_count': 34, 'is_translator': False, 'followers_count': 10552062, 'time_zone': 'Eastern Time (US & Canada)', 'follow_request_sent': False, 'profile_banner_url': 'https://pbs.twimg.com/profile_banners/25073877/1468988952', 'screen_name': 'realDonaldTrump', 'listed_count': 37080, 'created_at': 'Wed Mar 18 13:46:38 +0000 2009', 'utc_offset': -14400, 'geo_enabled': True, 'profile_background_image_url': 'http://pbs.twimg.com/profile_background_images/530021613/trump_scotland__43_of_70_cc.jpg', 'description': '#TrumpPence16', 'name': 'Donald J. Trump', 'contributors_enabled': False, 'profile_image_url_https': 'https://pbs.twimg.com/profile_images/1980294624/DJT_Headshot_V2_normal.jpg', 'has_extended_profile': False, 'profile_use_background_image': True, 'id': 25073877, 'profile_sidebar_fill_color': 'C5CEC0', 'profile_background_tile': True, 'id_str': '25073877', 'statuses_count': 32807, 'following': False, 'profile_image_url': 'http://pbs.twimg.com/profile_images/1980294624/DJT_Headshot_V2_normal.jpg', 'protected': False}\n",
      "\n",
      "Llave: in_reply_to_status_id_str\n",
      "Valor: None\n",
      "\n",
      "Llave: retweet_count\n",
      "Valor: 1185\n",
      "\n",
      "Llave: contributors\n",
      "Valor: None\n",
      "\n",
      "Llave: in_reply_to_user_id_str\n",
      "Valor: None\n",
      "\n",
      "Llave: favorite_count\n",
      "Valor: 3576\n",
      "\n",
      "Llave: id\n",
      "Valor: 760293742381244416\n",
      "\n",
      "Llave: id_str\n",
      "Valor: 760293742381244416\n",
      "\n",
      "Llave: geo\n",
      "Valor: None\n",
      "\n",
      "Llave: in_reply_to_user_id\n",
      "Valor: None\n",
      "\n",
      "Llave: extended_entities\n",
      "Valor: {'media': [{'id_str': '760293732457545728', 'type': 'photo', 'id': 760293732457545728, 'display_url': 'pic.twitter.com/RbuXfDZ5w9', 'media_url': 'http://pbs.twimg.com/media/Co0bHxgWgAAfEcg.jpg', 'sizes': {'thumb': {'h': 150, 'resize': 'crop', 'w': 150}, 'large': {'h': 1200, 'resize': 'fit', 'w': 1200}, 'small': {'h': 680, 'resize': 'fit', 'w': 680}, 'medium': {'h': 1200, 'resize': 'fit', 'w': 1200}}, 'expanded_url': 'http://twitter.com/realDonaldTrump/status/760293742381244416/photo/1', 'url': 'https://t.co/RbuXfDZ5w9', 'media_url_https': 'https://pbs.twimg.com/media/Co0bHxgWgAAfEcg.jpg', 'indices': [93, 116]}]}\n",
      "\n"
     ]
    }
   ],
   "source": [
    "# inserte código aquí\n"
   ]
  },
  {
   "cell_type": "markdown",
   "metadata": {},
   "source": [
    "Extraigamos informacion relevante..."
   ]
  },
  {
   "cell_type": "code",
   "execution_count": 23,
   "metadata": {
    "collapsed": false
   },
   "outputs": [
    {
     "name": "stdout",
     "output_type": "stream",
     "text": [
      "Fecha: Tue Aug 02 01:58:48 +0000 2016\n",
      "Texto: Just leaving Mechanicsburg, PA. Incredible crowd-- so enthusiastic! Will be back soon. #MAGA https://t.co/RbuXfDZ5w9\n"
     ]
    }
   ],
   "source": [
    "texto = primer_tweet['text']\n",
    "fecha = primer_tweet['created_at']\n",
    "\n",
    "print('Fecha:', fecha)\n",
    "print('Texto:', texto)"
   ]
  },
  {
   "cell_type": "markdown",
   "metadata": {},
   "source": [
    "### Ejercicios:\n",
    "\n",
    "Calcule:\n",
    "- Largo de tweet\n",
    "- Numero de palabras\n",
    "- Lista de hashtags (palabras que comienzan con el símbolo #)"
   ]
  },
  {
   "cell_type": "code",
   "execution_count": null,
   "metadata": {
    "collapsed": true
   },
   "outputs": [],
   "source": []
  },
  {
   "cell_type": "code",
   "execution_count": null,
   "metadata": {
    "collapsed": true
   },
   "outputs": [],
   "source": []
  },
  {
   "cell_type": "markdown",
   "metadata": {},
   "source": [
    "### Classes"
   ]
  }
 ],
 "metadata": {
  "anaconda-cloud": {},
  "kernelspec": {
   "display_name": "Python [conda env:Anaconda3]",
   "language": "python",
   "name": "conda-env-Anaconda3-py"
  },
  "language_info": {
   "codemirror_mode": {
    "name": "ipython",
    "version": 3
   },
   "file_extension": ".py",
   "mimetype": "text/x-python",
   "name": "python",
   "nbconvert_exporter": "python",
   "pygments_lexer": "ipython3",
   "version": "3.5.5"
  }
 },
 "nbformat": 4,
 "nbformat_minor": 2
}
