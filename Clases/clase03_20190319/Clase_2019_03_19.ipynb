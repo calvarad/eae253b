{
  "nbformat": 4,
  "nbformat_minor": 0,
  "metadata": {
    "colab": {
      "name": "Clase 2019-03-19.ipynb",
      "version": "0.3.2",
      "provenance": [],
      "collapsed_sections": []
    },
    "kernelspec": {
      "display_name": "Python 3",
      "language": "python",
      "name": "python3"
    }
  },
  "cells": [
    {
      "metadata": {
        "id": "I2652AdRpKGv",
        "colab_type": "text"
      },
      "cell_type": "markdown",
      "source": [
        "# 2019-03-19 (Martes)\n",
        "\n",
        "### Anuncios\n",
        "- Lab2 comienza mañana.\n",
        "- Lab3 próxima semana (luego, 2 semanas sin lab)\n",
        "- Próx feriado: 18 abril\n",
        "\n",
        "### Hoy:\n",
        "\n",
        "- Procesos iterativos (for, while). \n",
        "- Control de flujo para dichos procesos (break; continue)\n",
        "- Trabajo con listas (y tuplas)\n",
        "- Listas como pointers\n",
        "\n",
        "---\n",
        "\n",
        "\n"
      ]
    },
    {
      "metadata": {
        "id": "szlkow2_INrx",
        "colab_type": "text"
      },
      "cell_type": "markdown",
      "source": [
        "---\n",
        "\n",
        "### Procesos iterativos: for\n",
        "\n",
        "La instrucción *for* nos permite indicarle al computador que queremos ejecutar multiples veces una cierta sección de nuestro código. La sintaxis más simple sería algo asi:"
      ]
    },
    {
      "metadata": {
        "id": "Bg_dG665INry",
        "colab_type": "code",
        "outputId": "7991b050-306f-426d-92de-225c3cd8cae8",
        "colab": {
          "base_uri": "https://localhost:8080/",
          "height": 158
        }
      },
      "cell_type": "code",
      "source": [
        "lista_numeros = [1, 2, 3, \"hola\", \"si\", [1, 'texto', None] ]\n",
        "\n",
        "for X in lista_numeros:\n",
        "    if type(X) == str:\n",
        "      print('el texto es', X)\n",
        "    elif type(X) == list:\n",
        "      for Y in X:\n",
        "        print('ahora es', Y)\n",
        "    else:\n",
        "      print('el numero es', X)\n",
        "    \n",
        "    "
      ],
      "execution_count": 4,
      "outputs": [
        {
          "output_type": "stream",
          "text": [
            "el numero es 1\n",
            "el numero es 2\n",
            "el numero es 3\n",
            "el texto es hola\n",
            "el texto es si\n",
            "ahora es 1\n",
            "ahora es texto\n",
            "ahora es None\n"
          ],
          "name": "stdout"
        }
      ]
    },
    {
      "metadata": {
        "id": "13TvSEuXINr9",
        "colab_type": "text"
      },
      "cell_type": "markdown",
      "source": [
        "Otro uso común de la instrucción \"for\" es para iterar sobre un rango de valores:"
      ]
    },
    {
      "metadata": {
        "id": "CVqW00HnINr-",
        "colab_type": "code",
        "outputId": "62e262b9-e209-44e2-dc9d-9755d0a256f8",
        "colab": {
          "base_uri": "https://localhost:8080/",
          "height": 175
        }
      },
      "cell_type": "code",
      "source": [
        "for year in range(2010,2019):\n",
        "    print(year)"
      ],
      "execution_count": 7,
      "outputs": [
        {
          "output_type": "stream",
          "text": [
            "2010\n",
            "2011\n",
            "2012\n",
            "2013\n",
            "2014\n",
            "2015\n",
            "2016\n",
            "2017\n",
            "2018\n"
          ],
          "name": "stdout"
        }
      ]
    },
    {
      "metadata": {
        "id": "-jeT4zIeINsB",
        "colab_type": "text"
      },
      "cell_type": "markdown",
      "source": [
        "La función range() es una función de Python que nos permite crear rangos de números con distintos criterios *(start, stop, step)*."
      ]
    },
    {
      "metadata": {
        "id": "U9gSbmsrINsF",
        "colab_type": "code",
        "outputId": "0962afd5-2c40-4c2f-cbb9-7f4d9acc4f7a",
        "colab": {
          "base_uri": "https://localhost:8080/",
          "height": 52
        }
      },
      "cell_type": "code",
      "source": [
        "milista = range(3, 10, 2)\n",
        "\n",
        "print(list(milista))\n",
        "\n",
        "milista[1:2]"
      ],
      "execution_count": 10,
      "outputs": [
        {
          "output_type": "stream",
          "text": [
            "[3, 5, 7, 9]\n"
          ],
          "name": "stdout"
        },
        {
          "output_type": "execute_result",
          "data": {
            "text/plain": [
              "range(5, 7, 2)"
            ]
          },
          "metadata": {
            "tags": []
          },
          "execution_count": 10
        }
      ]
    },
    {
      "metadata": {
        "id": "Gr__VT6NINsJ",
        "colab_type": "text"
      },
      "cell_type": "markdown",
      "source": [
        "Notar que los rangos en Python comienzan en 0. Esta es una particularidad de Python (distinto de R, por ejemplo), donde el índice de comienzo es generalmente la posición \"0\"."
      ]
    },
    {
      "metadata": {
        "id": "unE5V6xkINsK",
        "colab_type": "text"
      },
      "cell_type": "markdown",
      "source": [
        "La clase pasada vimos otro uso de la instrucción *for*, cuando leimos las lineas de un archivo de texto."
      ]
    },
    {
      "metadata": {
        "id": "vztjXVgDINsK",
        "colab_type": "text"
      },
      "cell_type": "markdown",
      "source": [
        "Otra característica interesante de Python es que nos permite asignar múltiples valores en una sola instrucción. Por ejemplo:"
      ]
    },
    {
      "metadata": {
        "id": "bBQ3LUx_INsL",
        "colab_type": "code",
        "outputId": "7f6d0b55-de18-4d82-a9c2-52d0093a8b9c",
        "colab": {}
      },
      "cell_type": "code",
      "source": [
        "n, m, p = 1, 2, 3\n",
        "\n",
        "print(m)"
      ],
      "execution_count": 0,
      "outputs": [
        {
          "output_type": "stream",
          "text": [
            "2\n"
          ],
          "name": "stdout"
        }
      ]
    },
    {
      "metadata": {
        "id": "H_klL7LQINsO",
        "colab_type": "text"
      },
      "cell_type": "markdown",
      "source": [
        "¿Por qué esto es relevante? Este tipo de sintaxis se utiliza mucho en instrucciones \"for\", para \"unpack\" (desempacar?) valores contenidos en algun objeto de datos:"
      ]
    },
    {
      "metadata": {
        "id": "KhhoLbkZINsO",
        "colab_type": "code",
        "outputId": "02b36c36-9b7b-44f4-8640-41555aa77819",
        "colab": {
          "base_uri": "https://localhost:8080/",
          "height": 87
        }
      },
      "cell_type": "code",
      "source": [
        "data = [(2010, 10), (2011, 7), (2012, 40), (2013, 48)]\n",
        "\n",
        "for anio in data:   \n",
        "    print(anio)"
      ],
      "execution_count": 14,
      "outputs": [
        {
          "output_type": "stream",
          "text": [
            "(2010, 10)\n",
            "(2011, 7)\n",
            "(2012, 40)\n",
            "(2013, 48)\n"
          ],
          "name": "stdout"
        }
      ]
    },
    {
      "metadata": {
        "id": "UgFqPA1YINsS",
        "colab_type": "text"
      },
      "cell_type": "markdown",
      "source": [
        "¿qué pasa si tratamos de unpack valores que no calzan con el número de elementos que estamos haciendo mención?"
      ]
    },
    {
      "metadata": {
        "id": "u2nHbpFWINsS",
        "colab_type": "code",
        "outputId": "109dc278-44a9-4221-807c-6c40c010e67c",
        "colab": {}
      },
      "cell_type": "code",
      "source": [
        "for anio, valor1, valor2 in data:\n",
        "    print(anio, valor1, valor2)"
      ],
      "execution_count": 0,
      "outputs": [
        {
          "output_type": "error",
          "ename": "ValueError",
          "evalue": "not enough values to unpack (expected 3, got 2)",
          "traceback": [
            "\u001b[1;31m---------------------------------------------------------------------------\u001b[0m",
            "\u001b[1;31mValueError\u001b[0m                                Traceback (most recent call last)",
            "\u001b[1;32m<ipython-input-19-13f629ad8d8a>\u001b[0m in \u001b[0;36m<module>\u001b[1;34m()\u001b[0m\n\u001b[1;32m----> 1\u001b[1;33m \u001b[1;32mfor\u001b[0m \u001b[0manio\u001b[0m\u001b[1;33m,\u001b[0m \u001b[0mvalor1\u001b[0m\u001b[1;33m,\u001b[0m \u001b[0mvalor2\u001b[0m \u001b[1;32min\u001b[0m \u001b[0mdata\u001b[0m\u001b[1;33m:\u001b[0m\u001b[1;33m\u001b[0m\u001b[0m\n\u001b[0m\u001b[0;32m      2\u001b[0m     \u001b[0mprint\u001b[0m\u001b[1;33m(\u001b[0m\u001b[0manio\u001b[0m\u001b[1;33m,\u001b[0m \u001b[0mvalor1\u001b[0m\u001b[1;33m,\u001b[0m \u001b[0mvalor2\u001b[0m\u001b[1;33m)\u001b[0m\u001b[1;33m\u001b[0m\u001b[0m\n",
            "\u001b[1;31mValueError\u001b[0m: not enough values to unpack (expected 3, got 2)"
          ]
        }
      ]
    },
    {
      "metadata": {
        "id": "h5NIGjHSINsW",
        "colab_type": "text"
      },
      "cell_type": "markdown",
      "source": [
        "### Instrucciones adicionales para instrucciones iterativas: break y continue\n",
        "\n",
        "*break*: permite terminar una iteración  \n",
        "*continue*: permite continuar con la siguiente iteracion, sin ejecutar el resto del código dentro del loop"
      ]
    },
    {
      "metadata": {
        "id": "c1lumVn4INsW",
        "colab_type": "code",
        "outputId": "44b9460c-c210-46c3-acd1-312f7317f934",
        "colab": {}
      },
      "cell_type": "code",
      "source": [
        "for num in range(1, 20):\n",
        "    print(num % 10)\n",
        "    \n",
        "    #me salto todos los impares\n",
        "    if num % 2:\n",
        "        continue\n",
        "    \n",
        "    #si aparece un numero divisible por 10, termino de iterar\n",
        "    if not num % 10:\n",
        "        break\n",
        "        \n",
        "    print(num)"
      ],
      "execution_count": 0,
      "outputs": [
        {
          "output_type": "stream",
          "text": [
            "1\n",
            "2\n",
            "2\n",
            "3\n",
            "4\n",
            "4\n",
            "5\n",
            "6\n",
            "6\n",
            "7\n",
            "8\n",
            "8\n",
            "9\n",
            "0\n"
          ],
          "name": "stdout"
        }
      ]
    },
    {
      "metadata": {
        "id": "JWvX2YTNINsZ",
        "colab_type": "text"
      },
      "cell_type": "markdown",
      "source": [
        "### Procesos iterativos: while\n",
        "\n",
        "*while* es una instrucción similar a *for*, con la diferencia de que ejecuta el código hasta que cierta condicion (o condiciones) se cumplan. La sintaxis más simple sería:"
      ]
    },
    {
      "metadata": {
        "id": "87p8XnyCINsZ",
        "colab_type": "code",
        "outputId": "cb18de9c-a773-404d-835e-170c934dfd97",
        "colab": {
          "base_uri": "https://localhost:8080/",
          "height": 200
        }
      },
      "cell_type": "code",
      "source": [
        "while Z % 7 != 0:\n",
        "  Z += 1\n",
        "print(Z)"
      ],
      "execution_count": 23,
      "outputs": [
        {
          "output_type": "error",
          "ename": "NameError",
          "evalue": "ignored",
          "traceback": [
            "\u001b[0;31m---------------------------------------------------------------------------\u001b[0m",
            "\u001b[0;31mNameError\u001b[0m                                 Traceback (most recent call last)",
            "\u001b[0;32m<ipython-input-23-013cc25fa279>\u001b[0m in \u001b[0;36m<module>\u001b[0;34m()\u001b[0m\n\u001b[0;32m----> 1\u001b[0;31m \u001b[0;32mwhile\u001b[0m \u001b[0mZ\u001b[0m \u001b[0;34m%\u001b[0m \u001b[0;36m7\u001b[0m \u001b[0;34m!=\u001b[0m \u001b[0;36m0\u001b[0m\u001b[0;34m:\u001b[0m\u001b[0;34m\u001b[0m\u001b[0;34m\u001b[0m\u001b[0m\n\u001b[0m\u001b[1;32m      2\u001b[0m   \u001b[0mZ\u001b[0m \u001b[0;34m+=\u001b[0m \u001b[0;36m1\u001b[0m\u001b[0;34m\u001b[0m\u001b[0;34m\u001b[0m\u001b[0m\n\u001b[1;32m      3\u001b[0m \u001b[0mprint\u001b[0m\u001b[0;34m(\u001b[0m\u001b[0mZ\u001b[0m\u001b[0;34m)\u001b[0m\u001b[0;34m\u001b[0m\u001b[0;34m\u001b[0m\u001b[0m\n",
            "\u001b[0;31mNameError\u001b[0m: name 'Z' is not defined"
          ]
        }
      ]
    },
    {
      "metadata": {
        "id": "jDmipKs9INsc",
        "colab_type": "text"
      },
      "cell_type": "markdown",
      "source": [
        "De cierta forma, *while* o *for* son redudantes, en el sentido de que podemos realizar casi las mismas operaciones con uno o con el otro (combinado con instrucciones *break* o *continue*). Sin embargo, la mayoría de los lenguajes de programación consideran ambas instrucciones, ya que en ciertas situaciones se entiende mejor el código si se utiliza uno versus el otro. Además, puede llevar a código más elegante."
      ]
    },
    {
      "metadata": {
        "scrolled": true,
        "id": "v88Pd2GLINsc",
        "colab_type": "code",
        "outputId": "42014097-5e41-406c-f159-150edb180a59",
        "colab": {}
      },
      "cell_type": "code",
      "source": [
        "#aqui seria mejor ocupar *while*\n",
        "for i in range(100000000000000000):\n",
        "    X = 10 / (i + 1) \n",
        "    print(X)\n",
        "    if X < 0.5:\n",
        "        break"
      ],
      "execution_count": 0,
      "outputs": [
        {
          "output_type": "stream",
          "text": [
            "10.0\n",
            "5.0\n",
            "3.3333333333333335\n",
            "2.5\n",
            "2.0\n",
            "1.6666666666666667\n",
            "1.4285714285714286\n",
            "1.25\n",
            "1.1111111111111112\n",
            "1.0\n",
            "0.9090909090909091\n",
            "0.8333333333333334\n",
            "0.7692307692307693\n",
            "0.7142857142857143\n",
            "0.6666666666666666\n",
            "0.625\n",
            "0.5882352941176471\n",
            "0.5555555555555556\n",
            "0.5263157894736842\n",
            "0.5\n",
            "0.47619047619047616\n"
          ],
          "name": "stdout"
        }
      ]
    },
    {
      "metadata": {
        "id": "siAXXvzrINsf",
        "colab_type": "code",
        "outputId": "270c3b49-e260-4a87-8b5d-fc57dd08eb06",
        "colab": {}
      },
      "cell_type": "code",
      "source": [
        "N = 1\n",
        "X = 10 / N\n",
        "while X >= 0.5:\n",
        "    print(X)\n",
        "    N += 1\n",
        "    X = 10 / N "
      ],
      "execution_count": 0,
      "outputs": [
        {
          "output_type": "stream",
          "text": [
            "10.0\n",
            "5.0\n",
            "3.3333333333333335\n",
            "2.5\n",
            "2.0\n",
            "1.6666666666666667\n",
            "1.4285714285714286\n",
            "1.25\n",
            "1.1111111111111112\n",
            "1.0\n",
            "0.9090909090909091\n",
            "0.8333333333333334\n",
            "0.7692307692307693\n",
            "0.7142857142857143\n",
            "0.6666666666666666\n",
            "0.625\n",
            "0.5882352941176471\n",
            "0.5555555555555556\n",
            "0.5263157894736842\n",
            "0.5\n"
          ],
          "name": "stdout"
        }
      ]
    },
    {
      "metadata": {
        "id": "avhQKQh-INsj",
        "colab_type": "text"
      },
      "cell_type": "markdown",
      "source": [
        "Otra sintaxis típica usando \"while\":"
      ]
    },
    {
      "metadata": {
        "id": "091B1PleINsk",
        "colab_type": "code",
        "colab": {}
      },
      "cell_type": "code",
      "source": [
        "while True:\n",
        "    #corre codigo para siempre\n",
        "    \n",
        "    if cond1:\n",
        "        break\n",
        "    \n",
        "    if cond2:\n",
        "        break\n",
        "        \n",
        "    if not cond3:\n",
        "        break\n",
        "        "
      ],
      "execution_count": 0,
      "outputs": []
    },
    {
      "metadata": {
        "id": "4bK0QX8apKG3",
        "colab_type": "text"
      },
      "cell_type": "markdown",
      "source": [
        "## Estructuras de datos II\n",
        "\n",
        "Ya vimos que en Python existen cuatro tipos de variables básicas: Números (int o float), Strings, Booleans y \"Nada\" (None). \n",
        "\n",
        "Además de estos tipos de datos básicos, Python tiene otras estructuras de datos de uso común:\n",
        "\n",
        "- Listas: Contiene un conjunto de elementos indexados del 0 al N\n",
        "- Tuplas: Similar a las listas, pero no son modificables\n",
        "- Diccionarios: Conjunto de elementos (value) indexados por una llave (key). "
      ]
    },
    {
      "metadata": {
        "id": "skeFMxSrpKG7",
        "colab_type": "text"
      },
      "cell_type": "markdown",
      "source": [
        "## Listas\n",
        "\n",
        "Listas es una estructura de datos \"mutable\" y \"ordenada\", que permite guardar objetos dentro de ellas\n",
        "\n",
        "se puede pensar como un vector de objetos (números, texto, bases de datos, otras listas, etc.)\n",
        "\n",
        "Ventajas: cada objeto puede ser distinto\n",
        "\n",
        "Desventajas: ciertas operaciones sobre una lista pueden ser ineficientes, por ejemplo, buscar un elemento puntual dentro de una lista"
      ]
    },
    {
      "metadata": {
        "id": "3r27TD3xyNwr",
        "colab_type": "code",
        "colab": {
          "base_uri": "https://localhost:8080/",
          "height": 67
        },
        "outputId": "a3f1b803-5424-41aa-9175-cb4becbc33ad"
      },
      "cell_type": "code",
      "source": [
        "#ejemplo listas\n",
        "\n",
        "nombres = ['carlos', 'esteban', 'andres']\n",
        "\n",
        "nombres_seleccionados = nombres\n",
        "\n",
        "\n",
        "print('lista original', nombres)\n",
        "\n",
        "nombres[0] = 'juan'\n",
        "\n",
        "print('lista original guardada', nombres_seleccionados)\n",
        "\n",
        "nombres_seleccionados[1] = 'maria'\n",
        "\n",
        "print('lista de maria', nombres)\n"
      ],
      "execution_count": 25,
      "outputs": [
        {
          "output_type": "stream",
          "text": [
            "lista original ['carlos', 'esteban', 'andres']\n",
            "lista original guardada ['juan', 'esteban', 'andres']\n",
            "lista de maria ['juan', 'maria', 'andres']\n"
          ],
          "name": "stdout"
        }
      ]
    },
    {
      "metadata": {
        "id": "Nb9bh2sSpKG-",
        "colab_type": "code",
        "colab": {}
      },
      "cell_type": "code",
      "source": [
        "# listas\n",
        "a = [2, 3, 4, 5]\n",
        "print(a)\n",
        "\n",
        "b = ['texto1', 'texto2', 3, 4]\n",
        "print(b)\n",
        "\n",
        "#operaciones sobre listas\n",
        "\n",
        "#concatenacion\n",
        "c = a + b\n",
        "print(c)\n",
        "\n",
        "#\"slicing\"\n",
        "d = a[1:3]"
      ],
      "execution_count": 0,
      "outputs": []
    },
    {
      "metadata": {
        "id": "vI69QQDlpKHE",
        "colab_type": "text"
      },
      "cell_type": "markdown",
      "source": [
        "### Listas y carga de datos\n",
        "\n",
        "Hay dos operaciones que utilizaremos mucho al trabajar con listas:\n",
        "\n",
        "- Append: agrega elementos al final de la lista\n",
        "- Extend: concatena dos listas"
      ]
    },
    {
      "metadata": {
        "id": "Fe0vjdo2pKHG",
        "colab_type": "code",
        "colab": {}
      },
      "cell_type": "code",
      "source": [
        "lista1 = [1, 2, 3, 4]\n",
        "\n",
        "lista1.append(4)\n",
        "lista1.append(6)\n",
        "\n",
        "print(lista1)"
      ],
      "execution_count": 0,
      "outputs": []
    },
    {
      "metadata": {
        "id": "BQpO6AZipKHK",
        "colab_type": "code",
        "colab": {}
      },
      "cell_type": "code",
      "source": [
        "lista2 = ['perro', 'gato']\n",
        "\n",
        "lista2.extend(lista1)\n",
        "\n",
        "print(lista2)"
      ],
      "execution_count": 0,
      "outputs": []
    },
    {
      "metadata": {
        "id": "Lpa-hUs6pKHO",
        "colab_type": "text"
      },
      "cell_type": "markdown",
      "source": [
        "** Quiz: Qué pasa si hacemos \"append\" en vez de \"extend\"? **\n"
      ]
    },
    {
      "metadata": {
        "id": "X9ek7Gz3pKHc",
        "colab_type": "text"
      },
      "cell_type": "markdown",
      "source": [
        "##### Operaciones útiles sobre listas\n",
        "\n",
        "Las siguientes son funciones \"built-in\" de Python, que se pueden aplicar sobre listas:\n",
        "\n",
        "- len(l1): entrega el largo de la lista l1\n",
        "- max(l1): entrega el maximo. Elementos deben ser comparables\n",
        "- min(l1): entrega el minimo. Elementos deben ser comparables\n",
        "- sum(l1): entrega la suma. Elementos deben ser sumables\n",
        "\n"
      ]
    },
    {
      "metadata": {
        "id": "iDIU4yEipKHd",
        "colab_type": "code",
        "colab": {}
      },
      "cell_type": "code",
      "source": [
        "l1 = [1, 2, 3, 4]\n",
        "l2 = ['a', 'b', 'c']\n",
        "\n",
        "print(len(l1), len(l2))\n",
        "\n",
        "print(max(l1), max(l2))\n",
        "\n",
        "print(min(l1), min(l2))\n",
        "\n",
        "print(sum(l1))\n"
      ],
      "execution_count": 0,
      "outputs": []
    },
    {
      "metadata": {
        "id": "zFO7SzLTpKHg",
        "colab_type": "text"
      },
      "cell_type": "markdown",
      "source": [
        "## Temas adicionales\n",
        "##### Más sobre listas... pointers\n",
        "\n",
        "Es importante tener en cuenta que una variable \"lista\" es un \"pointer\" o \"ubicación\" de los datos en la memoria RAM del computador. Por lo mismo, al hacer referencia a una lista, en general no estamos haciendo referencia a los datos en sí, sino que estamos haciendo una referencia a la ubicación de los datos en la memoria (la \"dirección\" de los datos).\n",
        "\n",
        "Los siguientes ejemplos ilustran lo anterior:"
      ]
    },
    {
      "metadata": {
        "id": "uodtwoX0pKHh",
        "colab_type": "code",
        "colab": {}
      },
      "cell_type": "code",
      "source": [
        "l0 = [5, 2]\n",
        "\n",
        "#creamos una lista \"l1\", donde uno de sus elementos es otra lista \n",
        "l1 = [2, 3, l0]\n",
        "print('l1 original:', l1)\n",
        "\n",
        "#creamos una lista \"l2\", que hace referencia a la lista l1\n",
        "l2 = [l1, 5, 6, 7]\n",
        "print('l2 original:', l2)\n",
        "\n",
        "#l3 es una copia de l1\n",
        "l3 = l1[:]\n",
        "print('l3 original:', l3)\n",
        "print()\n",
        "\n",
        "\n",
        "#qué pasa con l1, l2 y l3 si modificamos un elemento de l1?\n",
        "l1[1] = 8\n",
        "\n",
        "print('al modificar un elemento de l1...')\n",
        "print('l1 nueva:', l1)\n",
        "print('l2 nueva:', l2)\n",
        "print('l3 nueva:', l3)\n",
        "print()\n",
        "\n",
        "#qué pasa ahora si modificamos un elemento de la lista l0?\n",
        "l0[1] = [3]\n",
        "\n",
        "#qué pasa si agregamos nuevos elementos a l1?\n",
        "l1.append(88)\n",
        "\n",
        "print('al agregar elementos a l1...')\n",
        "print('l1 nueva:', l1)\n",
        "print('l2 nueva:', l2)\n",
        "print('l3 nueva:', l3)\n",
        "\n",
        "\n",
        "#QUE PASA SI MOFICAMOS LISTA L0??"
      ],
      "execution_count": 0,
      "outputs": []
    }
  ]
}